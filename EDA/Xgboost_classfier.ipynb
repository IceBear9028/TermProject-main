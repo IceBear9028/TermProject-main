{
 "cells": [
  {
   "cell_type": "code",
   "execution_count": 1,
   "metadata": {
    "collapsed": true
   },
   "outputs": [],
   "source": [
    "import xgboost as xgb\n",
    "from xgboost import plot_importance\n",
    "import pandas as pd"
   ]
  },
  {
   "cell_type": "code",
   "execution_count": 2,
   "outputs": [
    {
     "data": {
      "text/plain": "                  LOT  Injection_Velocity_1  Injection_Velocity_2  \\\n0     180102-021-0101                 0.120                 0.220   \n1     180102-021-0101                 0.106                 0.216   \n2     180102-021-0101                 0.085                 0.222   \n3     180102-021-0101                 0.080                 0.208   \n4     180102-021-0101                 0.106                 0.214   \n...               ...                   ...                   ...   \n8626  180606-022-0101                 0.192                 0.292   \n8627  180606-022-0101                 0.188                 0.294   \n8628  180606-022-0101                 0.194                 0.294   \n8629  180606-022-0101                 0.185                 0.296   \n8630  180606-022-0101                 0.184                 0.290   \n\n      Injection_Velocity_3  Spray_Time_1  Spray_Time_2  Humidity  Temperature  \\\n0                    0.368           0.2           0.3    19.993       15.598   \n1                    0.357           0.2           0.3    18.778       14.997   \n2                    0.371           0.2           0.3    20.330       15.835   \n3                    0.349           0.2           0.3    18.382       14.841   \n4                    0.360           0.2           0.3    18.961       15.028   \n...                    ...           ...           ...       ...          ...   \n8626                 0.408           0.2           0.3    40.344       30.042   \n8627                 0.416           0.2           0.3    38.394       31.105   \n8628                 0.411           0.2           0.3    35.061       31.599   \n8629                 0.416           0.2           0.3    31.495       32.699   \n8630                 0.403           0.2           0.3    41.864       29.721   \n\n      Casting_Pressure  Pressure_Increase_Time  TYPE  \n0                  680                   0.041     0  \n1                  678                   0.043     0  \n2                  680                   0.043     0  \n3                  324                   0.000     0  \n4                  677                   0.043     0  \n...                ...                     ...   ...  \n8626               341                   0.000     2  \n8627               341                   0.000     2  \n8628               341                   0.000     2  \n8629               340                   0.000     2  \n8630               341                   0.000     2  \n\n[8631 rows x 11 columns]",
      "text/html": "<div>\n<style scoped>\n    .dataframe tbody tr th:only-of-type {\n        vertical-align: middle;\n    }\n\n    .dataframe tbody tr th {\n        vertical-align: top;\n    }\n\n    .dataframe thead th {\n        text-align: right;\n    }\n</style>\n<table border=\"1\" class=\"dataframe\">\n  <thead>\n    <tr style=\"text-align: right;\">\n      <th></th>\n      <th>LOT</th>\n      <th>Injection_Velocity_1</th>\n      <th>Injection_Velocity_2</th>\n      <th>Injection_Velocity_3</th>\n      <th>Spray_Time_1</th>\n      <th>Spray_Time_2</th>\n      <th>Humidity</th>\n      <th>Temperature</th>\n      <th>Casting_Pressure</th>\n      <th>Pressure_Increase_Time</th>\n      <th>TYPE</th>\n    </tr>\n  </thead>\n  <tbody>\n    <tr>\n      <th>0</th>\n      <td>180102-021-0101</td>\n      <td>0.120</td>\n      <td>0.220</td>\n      <td>0.368</td>\n      <td>0.2</td>\n      <td>0.3</td>\n      <td>19.993</td>\n      <td>15.598</td>\n      <td>680</td>\n      <td>0.041</td>\n      <td>0</td>\n    </tr>\n    <tr>\n      <th>1</th>\n      <td>180102-021-0101</td>\n      <td>0.106</td>\n      <td>0.216</td>\n      <td>0.357</td>\n      <td>0.2</td>\n      <td>0.3</td>\n      <td>18.778</td>\n      <td>14.997</td>\n      <td>678</td>\n      <td>0.043</td>\n      <td>0</td>\n    </tr>\n    <tr>\n      <th>2</th>\n      <td>180102-021-0101</td>\n      <td>0.085</td>\n      <td>0.222</td>\n      <td>0.371</td>\n      <td>0.2</td>\n      <td>0.3</td>\n      <td>20.330</td>\n      <td>15.835</td>\n      <td>680</td>\n      <td>0.043</td>\n      <td>0</td>\n    </tr>\n    <tr>\n      <th>3</th>\n      <td>180102-021-0101</td>\n      <td>0.080</td>\n      <td>0.208</td>\n      <td>0.349</td>\n      <td>0.2</td>\n      <td>0.3</td>\n      <td>18.382</td>\n      <td>14.841</td>\n      <td>324</td>\n      <td>0.000</td>\n      <td>0</td>\n    </tr>\n    <tr>\n      <th>4</th>\n      <td>180102-021-0101</td>\n      <td>0.106</td>\n      <td>0.214</td>\n      <td>0.360</td>\n      <td>0.2</td>\n      <td>0.3</td>\n      <td>18.961</td>\n      <td>15.028</td>\n      <td>677</td>\n      <td>0.043</td>\n      <td>0</td>\n    </tr>\n    <tr>\n      <th>...</th>\n      <td>...</td>\n      <td>...</td>\n      <td>...</td>\n      <td>...</td>\n      <td>...</td>\n      <td>...</td>\n      <td>...</td>\n      <td>...</td>\n      <td>...</td>\n      <td>...</td>\n      <td>...</td>\n    </tr>\n    <tr>\n      <th>8626</th>\n      <td>180606-022-0101</td>\n      <td>0.192</td>\n      <td>0.292</td>\n      <td>0.408</td>\n      <td>0.2</td>\n      <td>0.3</td>\n      <td>40.344</td>\n      <td>30.042</td>\n      <td>341</td>\n      <td>0.000</td>\n      <td>2</td>\n    </tr>\n    <tr>\n      <th>8627</th>\n      <td>180606-022-0101</td>\n      <td>0.188</td>\n      <td>0.294</td>\n      <td>0.416</td>\n      <td>0.2</td>\n      <td>0.3</td>\n      <td>38.394</td>\n      <td>31.105</td>\n      <td>341</td>\n      <td>0.000</td>\n      <td>2</td>\n    </tr>\n    <tr>\n      <th>8628</th>\n      <td>180606-022-0101</td>\n      <td>0.194</td>\n      <td>0.294</td>\n      <td>0.411</td>\n      <td>0.2</td>\n      <td>0.3</td>\n      <td>35.061</td>\n      <td>31.599</td>\n      <td>341</td>\n      <td>0.000</td>\n      <td>2</td>\n    </tr>\n    <tr>\n      <th>8629</th>\n      <td>180606-022-0101</td>\n      <td>0.185</td>\n      <td>0.296</td>\n      <td>0.416</td>\n      <td>0.2</td>\n      <td>0.3</td>\n      <td>31.495</td>\n      <td>32.699</td>\n      <td>340</td>\n      <td>0.000</td>\n      <td>2</td>\n    </tr>\n    <tr>\n      <th>8630</th>\n      <td>180606-022-0101</td>\n      <td>0.184</td>\n      <td>0.290</td>\n      <td>0.403</td>\n      <td>0.2</td>\n      <td>0.3</td>\n      <td>41.864</td>\n      <td>29.721</td>\n      <td>341</td>\n      <td>0.000</td>\n      <td>2</td>\n    </tr>\n  </tbody>\n</table>\n<p>8631 rows × 11 columns</p>\n</div>"
     },
     "execution_count": 2,
     "metadata": {},
     "output_type": "execute_result"
    }
   ],
   "source": [
    "#상윤님이 보내주는 코드에 이어서 작성해야 함 불러오는 파일은 당연히 원본파일\n",
    "df = pd.read_csv('../data_refine/refine_final.csv')\n",
    "\n",
    "df"
   ],
   "metadata": {
    "collapsed": false
   }
  },
  {
   "cell_type": "code",
   "execution_count": 6,
   "outputs": [],
   "source": [
    "# 학습데이터 셋 분리\n",
    "\n",
    "X = df.drop(columns = ['LOT', 'TYPE'])\n",
    "Y = df[['TYPE']]"
   ],
   "metadata": {
    "collapsed": false
   }
  },
  {
   "cell_type": "code",
   "execution_count": 7,
   "outputs": [
    {
     "data": {
      "text/plain": "      Injection_Velocity_1  Injection_Velocity_2  Injection_Velocity_3  \\\n0                    0.120                 0.220                 0.368   \n1                    0.106                 0.216                 0.357   \n2                    0.085                 0.222                 0.371   \n3                    0.080                 0.208                 0.349   \n4                    0.106                 0.214                 0.360   \n...                    ...                   ...                   ...   \n8626                 0.192                 0.292                 0.408   \n8627                 0.188                 0.294                 0.416   \n8628                 0.194                 0.294                 0.411   \n8629                 0.185                 0.296                 0.416   \n8630                 0.184                 0.290                 0.403   \n\n      Spray_Time_1  Spray_Time_2  Humidity  Temperature  Casting_Pressure  \\\n0              0.2           0.3    19.993       15.598               680   \n1              0.2           0.3    18.778       14.997               678   \n2              0.2           0.3    20.330       15.835               680   \n3              0.2           0.3    18.382       14.841               324   \n4              0.2           0.3    18.961       15.028               677   \n...            ...           ...       ...          ...               ...   \n8626           0.2           0.3    40.344       30.042               341   \n8627           0.2           0.3    38.394       31.105               341   \n8628           0.2           0.3    35.061       31.599               341   \n8629           0.2           0.3    31.495       32.699               340   \n8630           0.2           0.3    41.864       29.721               341   \n\n      Pressure_Increase_Time  \n0                      0.041  \n1                      0.043  \n2                      0.043  \n3                      0.000  \n4                      0.043  \n...                      ...  \n8626                   0.000  \n8627                   0.000  \n8628                   0.000  \n8629                   0.000  \n8630                   0.000  \n\n[8631 rows x 9 columns]",
      "text/html": "<div>\n<style scoped>\n    .dataframe tbody tr th:only-of-type {\n        vertical-align: middle;\n    }\n\n    .dataframe tbody tr th {\n        vertical-align: top;\n    }\n\n    .dataframe thead th {\n        text-align: right;\n    }\n</style>\n<table border=\"1\" class=\"dataframe\">\n  <thead>\n    <tr style=\"text-align: right;\">\n      <th></th>\n      <th>Injection_Velocity_1</th>\n      <th>Injection_Velocity_2</th>\n      <th>Injection_Velocity_3</th>\n      <th>Spray_Time_1</th>\n      <th>Spray_Time_2</th>\n      <th>Humidity</th>\n      <th>Temperature</th>\n      <th>Casting_Pressure</th>\n      <th>Pressure_Increase_Time</th>\n    </tr>\n  </thead>\n  <tbody>\n    <tr>\n      <th>0</th>\n      <td>0.120</td>\n      <td>0.220</td>\n      <td>0.368</td>\n      <td>0.2</td>\n      <td>0.3</td>\n      <td>19.993</td>\n      <td>15.598</td>\n      <td>680</td>\n      <td>0.041</td>\n    </tr>\n    <tr>\n      <th>1</th>\n      <td>0.106</td>\n      <td>0.216</td>\n      <td>0.357</td>\n      <td>0.2</td>\n      <td>0.3</td>\n      <td>18.778</td>\n      <td>14.997</td>\n      <td>678</td>\n      <td>0.043</td>\n    </tr>\n    <tr>\n      <th>2</th>\n      <td>0.085</td>\n      <td>0.222</td>\n      <td>0.371</td>\n      <td>0.2</td>\n      <td>0.3</td>\n      <td>20.330</td>\n      <td>15.835</td>\n      <td>680</td>\n      <td>0.043</td>\n    </tr>\n    <tr>\n      <th>3</th>\n      <td>0.080</td>\n      <td>0.208</td>\n      <td>0.349</td>\n      <td>0.2</td>\n      <td>0.3</td>\n      <td>18.382</td>\n      <td>14.841</td>\n      <td>324</td>\n      <td>0.000</td>\n    </tr>\n    <tr>\n      <th>4</th>\n      <td>0.106</td>\n      <td>0.214</td>\n      <td>0.360</td>\n      <td>0.2</td>\n      <td>0.3</td>\n      <td>18.961</td>\n      <td>15.028</td>\n      <td>677</td>\n      <td>0.043</td>\n    </tr>\n    <tr>\n      <th>...</th>\n      <td>...</td>\n      <td>...</td>\n      <td>...</td>\n      <td>...</td>\n      <td>...</td>\n      <td>...</td>\n      <td>...</td>\n      <td>...</td>\n      <td>...</td>\n    </tr>\n    <tr>\n      <th>8626</th>\n      <td>0.192</td>\n      <td>0.292</td>\n      <td>0.408</td>\n      <td>0.2</td>\n      <td>0.3</td>\n      <td>40.344</td>\n      <td>30.042</td>\n      <td>341</td>\n      <td>0.000</td>\n    </tr>\n    <tr>\n      <th>8627</th>\n      <td>0.188</td>\n      <td>0.294</td>\n      <td>0.416</td>\n      <td>0.2</td>\n      <td>0.3</td>\n      <td>38.394</td>\n      <td>31.105</td>\n      <td>341</td>\n      <td>0.000</td>\n    </tr>\n    <tr>\n      <th>8628</th>\n      <td>0.194</td>\n      <td>0.294</td>\n      <td>0.411</td>\n      <td>0.2</td>\n      <td>0.3</td>\n      <td>35.061</td>\n      <td>31.599</td>\n      <td>341</td>\n      <td>0.000</td>\n    </tr>\n    <tr>\n      <th>8629</th>\n      <td>0.185</td>\n      <td>0.296</td>\n      <td>0.416</td>\n      <td>0.2</td>\n      <td>0.3</td>\n      <td>31.495</td>\n      <td>32.699</td>\n      <td>340</td>\n      <td>0.000</td>\n    </tr>\n    <tr>\n      <th>8630</th>\n      <td>0.184</td>\n      <td>0.290</td>\n      <td>0.403</td>\n      <td>0.2</td>\n      <td>0.3</td>\n      <td>41.864</td>\n      <td>29.721</td>\n      <td>341</td>\n      <td>0.000</td>\n    </tr>\n  </tbody>\n</table>\n<p>8631 rows × 9 columns</p>\n</div>"
     },
     "execution_count": 7,
     "metadata": {},
     "output_type": "execute_result"
    }
   ],
   "source": [
    "X"
   ],
   "metadata": {
    "collapsed": false
   }
  },
  {
   "cell_type": "code",
   "execution_count": 8,
   "outputs": [
    {
     "data": {
      "text/plain": "      TYPE\n0        0\n1        0\n2        0\n3        0\n4        0\n...    ...\n8626     2\n8627     2\n8628     2\n8629     2\n8630     2\n\n[8631 rows x 1 columns]",
      "text/html": "<div>\n<style scoped>\n    .dataframe tbody tr th:only-of-type {\n        vertical-align: middle;\n    }\n\n    .dataframe tbody tr th {\n        vertical-align: top;\n    }\n\n    .dataframe thead th {\n        text-align: right;\n    }\n</style>\n<table border=\"1\" class=\"dataframe\">\n  <thead>\n    <tr style=\"text-align: right;\">\n      <th></th>\n      <th>TYPE</th>\n    </tr>\n  </thead>\n  <tbody>\n    <tr>\n      <th>0</th>\n      <td>0</td>\n    </tr>\n    <tr>\n      <th>1</th>\n      <td>0</td>\n    </tr>\n    <tr>\n      <th>2</th>\n      <td>0</td>\n    </tr>\n    <tr>\n      <th>3</th>\n      <td>0</td>\n    </tr>\n    <tr>\n      <th>4</th>\n      <td>0</td>\n    </tr>\n    <tr>\n      <th>...</th>\n      <td>...</td>\n    </tr>\n    <tr>\n      <th>8626</th>\n      <td>2</td>\n    </tr>\n    <tr>\n      <th>8627</th>\n      <td>2</td>\n    </tr>\n    <tr>\n      <th>8628</th>\n      <td>2</td>\n    </tr>\n    <tr>\n      <th>8629</th>\n      <td>2</td>\n    </tr>\n    <tr>\n      <th>8630</th>\n      <td>2</td>\n    </tr>\n  </tbody>\n</table>\n<p>8631 rows × 1 columns</p>\n</div>"
     },
     "execution_count": 8,
     "metadata": {},
     "output_type": "execute_result"
    }
   ],
   "source": [
    "Y"
   ],
   "metadata": {
    "collapsed": false
   }
  },
  {
   "cell_type": "code",
   "execution_count": 9,
   "outputs": [],
   "source": [
    "from sklearn.model_selection import train_test_split\n",
    "\n",
    "tr_x, te_x, tr_y, te_y = \\\n",
    "    train_test_split(X, Y, test_size=0.3, random_state=1234)"
   ],
   "metadata": {
    "collapsed": false
   }
  },
  {
   "cell_type": "markdown",
   "source": [
    "## 1. random state 로 데이터 학습"
   ],
   "metadata": {
    "collapsed": false
   }
  },
  {
   "cell_type": "code",
   "execution_count": 17,
   "outputs": [],
   "source": [
    "params = { 'max_depth':3,\n",
    "           'eta': 0.1,\n",
    "           'objective':'multi:softmax',\n",
    "           'eval_metric':'error : Binary classification error rate (0.5 threshold)'}\n",
    "num_rounds = 400\n",
    "\n",
    "# train 데이터 셋은 ‘train’ , evaluation(test) 데이터 셋은 ‘eval’ 로 명기합니다.\n",
    "wlist = [(tr_x, tr_y),(te_x,te_y) ]"
   ],
   "metadata": {
    "collapsed": false
   }
  },
  {
   "cell_type": "code",
   "execution_count": 18,
   "outputs": [
    {
     "ename": "XGBoostError",
     "evalue": "[22:07:51] /Users/runner/work/xgboost/xgboost/python-package/build/temp.macosx-10.9-x86_64-cpython-37/xgboost/src/metric/metric.cc:49: Unknown metric function Binary classification error rate (0.5 threshold)\nStack trace:\n  [bt] (0) 1   libxgboost.dylib                    0x0000000172c68705 dmlc::LogMessageFatal::~LogMessageFatal() + 117\n  [bt] (1) 2   libxgboost.dylib                    0x0000000172d7bd4b xgboost::Metric::Create(std::__1::basic_string<char, std::__1::char_traits<char>, std::__1::allocator<char> > const&, xgboost::GenericParameter const*) + 139\n  [bt] (2) 3   libxgboost.dylib                    0x0000000172d47c2d xgboost::LearnerConfiguration::ConfigureMetrics(std::__1::vector<std::__1::pair<std::__1::basic_string<char, std::__1::char_traits<char>, std::__1::allocator<char> >, std::__1::basic_string<char, std::__1::char_traits<char>, std::__1::allocator<char> > >, std::__1::allocator<std::__1::pair<std::__1::basic_string<char, std::__1::char_traits<char>, std::__1::allocator<char> >, std::__1::basic_string<char, std::__1::char_traits<char>, std::__1::allocator<char> > > > > const&) + 157\n  [bt] (3) 4   libxgboost.dylib                    0x0000000172d3c210 xgboost::LearnerConfiguration::Configure() + 1216\n  [bt] (4) 5   libxgboost.dylib                    0x0000000172c6bde6 XGBoosterBoostedRounds + 102\n  [bt] (5) 6   libffi.7.dylib                      0x000000010136aead ffi_call_unix64 + 85\n  [bt] (6) 7   ???                                 0x00007ff7bf135580 0x0 + 140702039364992\n\n",
     "output_type": "error",
     "traceback": [
      "\u001B[0;31m---------------------------------------------------------------------------\u001B[0m",
      "\u001B[0;31mXGBoostError\u001B[0m                              Traceback (most recent call last)",
      "\u001B[0;32m/var/folders/rz/24pnnlk152d2cvbbl1kmpd_80000gn/T/ipykernel_67803/1170659437.py\u001B[0m in \u001B[0;36m<module>\u001B[0;34m\u001B[0m\n\u001B[1;32m      5\u001B[0m                               \u001B[0meval_metric\u001B[0m \u001B[0;34m=\u001B[0m \u001B[0;34m'Binary classification error rate (0.5 threshold)'\u001B[0m\u001B[0;34m\u001B[0m\u001B[0;34m\u001B[0m\u001B[0m\n\u001B[1;32m      6\u001B[0m                               )\n\u001B[0;32m----> 7\u001B[0;31m \u001B[0mxgb_model\u001B[0m\u001B[0;34m.\u001B[0m\u001B[0mfit\u001B[0m\u001B[0;34m(\u001B[0m\u001B[0mtr_x\u001B[0m\u001B[0;34m,\u001B[0m \u001B[0mtr_y\u001B[0m\u001B[0;34m,\u001B[0m \u001B[0mverbose\u001B[0m \u001B[0;34m=\u001B[0m \u001B[0;36m1\u001B[0m\u001B[0;34m,\u001B[0m \u001B[0meval_set\u001B[0m \u001B[0;34m=\u001B[0m \u001B[0mwlist\u001B[0m\u001B[0;34m)\u001B[0m\u001B[0;34m\u001B[0m\u001B[0;34m\u001B[0m\u001B[0m\n\u001B[0m\u001B[1;32m      8\u001B[0m \u001B[0;34m\u001B[0m\u001B[0m\n\u001B[1;32m      9\u001B[0m \u001B[0;31m# xgboost는 결과가 아닌, 결과를 추정하는 확률로 값이 반환한다.\u001B[0m\u001B[0;34m\u001B[0m\u001B[0;34m\u001B[0m\u001B[0;34m\u001B[0m\u001B[0m\n",
      "\u001B[0;32m~/miniconda3/lib/python3.7/site-packages/xgboost/core.py\u001B[0m in \u001B[0;36minner_f\u001B[0;34m(*args, **kwargs)\u001B[0m\n\u001B[1;32m    573\u001B[0m         \u001B[0;32mfor\u001B[0m \u001B[0mk\u001B[0m\u001B[0;34m,\u001B[0m \u001B[0marg\u001B[0m \u001B[0;32min\u001B[0m \u001B[0mzip\u001B[0m\u001B[0;34m(\u001B[0m\u001B[0msig\u001B[0m\u001B[0;34m.\u001B[0m\u001B[0mparameters\u001B[0m\u001B[0;34m,\u001B[0m \u001B[0margs\u001B[0m\u001B[0;34m)\u001B[0m\u001B[0;34m:\u001B[0m\u001B[0;34m\u001B[0m\u001B[0;34m\u001B[0m\u001B[0m\n\u001B[1;32m    574\u001B[0m             \u001B[0mkwargs\u001B[0m\u001B[0;34m[\u001B[0m\u001B[0mk\u001B[0m\u001B[0;34m]\u001B[0m \u001B[0;34m=\u001B[0m \u001B[0marg\u001B[0m\u001B[0;34m\u001B[0m\u001B[0;34m\u001B[0m\u001B[0m\n\u001B[0;32m--> 575\u001B[0;31m         \u001B[0;32mreturn\u001B[0m \u001B[0mf\u001B[0m\u001B[0;34m(\u001B[0m\u001B[0;34m**\u001B[0m\u001B[0mkwargs\u001B[0m\u001B[0;34m)\u001B[0m\u001B[0;34m\u001B[0m\u001B[0;34m\u001B[0m\u001B[0m\n\u001B[0m\u001B[1;32m    576\u001B[0m \u001B[0;34m\u001B[0m\u001B[0m\n\u001B[1;32m    577\u001B[0m     \u001B[0;32mreturn\u001B[0m \u001B[0minner_f\u001B[0m\u001B[0;34m\u001B[0m\u001B[0;34m\u001B[0m\u001B[0m\n",
      "\u001B[0;32m~/miniconda3/lib/python3.7/site-packages/xgboost/sklearn.py\u001B[0m in \u001B[0;36mfit\u001B[0;34m(self, X, y, sample_weight, base_margin, eval_set, eval_metric, early_stopping_rounds, verbose, xgb_model, sample_weight_eval_set, base_margin_eval_set, feature_weights, callbacks)\u001B[0m\n\u001B[1;32m   1409\u001B[0m             \u001B[0mverbose_eval\u001B[0m\u001B[0;34m=\u001B[0m\u001B[0mverbose\u001B[0m\u001B[0;34m,\u001B[0m\u001B[0;34m\u001B[0m\u001B[0;34m\u001B[0m\u001B[0m\n\u001B[1;32m   1410\u001B[0m             \u001B[0mxgb_model\u001B[0m\u001B[0;34m=\u001B[0m\u001B[0mmodel\u001B[0m\u001B[0;34m,\u001B[0m\u001B[0;34m\u001B[0m\u001B[0;34m\u001B[0m\u001B[0m\n\u001B[0;32m-> 1411\u001B[0;31m             \u001B[0mcallbacks\u001B[0m\u001B[0;34m=\u001B[0m\u001B[0mcallbacks\u001B[0m\u001B[0;34m,\u001B[0m\u001B[0;34m\u001B[0m\u001B[0;34m\u001B[0m\u001B[0m\n\u001B[0m\u001B[1;32m   1412\u001B[0m         )\n\u001B[1;32m   1413\u001B[0m \u001B[0;34m\u001B[0m\u001B[0m\n",
      "\u001B[0;32m~/miniconda3/lib/python3.7/site-packages/xgboost/core.py\u001B[0m in \u001B[0;36minner_f\u001B[0;34m(*args, **kwargs)\u001B[0m\n\u001B[1;32m    573\u001B[0m         \u001B[0;32mfor\u001B[0m \u001B[0mk\u001B[0m\u001B[0;34m,\u001B[0m \u001B[0marg\u001B[0m \u001B[0;32min\u001B[0m \u001B[0mzip\u001B[0m\u001B[0;34m(\u001B[0m\u001B[0msig\u001B[0m\u001B[0;34m.\u001B[0m\u001B[0mparameters\u001B[0m\u001B[0;34m,\u001B[0m \u001B[0margs\u001B[0m\u001B[0;34m)\u001B[0m\u001B[0;34m:\u001B[0m\u001B[0;34m\u001B[0m\u001B[0;34m\u001B[0m\u001B[0m\n\u001B[1;32m    574\u001B[0m             \u001B[0mkwargs\u001B[0m\u001B[0;34m[\u001B[0m\u001B[0mk\u001B[0m\u001B[0;34m]\u001B[0m \u001B[0;34m=\u001B[0m \u001B[0marg\u001B[0m\u001B[0;34m\u001B[0m\u001B[0;34m\u001B[0m\u001B[0m\n\u001B[0;32m--> 575\u001B[0;31m         \u001B[0;32mreturn\u001B[0m \u001B[0mf\u001B[0m\u001B[0;34m(\u001B[0m\u001B[0;34m**\u001B[0m\u001B[0mkwargs\u001B[0m\u001B[0;34m)\u001B[0m\u001B[0;34m\u001B[0m\u001B[0;34m\u001B[0m\u001B[0m\n\u001B[0m\u001B[1;32m    576\u001B[0m \u001B[0;34m\u001B[0m\u001B[0m\n\u001B[1;32m    577\u001B[0m     \u001B[0;32mreturn\u001B[0m \u001B[0minner_f\u001B[0m\u001B[0;34m\u001B[0m\u001B[0;34m\u001B[0m\u001B[0m\n",
      "\u001B[0;32m~/miniconda3/lib/python3.7/site-packages/xgboost/training.py\u001B[0m in \u001B[0;36mtrain\u001B[0;34m(params, dtrain, num_boost_round, evals, obj, feval, maximize, early_stopping_rounds, evals_result, verbose_eval, xgb_model, callbacks, custom_metric)\u001B[0m\n\u001B[1;32m    174\u001B[0m     )\n\u001B[1;32m    175\u001B[0m \u001B[0;34m\u001B[0m\u001B[0m\n\u001B[0;32m--> 176\u001B[0;31m     \u001B[0mbst\u001B[0m \u001B[0;34m=\u001B[0m \u001B[0mcb_container\u001B[0m\u001B[0;34m.\u001B[0m\u001B[0mbefore_training\u001B[0m\u001B[0;34m(\u001B[0m\u001B[0mbst\u001B[0m\u001B[0;34m)\u001B[0m\u001B[0;34m\u001B[0m\u001B[0;34m\u001B[0m\u001B[0m\n\u001B[0m\u001B[1;32m    177\u001B[0m \u001B[0;34m\u001B[0m\u001B[0m\n\u001B[1;32m    178\u001B[0m     \u001B[0;32mfor\u001B[0m \u001B[0mi\u001B[0m \u001B[0;32min\u001B[0m \u001B[0mrange\u001B[0m\u001B[0;34m(\u001B[0m\u001B[0mstart_iteration\u001B[0m\u001B[0;34m,\u001B[0m \u001B[0mnum_boost_round\u001B[0m\u001B[0;34m)\u001B[0m\u001B[0;34m:\u001B[0m\u001B[0;34m\u001B[0m\u001B[0;34m\u001B[0m\u001B[0m\n",
      "\u001B[0;32m~/miniconda3/lib/python3.7/site-packages/xgboost/callback.py\u001B[0m in \u001B[0;36mbefore_training\u001B[0;34m(self, model)\u001B[0m\n\u001B[1;32m    145\u001B[0m         \u001B[0;34m'''Function called before training.'''\u001B[0m\u001B[0;34m\u001B[0m\u001B[0;34m\u001B[0m\u001B[0m\n\u001B[1;32m    146\u001B[0m         \u001B[0;32mfor\u001B[0m \u001B[0mc\u001B[0m \u001B[0;32min\u001B[0m \u001B[0mself\u001B[0m\u001B[0;34m.\u001B[0m\u001B[0mcallbacks\u001B[0m\u001B[0;34m:\u001B[0m\u001B[0;34m\u001B[0m\u001B[0;34m\u001B[0m\u001B[0m\n\u001B[0;32m--> 147\u001B[0;31m             \u001B[0mmodel\u001B[0m \u001B[0;34m=\u001B[0m \u001B[0mc\u001B[0m\u001B[0;34m.\u001B[0m\u001B[0mbefore_training\u001B[0m\u001B[0;34m(\u001B[0m\u001B[0mmodel\u001B[0m\u001B[0;34m=\u001B[0m\u001B[0mmodel\u001B[0m\u001B[0;34m)\u001B[0m\u001B[0;34m\u001B[0m\u001B[0;34m\u001B[0m\u001B[0m\n\u001B[0m\u001B[1;32m    148\u001B[0m             \u001B[0mmsg\u001B[0m \u001B[0;34m=\u001B[0m \u001B[0;34m'before_training should return the model'\u001B[0m\u001B[0;34m\u001B[0m\u001B[0;34m\u001B[0m\u001B[0m\n\u001B[1;32m    149\u001B[0m             \u001B[0;32mif\u001B[0m \u001B[0mself\u001B[0m\u001B[0;34m.\u001B[0m\u001B[0mis_cv\u001B[0m\u001B[0;34m:\u001B[0m\u001B[0;34m\u001B[0m\u001B[0;34m\u001B[0m\u001B[0m\n",
      "\u001B[0;32m~/miniconda3/lib/python3.7/site-packages/xgboost/callback.py\u001B[0m in \u001B[0;36mbefore_training\u001B[0;34m(self, model)\u001B[0m\n\u001B[1;32m    347\u001B[0m \u001B[0;34m\u001B[0m\u001B[0m\n\u001B[1;32m    348\u001B[0m     \u001B[0;32mdef\u001B[0m \u001B[0mbefore_training\u001B[0m\u001B[0;34m(\u001B[0m\u001B[0mself\u001B[0m\u001B[0;34m,\u001B[0m \u001B[0mmodel\u001B[0m\u001B[0;34m)\u001B[0m\u001B[0;34m:\u001B[0m\u001B[0;34m\u001B[0m\u001B[0;34m\u001B[0m\u001B[0m\n\u001B[0;32m--> 349\u001B[0;31m         \u001B[0mself\u001B[0m\u001B[0;34m.\u001B[0m\u001B[0mstarting_round\u001B[0m \u001B[0;34m=\u001B[0m \u001B[0mmodel\u001B[0m\u001B[0;34m.\u001B[0m\u001B[0mnum_boosted_rounds\u001B[0m\u001B[0;34m(\u001B[0m\u001B[0;34m)\u001B[0m\u001B[0;34m\u001B[0m\u001B[0;34m\u001B[0m\u001B[0m\n\u001B[0m\u001B[1;32m    350\u001B[0m         \u001B[0;32mreturn\u001B[0m \u001B[0mmodel\u001B[0m\u001B[0;34m\u001B[0m\u001B[0;34m\u001B[0m\u001B[0m\n\u001B[1;32m    351\u001B[0m \u001B[0;34m\u001B[0m\u001B[0m\n",
      "\u001B[0;32m~/miniconda3/lib/python3.7/site-packages/xgboost/core.py\u001B[0m in \u001B[0;36mnum_boosted_rounds\u001B[0;34m(self)\u001B[0m\n\u001B[1;32m   2317\u001B[0m         \u001B[0mrounds\u001B[0m \u001B[0;34m=\u001B[0m \u001B[0mctypes\u001B[0m\u001B[0;34m.\u001B[0m\u001B[0mc_int\u001B[0m\u001B[0;34m(\u001B[0m\u001B[0;34m)\u001B[0m\u001B[0;34m\u001B[0m\u001B[0;34m\u001B[0m\u001B[0m\n\u001B[1;32m   2318\u001B[0m         \u001B[0;32massert\u001B[0m \u001B[0mself\u001B[0m\u001B[0;34m.\u001B[0m\u001B[0mhandle\u001B[0m \u001B[0;32mis\u001B[0m \u001B[0;32mnot\u001B[0m \u001B[0;32mNone\u001B[0m\u001B[0;34m\u001B[0m\u001B[0;34m\u001B[0m\u001B[0m\n\u001B[0;32m-> 2319\u001B[0;31m         \u001B[0m_check_call\u001B[0m\u001B[0;34m(\u001B[0m\u001B[0m_LIB\u001B[0m\u001B[0;34m.\u001B[0m\u001B[0mXGBoosterBoostedRounds\u001B[0m\u001B[0;34m(\u001B[0m\u001B[0mself\u001B[0m\u001B[0;34m.\u001B[0m\u001B[0mhandle\u001B[0m\u001B[0;34m,\u001B[0m \u001B[0mctypes\u001B[0m\u001B[0;34m.\u001B[0m\u001B[0mbyref\u001B[0m\u001B[0;34m(\u001B[0m\u001B[0mrounds\u001B[0m\u001B[0;34m)\u001B[0m\u001B[0;34m)\u001B[0m\u001B[0;34m)\u001B[0m\u001B[0;34m\u001B[0m\u001B[0;34m\u001B[0m\u001B[0m\n\u001B[0m\u001B[1;32m   2320\u001B[0m         \u001B[0;32mreturn\u001B[0m \u001B[0mrounds\u001B[0m\u001B[0;34m.\u001B[0m\u001B[0mvalue\u001B[0m\u001B[0;34m\u001B[0m\u001B[0;34m\u001B[0m\u001B[0m\n\u001B[1;32m   2321\u001B[0m \u001B[0;34m\u001B[0m\u001B[0m\n",
      "\u001B[0;32m~/miniconda3/lib/python3.7/site-packages/xgboost/core.py\u001B[0m in \u001B[0;36m_check_call\u001B[0;34m(ret)\u001B[0m\n\u001B[1;32m    244\u001B[0m     \"\"\"\n\u001B[1;32m    245\u001B[0m     \u001B[0;32mif\u001B[0m \u001B[0mret\u001B[0m \u001B[0;34m!=\u001B[0m \u001B[0;36m0\u001B[0m\u001B[0;34m:\u001B[0m\u001B[0;34m\u001B[0m\u001B[0;34m\u001B[0m\u001B[0m\n\u001B[0;32m--> 246\u001B[0;31m         \u001B[0;32mraise\u001B[0m \u001B[0mXGBoostError\u001B[0m\u001B[0;34m(\u001B[0m\u001B[0mpy_str\u001B[0m\u001B[0;34m(\u001B[0m\u001B[0m_LIB\u001B[0m\u001B[0;34m.\u001B[0m\u001B[0mXGBGetLastError\u001B[0m\u001B[0;34m(\u001B[0m\u001B[0;34m)\u001B[0m\u001B[0;34m)\u001B[0m\u001B[0;34m)\u001B[0m\u001B[0;34m\u001B[0m\u001B[0;34m\u001B[0m\u001B[0m\n\u001B[0m\u001B[1;32m    247\u001B[0m \u001B[0;34m\u001B[0m\u001B[0m\n\u001B[1;32m    248\u001B[0m \u001B[0;34m\u001B[0m\u001B[0m\n",
      "\u001B[0;31mXGBoostError\u001B[0m: [22:07:51] /Users/runner/work/xgboost/xgboost/python-package/build/temp.macosx-10.9-x86_64-cpython-37/xgboost/src/metric/metric.cc:49: Unknown metric function Binary classification error rate (0.5 threshold)\nStack trace:\n  [bt] (0) 1   libxgboost.dylib                    0x0000000172c68705 dmlc::LogMessageFatal::~LogMessageFatal() + 117\n  [bt] (1) 2   libxgboost.dylib                    0x0000000172d7bd4b xgboost::Metric::Create(std::__1::basic_string<char, std::__1::char_traits<char>, std::__1::allocator<char> > const&, xgboost::GenericParameter const*) + 139\n  [bt] (2) 3   libxgboost.dylib                    0x0000000172d47c2d xgboost::LearnerConfiguration::ConfigureMetrics(std::__1::vector<std::__1::pair<std::__1::basic_string<char, std::__1::char_traits<char>, std::__1::allocator<char> >, std::__1::basic_string<char, std::__1::char_traits<char>, std::__1::allocator<char> > >, std::__1::allocator<std::__1::pair<std::__1::basic_string<char, std::__1::char_traits<char>, std::__1::allocator<char> >, std::__1::basic_string<char, std::__1::char_traits<char>, std::__1::allocator<char> > > > > const&) + 157\n  [bt] (3) 4   libxgboost.dylib                    0x0000000172d3c210 xgboost::LearnerConfiguration::Configure() + 1216\n  [bt] (4) 5   libxgboost.dylib                    0x0000000172c6bde6 XGBoosterBoostedRounds + 102\n  [bt] (5) 6   libffi.7.dylib                      0x000000010136aead ffi_call_unix64 + 85\n  [bt] (6) 7   ???                                 0x00007ff7bf135580 0x0 + 140702039364992\n\n"
     ]
    }
   ],
   "source": [
    "xgb_model = xgb.XGBClassifier(objective = 'multi:softmax',\n",
    "                              num_class = 4,\n",
    "                              missing = 1,\n",
    "                              early_stopping_rounds = 10,\n",
    "                              eval_metric = 'Binary classification error rate (0.5 threshold)'\n",
    "                              )\n",
    "xgb_model.fit(tr_x, tr_y, verbose = 1, eval_set = wlist)\n",
    "\n",
    "# xgboost는 결과가 아닌, 결과를 추정하는 확률로 값이 반환한다.\n",
    "# pred_probs = xgb_model.predict()\n",
    "# pred_probs\n",
    "# preds = [ 1 if x > 0.5 else 0 for x in pred_probs ]\n",
    "\n"
   ],
   "metadata": {
    "collapsed": false
   }
  },
  {
   "cell_type": "markdown",
   "source": [
    "### https://www.kaggle.com/code/emmanuelfwerr/xgboost-multi-class-classification%C3%A5"
   ],
   "metadata": {
    "collapsed": false
   }
  },
  {
   "cell_type": "code",
   "execution_count": null,
   "outputs": [],
   "source": [
    "from sklearn.metrics import confusion_matrix, accuracy_score\n",
    "from sklearn.metrics import precision_score, recall_score\n",
    "from sklearn.metrics import f1_score, roc_auc_score\n",
    "\n",
    "accuracy = accuracy_score()"
   ],
   "metadata": {
    "collapsed": false
   }
  }
 ],
 "metadata": {
  "kernelspec": {
   "display_name": "Python 3",
   "language": "python",
   "name": "python3"
  },
  "language_info": {
   "codemirror_mode": {
    "name": "ipython",
    "version": 2
   },
   "file_extension": ".py",
   "mimetype": "text/x-python",
   "name": "python",
   "nbconvert_exporter": "python",
   "pygments_lexer": "ipython2",
   "version": "2.7.6"
  }
 },
 "nbformat": 4,
 "nbformat_minor": 0
}
