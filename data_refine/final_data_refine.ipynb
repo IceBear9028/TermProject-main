{
 "cells": [
  {
   "cell_type": "code",
   "execution_count": 1,
   "metadata": {
    "collapsed": true
   },
   "outputs": [],
   "source": [
    "import pandas as pd"
   ]
  },
  {
   "cell_type": "code",
   "execution_count": 19,
   "outputs": [
    {
     "data": {
      "text/plain": "                  LOT  Injection_Velocity_1  Injection_Velocity_2  \\\n0     180102-021-0101                 0.120                 0.220   \n1     180102-021-0101                 0.106                 0.216   \n2     180102-021-0101                 0.085                 0.222   \n3     180102-021-0101                 0.080                 0.208   \n4     180102-021-0101                 0.106                 0.214   \n...               ...                   ...                   ...   \n8626  180606-022-0101                 0.192                 0.292   \n8627  180606-022-0101                 0.188                 0.294   \n8628  180606-022-0101                 0.194                 0.294   \n8629  180606-022-0101                 0.185                 0.296   \n8630  180606-022-0101                 0.184                 0.290   \n\n      Injection_Velocity_3  Spray_Time_1  Spray_Time_2  Humidity  Temperature  \\\n0                    0.368           0.2           0.3    19.993       15.598   \n1                    0.357           0.2           0.3    18.778       14.997   \n2                    0.371           0.2           0.3    20.330       15.835   \n3                    0.349           0.2           0.3    18.382       14.841   \n4                    0.360           0.2           0.3    18.961       15.028   \n...                    ...           ...           ...       ...          ...   \n8626                 0.408           0.2           0.3    40.344       30.042   \n8627                 0.416           0.2           0.3    38.394       31.105   \n8628                 0.411           0.2           0.3    35.061       31.599   \n8629                 0.416           0.2           0.3    31.495       32.699   \n8630                 0.403           0.2           0.3    41.864       29.721   \n\n      Casting_Pressure  Pressure_Increase_Time  Short_Shot  Ejection_Pin_Burr  \\\n0                  680                   0.041         3.0                  0   \n1                  678                   0.043         3.0                  0   \n2                  680                   0.043         3.0                  0   \n3                  324                   0.000         3.0                  0   \n4                  677                   0.043         3.0                  0   \n...                ...                     ...         ...                ...   \n8626               341                   0.000        16.0                  0   \n8627               341                   0.000        16.0                  0   \n8628               341                   0.000        16.0                  0   \n8629               340                   0.000        16.0                  0   \n8630               341                   0.000        16.0                  0   \n\n      Soldering  Shrinkage  Stain  Corepin_Soldering  Crack  \n0             0          0      0                  0      0  \n1             0          0      0                  0      0  \n2             0          0      0                  0      0  \n3             0          0      0                  0      0  \n4             0          0      0                  0      0  \n...         ...        ...    ...                ...    ...  \n8626          0          0      0                  0      0  \n8627          0          0      0                  0      0  \n8628          0          0      0                  0      0  \n8629          0          0      0                  0      0  \n8630          0          0      0                  0      0  \n\n[8631 rows x 17 columns]",
      "text/html": "<div>\n<style scoped>\n    .dataframe tbody tr th:only-of-type {\n        vertical-align: middle;\n    }\n\n    .dataframe tbody tr th {\n        vertical-align: top;\n    }\n\n    .dataframe thead th {\n        text-align: right;\n    }\n</style>\n<table border=\"1\" class=\"dataframe\">\n  <thead>\n    <tr style=\"text-align: right;\">\n      <th></th>\n      <th>LOT</th>\n      <th>Injection_Velocity_1</th>\n      <th>Injection_Velocity_2</th>\n      <th>Injection_Velocity_3</th>\n      <th>Spray_Time_1</th>\n      <th>Spray_Time_2</th>\n      <th>Humidity</th>\n      <th>Temperature</th>\n      <th>Casting_Pressure</th>\n      <th>Pressure_Increase_Time</th>\n      <th>Short_Shot</th>\n      <th>Ejection_Pin_Burr</th>\n      <th>Soldering</th>\n      <th>Shrinkage</th>\n      <th>Stain</th>\n      <th>Corepin_Soldering</th>\n      <th>Crack</th>\n    </tr>\n  </thead>\n  <tbody>\n    <tr>\n      <th>0</th>\n      <td>180102-021-0101</td>\n      <td>0.120</td>\n      <td>0.220</td>\n      <td>0.368</td>\n      <td>0.2</td>\n      <td>0.3</td>\n      <td>19.993</td>\n      <td>15.598</td>\n      <td>680</td>\n      <td>0.041</td>\n      <td>3.0</td>\n      <td>0</td>\n      <td>0</td>\n      <td>0</td>\n      <td>0</td>\n      <td>0</td>\n      <td>0</td>\n    </tr>\n    <tr>\n      <th>1</th>\n      <td>180102-021-0101</td>\n      <td>0.106</td>\n      <td>0.216</td>\n      <td>0.357</td>\n      <td>0.2</td>\n      <td>0.3</td>\n      <td>18.778</td>\n      <td>14.997</td>\n      <td>678</td>\n      <td>0.043</td>\n      <td>3.0</td>\n      <td>0</td>\n      <td>0</td>\n      <td>0</td>\n      <td>0</td>\n      <td>0</td>\n      <td>0</td>\n    </tr>\n    <tr>\n      <th>2</th>\n      <td>180102-021-0101</td>\n      <td>0.085</td>\n      <td>0.222</td>\n      <td>0.371</td>\n      <td>0.2</td>\n      <td>0.3</td>\n      <td>20.330</td>\n      <td>15.835</td>\n      <td>680</td>\n      <td>0.043</td>\n      <td>3.0</td>\n      <td>0</td>\n      <td>0</td>\n      <td>0</td>\n      <td>0</td>\n      <td>0</td>\n      <td>0</td>\n    </tr>\n    <tr>\n      <th>3</th>\n      <td>180102-021-0101</td>\n      <td>0.080</td>\n      <td>0.208</td>\n      <td>0.349</td>\n      <td>0.2</td>\n      <td>0.3</td>\n      <td>18.382</td>\n      <td>14.841</td>\n      <td>324</td>\n      <td>0.000</td>\n      <td>3.0</td>\n      <td>0</td>\n      <td>0</td>\n      <td>0</td>\n      <td>0</td>\n      <td>0</td>\n      <td>0</td>\n    </tr>\n    <tr>\n      <th>4</th>\n      <td>180102-021-0101</td>\n      <td>0.106</td>\n      <td>0.214</td>\n      <td>0.360</td>\n      <td>0.2</td>\n      <td>0.3</td>\n      <td>18.961</td>\n      <td>15.028</td>\n      <td>677</td>\n      <td>0.043</td>\n      <td>3.0</td>\n      <td>0</td>\n      <td>0</td>\n      <td>0</td>\n      <td>0</td>\n      <td>0</td>\n      <td>0</td>\n    </tr>\n    <tr>\n      <th>...</th>\n      <td>...</td>\n      <td>...</td>\n      <td>...</td>\n      <td>...</td>\n      <td>...</td>\n      <td>...</td>\n      <td>...</td>\n      <td>...</td>\n      <td>...</td>\n      <td>...</td>\n      <td>...</td>\n      <td>...</td>\n      <td>...</td>\n      <td>...</td>\n      <td>...</td>\n      <td>...</td>\n      <td>...</td>\n    </tr>\n    <tr>\n      <th>8626</th>\n      <td>180606-022-0101</td>\n      <td>0.192</td>\n      <td>0.292</td>\n      <td>0.408</td>\n      <td>0.2</td>\n      <td>0.3</td>\n      <td>40.344</td>\n      <td>30.042</td>\n      <td>341</td>\n      <td>0.000</td>\n      <td>16.0</td>\n      <td>0</td>\n      <td>0</td>\n      <td>0</td>\n      <td>0</td>\n      <td>0</td>\n      <td>0</td>\n    </tr>\n    <tr>\n      <th>8627</th>\n      <td>180606-022-0101</td>\n      <td>0.188</td>\n      <td>0.294</td>\n      <td>0.416</td>\n      <td>0.2</td>\n      <td>0.3</td>\n      <td>38.394</td>\n      <td>31.105</td>\n      <td>341</td>\n      <td>0.000</td>\n      <td>16.0</td>\n      <td>0</td>\n      <td>0</td>\n      <td>0</td>\n      <td>0</td>\n      <td>0</td>\n      <td>0</td>\n    </tr>\n    <tr>\n      <th>8628</th>\n      <td>180606-022-0101</td>\n      <td>0.194</td>\n      <td>0.294</td>\n      <td>0.411</td>\n      <td>0.2</td>\n      <td>0.3</td>\n      <td>35.061</td>\n      <td>31.599</td>\n      <td>341</td>\n      <td>0.000</td>\n      <td>16.0</td>\n      <td>0</td>\n      <td>0</td>\n      <td>0</td>\n      <td>0</td>\n      <td>0</td>\n      <td>0</td>\n    </tr>\n    <tr>\n      <th>8629</th>\n      <td>180606-022-0101</td>\n      <td>0.185</td>\n      <td>0.296</td>\n      <td>0.416</td>\n      <td>0.2</td>\n      <td>0.3</td>\n      <td>31.495</td>\n      <td>32.699</td>\n      <td>340</td>\n      <td>0.000</td>\n      <td>16.0</td>\n      <td>0</td>\n      <td>0</td>\n      <td>0</td>\n      <td>0</td>\n      <td>0</td>\n      <td>0</td>\n    </tr>\n    <tr>\n      <th>8630</th>\n      <td>180606-022-0101</td>\n      <td>0.184</td>\n      <td>0.290</td>\n      <td>0.403</td>\n      <td>0.2</td>\n      <td>0.3</td>\n      <td>41.864</td>\n      <td>29.721</td>\n      <td>341</td>\n      <td>0.000</td>\n      <td>16.0</td>\n      <td>0</td>\n      <td>0</td>\n      <td>0</td>\n      <td>0</td>\n      <td>0</td>\n      <td>0</td>\n    </tr>\n  </tbody>\n</table>\n<p>8631 rows × 17 columns</p>\n</div>"
     },
     "execution_count": 19,
     "metadata": {},
     "output_type": "execute_result"
    }
   ],
   "source": [
    "df = pd.read_csv('../data/die-casting_dataset.csv')\n",
    "\n",
    "df"
   ],
   "metadata": {
    "collapsed": false
   }
  },
  {
   "cell_type": "code",
   "execution_count": 20,
   "outputs": [
    {
     "name": "stdout",
     "output_type": "stream",
     "text": [
      "<class 'pandas.core.frame.DataFrame'>\n",
      "RangeIndex: 8631 entries, 0 to 8630\n",
      "Data columns (total 17 columns):\n",
      " #   Column                  Non-Null Count  Dtype  \n",
      "---  ------                  --------------  -----  \n",
      " 0   LOT                     8631 non-null   object \n",
      " 1   Injection_Velocity_1    8631 non-null   float64\n",
      " 2   Injection_Velocity_2    8631 non-null   float64\n",
      " 3   Injection_Velocity_3    8631 non-null   float64\n",
      " 4   Spray_Time_1            8631 non-null   float64\n",
      " 5   Spray_Time_2            8631 non-null   float64\n",
      " 6   Humidity                8631 non-null   float64\n",
      " 7   Temperature             8631 non-null   float64\n",
      " 8   Casting_Pressure        8631 non-null   int64  \n",
      " 9   Pressure_Increase_Time  8631 non-null   float64\n",
      " 10  Short_Shot              8631 non-null   float64\n",
      " 11  Ejection_Pin_Burr       8631 non-null   int64  \n",
      " 12  Soldering               8631 non-null   int64  \n",
      " 13  Shrinkage               8631 non-null   int64  \n",
      " 14  Stain                   8631 non-null   int64  \n",
      " 15  Corepin_Soldering       8631 non-null   int64  \n",
      " 16  Crack                   8631 non-null   int64  \n",
      "dtypes: float64(9), int64(7), object(1)\n",
      "memory usage: 1.1+ MB\n"
     ]
    }
   ],
   "source": [
    "df.info()"
   ],
   "metadata": {
    "collapsed": false
   }
  },
  {
   "cell_type": "code",
   "execution_count": 21,
   "outputs": [],
   "source": [
    "df['Short_Shot'] = df['Short_Shot'].astype('int')"
   ],
   "metadata": {
    "collapsed": false
   }
  },
  {
   "cell_type": "code",
   "execution_count": 22,
   "outputs": [
    {
     "name": "stdout",
     "output_type": "stream",
     "text": [
      "<class 'pandas.core.frame.DataFrame'>\n",
      "RangeIndex: 8631 entries, 0 to 8630\n",
      "Data columns (total 17 columns):\n",
      " #   Column                  Non-Null Count  Dtype  \n",
      "---  ------                  --------------  -----  \n",
      " 0   LOT                     8631 non-null   object \n",
      " 1   Injection_Velocity_1    8631 non-null   float64\n",
      " 2   Injection_Velocity_2    8631 non-null   float64\n",
      " 3   Injection_Velocity_3    8631 non-null   float64\n",
      " 4   Spray_Time_1            8631 non-null   float64\n",
      " 5   Spray_Time_2            8631 non-null   float64\n",
      " 6   Humidity                8631 non-null   float64\n",
      " 7   Temperature             8631 non-null   float64\n",
      " 8   Casting_Pressure        8631 non-null   int64  \n",
      " 9   Pressure_Increase_Time  8631 non-null   float64\n",
      " 10  Short_Shot              8631 non-null   int64  \n",
      " 11  Ejection_Pin_Burr       8631 non-null   int64  \n",
      " 12  Soldering               8631 non-null   int64  \n",
      " 13  Shrinkage               8631 non-null   int64  \n",
      " 14  Stain                   8631 non-null   int64  \n",
      " 15  Corepin_Soldering       8631 non-null   int64  \n",
      " 16  Crack                   8631 non-null   int64  \n",
      "dtypes: float64(8), int64(8), object(1)\n",
      "memory usage: 1.1+ MB\n"
     ]
    }
   ],
   "source": [
    "df.info()"
   ],
   "metadata": {
    "collapsed": false
   }
  },
  {
   "cell_type": "code",
   "execution_count": 23,
   "outputs": [
    {
     "data": {
      "text/plain": "0      8231\n11      100\n38      100\n10       50\n26       50\n20       50\n103      50\nName: Crack, dtype: int64"
     },
     "execution_count": 23,
     "metadata": {},
     "output_type": "execute_result"
    }
   ],
   "source": [
    "df['Crack'].value_counts()"
   ],
   "metadata": {
    "collapsed": false
   }
  },
  {
   "cell_type": "code",
   "execution_count": 24,
   "outputs": [
    {
     "data": {
      "text/plain": "0      8531\n865      50\n925      50\nName: Ejection_Pin_Burr, dtype: int64"
     },
     "execution_count": 24,
     "metadata": {},
     "output_type": "execute_result"
    }
   ],
   "source": [
    "df['Ejection_Pin_Burr'].value_counts()"
   ],
   "metadata": {
    "collapsed": false
   }
  },
  {
   "cell_type": "code",
   "execution_count": 8,
   "outputs": [],
   "source": [
    "# 전처리할 데이터 하나 만듬\n",
    "df_refine = df.copy()"
   ],
   "metadata": {
    "collapsed": false
   }
  },
  {
   "cell_type": "code",
   "execution_count": 9,
   "outputs": [],
   "source": [
    "# 'Crack', 'Ejection_Pin_Burr'\n",
    "# 다음 2개 칼럼 합쳐서 불량품 1개 이상은 1, 0개는 0으로 처리\n",
    "df_refine['PRESSURE_ERROR_UP'] = df_refine[['Crack', 'Ejection_Pin_Burr']].sum(axis = 'columns')"
   ],
   "metadata": {
    "collapsed": false
   }
  },
  {
   "cell_type": "code",
   "execution_count": 10,
   "outputs": [
    {
     "data": {
      "text/plain": "                  LOT  Injection_Velocity_1  Injection_Velocity_2  \\\n0     180102-021-0101                 0.120                 0.220   \n1     180102-021-0101                 0.106                 0.216   \n2     180102-021-0101                 0.085                 0.222   \n3     180102-021-0101                 0.080                 0.208   \n4     180102-021-0101                 0.106                 0.214   \n...               ...                   ...                   ...   \n8626  180606-022-0101                 0.192                 0.292   \n8627  180606-022-0101                 0.188                 0.294   \n8628  180606-022-0101                 0.194                 0.294   \n8629  180606-022-0101                 0.185                 0.296   \n8630  180606-022-0101                 0.184                 0.290   \n\n      Injection_Velocity_3  Spray_Time_1  Spray_Time_2  Humidity  Temperature  \\\n0                    0.368           0.2           0.3    19.993       15.598   \n1                    0.357           0.2           0.3    18.778       14.997   \n2                    0.371           0.2           0.3    20.330       15.835   \n3                    0.349           0.2           0.3    18.382       14.841   \n4                    0.360           0.2           0.3    18.961       15.028   \n...                    ...           ...           ...       ...          ...   \n8626                 0.408           0.2           0.3    40.344       30.042   \n8627                 0.416           0.2           0.3    38.394       31.105   \n8628                 0.411           0.2           0.3    35.061       31.599   \n8629                 0.416           0.2           0.3    31.495       32.699   \n8630                 0.403           0.2           0.3    41.864       29.721   \n\n      Casting_Pressure  Pressure_Increase_Time  Short_Shot  Ejection_Pin_Burr  \\\n0                  680                   0.041           3                  0   \n1                  678                   0.043           3                  0   \n2                  680                   0.043           3                  0   \n3                  324                   0.000           3                  0   \n4                  677                   0.043           3                  0   \n...                ...                     ...         ...                ...   \n8626               341                   0.000          16                  0   \n8627               341                   0.000          16                  0   \n8628               341                   0.000          16                  0   \n8629               340                   0.000          16                  0   \n8630               341                   0.000          16                  0   \n\n      Soldering  Shrinkage  Stain  Corepin_Soldering  Crack  PRESSURE_ERROR_UP  \n0             0          0      0                  0      0                  0  \n1             0          0      0                  0      0                  0  \n2             0          0      0                  0      0                  0  \n3             0          0      0                  0      0                  0  \n4             0          0      0                  0      0                  0  \n...         ...        ...    ...                ...    ...                ...  \n8626          0          0      0                  0      0                  0  \n8627          0          0      0                  0      0                  0  \n8628          0          0      0                  0      0                  0  \n8629          0          0      0                  0      0                  0  \n8630          0          0      0                  0      0                  0  \n\n[8631 rows x 18 columns]",
      "text/html": "<div>\n<style scoped>\n    .dataframe tbody tr th:only-of-type {\n        vertical-align: middle;\n    }\n\n    .dataframe tbody tr th {\n        vertical-align: top;\n    }\n\n    .dataframe thead th {\n        text-align: right;\n    }\n</style>\n<table border=\"1\" class=\"dataframe\">\n  <thead>\n    <tr style=\"text-align: right;\">\n      <th></th>\n      <th>LOT</th>\n      <th>Injection_Velocity_1</th>\n      <th>Injection_Velocity_2</th>\n      <th>Injection_Velocity_3</th>\n      <th>Spray_Time_1</th>\n      <th>Spray_Time_2</th>\n      <th>Humidity</th>\n      <th>Temperature</th>\n      <th>Casting_Pressure</th>\n      <th>Pressure_Increase_Time</th>\n      <th>Short_Shot</th>\n      <th>Ejection_Pin_Burr</th>\n      <th>Soldering</th>\n      <th>Shrinkage</th>\n      <th>Stain</th>\n      <th>Corepin_Soldering</th>\n      <th>Crack</th>\n      <th>PRESSURE_ERROR_UP</th>\n    </tr>\n  </thead>\n  <tbody>\n    <tr>\n      <th>0</th>\n      <td>180102-021-0101</td>\n      <td>0.120</td>\n      <td>0.220</td>\n      <td>0.368</td>\n      <td>0.2</td>\n      <td>0.3</td>\n      <td>19.993</td>\n      <td>15.598</td>\n      <td>680</td>\n      <td>0.041</td>\n      <td>3</td>\n      <td>0</td>\n      <td>0</td>\n      <td>0</td>\n      <td>0</td>\n      <td>0</td>\n      <td>0</td>\n      <td>0</td>\n    </tr>\n    <tr>\n      <th>1</th>\n      <td>180102-021-0101</td>\n      <td>0.106</td>\n      <td>0.216</td>\n      <td>0.357</td>\n      <td>0.2</td>\n      <td>0.3</td>\n      <td>18.778</td>\n      <td>14.997</td>\n      <td>678</td>\n      <td>0.043</td>\n      <td>3</td>\n      <td>0</td>\n      <td>0</td>\n      <td>0</td>\n      <td>0</td>\n      <td>0</td>\n      <td>0</td>\n      <td>0</td>\n    </tr>\n    <tr>\n      <th>2</th>\n      <td>180102-021-0101</td>\n      <td>0.085</td>\n      <td>0.222</td>\n      <td>0.371</td>\n      <td>0.2</td>\n      <td>0.3</td>\n      <td>20.330</td>\n      <td>15.835</td>\n      <td>680</td>\n      <td>0.043</td>\n      <td>3</td>\n      <td>0</td>\n      <td>0</td>\n      <td>0</td>\n      <td>0</td>\n      <td>0</td>\n      <td>0</td>\n      <td>0</td>\n    </tr>\n    <tr>\n      <th>3</th>\n      <td>180102-021-0101</td>\n      <td>0.080</td>\n      <td>0.208</td>\n      <td>0.349</td>\n      <td>0.2</td>\n      <td>0.3</td>\n      <td>18.382</td>\n      <td>14.841</td>\n      <td>324</td>\n      <td>0.000</td>\n      <td>3</td>\n      <td>0</td>\n      <td>0</td>\n      <td>0</td>\n      <td>0</td>\n      <td>0</td>\n      <td>0</td>\n      <td>0</td>\n    </tr>\n    <tr>\n      <th>4</th>\n      <td>180102-021-0101</td>\n      <td>0.106</td>\n      <td>0.214</td>\n      <td>0.360</td>\n      <td>0.2</td>\n      <td>0.3</td>\n      <td>18.961</td>\n      <td>15.028</td>\n      <td>677</td>\n      <td>0.043</td>\n      <td>3</td>\n      <td>0</td>\n      <td>0</td>\n      <td>0</td>\n      <td>0</td>\n      <td>0</td>\n      <td>0</td>\n      <td>0</td>\n    </tr>\n    <tr>\n      <th>...</th>\n      <td>...</td>\n      <td>...</td>\n      <td>...</td>\n      <td>...</td>\n      <td>...</td>\n      <td>...</td>\n      <td>...</td>\n      <td>...</td>\n      <td>...</td>\n      <td>...</td>\n      <td>...</td>\n      <td>...</td>\n      <td>...</td>\n      <td>...</td>\n      <td>...</td>\n      <td>...</td>\n      <td>...</td>\n      <td>...</td>\n    </tr>\n    <tr>\n      <th>8626</th>\n      <td>180606-022-0101</td>\n      <td>0.192</td>\n      <td>0.292</td>\n      <td>0.408</td>\n      <td>0.2</td>\n      <td>0.3</td>\n      <td>40.344</td>\n      <td>30.042</td>\n      <td>341</td>\n      <td>0.000</td>\n      <td>16</td>\n      <td>0</td>\n      <td>0</td>\n      <td>0</td>\n      <td>0</td>\n      <td>0</td>\n      <td>0</td>\n      <td>0</td>\n    </tr>\n    <tr>\n      <th>8627</th>\n      <td>180606-022-0101</td>\n      <td>0.188</td>\n      <td>0.294</td>\n      <td>0.416</td>\n      <td>0.2</td>\n      <td>0.3</td>\n      <td>38.394</td>\n      <td>31.105</td>\n      <td>341</td>\n      <td>0.000</td>\n      <td>16</td>\n      <td>0</td>\n      <td>0</td>\n      <td>0</td>\n      <td>0</td>\n      <td>0</td>\n      <td>0</td>\n      <td>0</td>\n    </tr>\n    <tr>\n      <th>8628</th>\n      <td>180606-022-0101</td>\n      <td>0.194</td>\n      <td>0.294</td>\n      <td>0.411</td>\n      <td>0.2</td>\n      <td>0.3</td>\n      <td>35.061</td>\n      <td>31.599</td>\n      <td>341</td>\n      <td>0.000</td>\n      <td>16</td>\n      <td>0</td>\n      <td>0</td>\n      <td>0</td>\n      <td>0</td>\n      <td>0</td>\n      <td>0</td>\n      <td>0</td>\n    </tr>\n    <tr>\n      <th>8629</th>\n      <td>180606-022-0101</td>\n      <td>0.185</td>\n      <td>0.296</td>\n      <td>0.416</td>\n      <td>0.2</td>\n      <td>0.3</td>\n      <td>31.495</td>\n      <td>32.699</td>\n      <td>340</td>\n      <td>0.000</td>\n      <td>16</td>\n      <td>0</td>\n      <td>0</td>\n      <td>0</td>\n      <td>0</td>\n      <td>0</td>\n      <td>0</td>\n      <td>0</td>\n    </tr>\n    <tr>\n      <th>8630</th>\n      <td>180606-022-0101</td>\n      <td>0.184</td>\n      <td>0.290</td>\n      <td>0.403</td>\n      <td>0.2</td>\n      <td>0.3</td>\n      <td>41.864</td>\n      <td>29.721</td>\n      <td>341</td>\n      <td>0.000</td>\n      <td>16</td>\n      <td>0</td>\n      <td>0</td>\n      <td>0</td>\n      <td>0</td>\n      <td>0</td>\n      <td>0</td>\n      <td>0</td>\n    </tr>\n  </tbody>\n</table>\n<p>8631 rows × 18 columns</p>\n</div>"
     },
     "execution_count": 10,
     "metadata": {},
     "output_type": "execute_result"
    }
   ],
   "source": [
    "df_refine"
   ],
   "metadata": {
    "collapsed": false
   }
  },
  {
   "cell_type": "code",
   "execution_count": 25,
   "outputs": [],
   "source": [
    "df_refine['PRESSURE_ERROR_UP'] = df_refine['PRESSURE_ERROR_UP'].apply(lambda x : 1 if x > 0 else 0)"
   ],
   "metadata": {
    "collapsed": false
   }
  },
  {
   "cell_type": "code",
   "execution_count": 26,
   "outputs": [],
   "source": [
    "# 'Corepin_Soldering', 'Soldering' 'Shrinkage', 'Short_Shot'\n",
    "# 다음 4 칼럼을 합쳐서, 4개 이하는 0, 그 이상은 1로 처리\n",
    "df_refine['PRESSURE_ERROR_DOWN'] = df_refine[['Corepin_Soldering', 'Soldering', 'Shrinkage', 'Short_Shot']].sum(axis = 'columns')"
   ],
   "metadata": {
    "collapsed": false
   }
  },
  {
   "cell_type": "code",
   "execution_count": 27,
   "outputs": [
    {
     "data": {
      "text/plain": "                  LOT  Injection_Velocity_1  Injection_Velocity_2  \\\n0     180102-021-0101                 0.120                 0.220   \n1     180102-021-0101                 0.106                 0.216   \n2     180102-021-0101                 0.085                 0.222   \n3     180102-021-0101                 0.080                 0.208   \n4     180102-021-0101                 0.106                 0.214   \n...               ...                   ...                   ...   \n8626  180606-022-0101                 0.192                 0.292   \n8627  180606-022-0101                 0.188                 0.294   \n8628  180606-022-0101                 0.194                 0.294   \n8629  180606-022-0101                 0.185                 0.296   \n8630  180606-022-0101                 0.184                 0.290   \n\n      Injection_Velocity_3  Spray_Time_1  Spray_Time_2  Humidity  Temperature  \\\n0                    0.368           0.2           0.3    19.993       15.598   \n1                    0.357           0.2           0.3    18.778       14.997   \n2                    0.371           0.2           0.3    20.330       15.835   \n3                    0.349           0.2           0.3    18.382       14.841   \n4                    0.360           0.2           0.3    18.961       15.028   \n...                    ...           ...           ...       ...          ...   \n8626                 0.408           0.2           0.3    40.344       30.042   \n8627                 0.416           0.2           0.3    38.394       31.105   \n8628                 0.411           0.2           0.3    35.061       31.599   \n8629                 0.416           0.2           0.3    31.495       32.699   \n8630                 0.403           0.2           0.3    41.864       29.721   \n\n      Casting_Pressure  Pressure_Increase_Time  Short_Shot  Ejection_Pin_Burr  \\\n0                  680                   0.041           3                  0   \n1                  678                   0.043           3                  0   \n2                  680                   0.043           3                  0   \n3                  324                   0.000           3                  0   \n4                  677                   0.043           3                  0   \n...                ...                     ...         ...                ...   \n8626               341                   0.000          16                  0   \n8627               341                   0.000          16                  0   \n8628               341                   0.000          16                  0   \n8629               340                   0.000          16                  0   \n8630               341                   0.000          16                  0   \n\n      Soldering  Shrinkage  Stain  Corepin_Soldering  Crack  \\\n0             0          0      0                  0      0   \n1             0          0      0                  0      0   \n2             0          0      0                  0      0   \n3             0          0      0                  0      0   \n4             0          0      0                  0      0   \n...         ...        ...    ...                ...    ...   \n8626          0          0      0                  0      0   \n8627          0          0      0                  0      0   \n8628          0          0      0                  0      0   \n8629          0          0      0                  0      0   \n8630          0          0      0                  0      0   \n\n      PRESSURE_ERROR_UP  PRESSURE_ERROR_DOWN  \n0                     0                    3  \n1                     0                    3  \n2                     0                    3  \n3                     0                    3  \n4                     0                    3  \n...                 ...                  ...  \n8626                  0                   16  \n8627                  0                   16  \n8628                  0                   16  \n8629                  0                   16  \n8630                  0                   16  \n\n[8631 rows x 19 columns]",
      "text/html": "<div>\n<style scoped>\n    .dataframe tbody tr th:only-of-type {\n        vertical-align: middle;\n    }\n\n    .dataframe tbody tr th {\n        vertical-align: top;\n    }\n\n    .dataframe thead th {\n        text-align: right;\n    }\n</style>\n<table border=\"1\" class=\"dataframe\">\n  <thead>\n    <tr style=\"text-align: right;\">\n      <th></th>\n      <th>LOT</th>\n      <th>Injection_Velocity_1</th>\n      <th>Injection_Velocity_2</th>\n      <th>Injection_Velocity_3</th>\n      <th>Spray_Time_1</th>\n      <th>Spray_Time_2</th>\n      <th>Humidity</th>\n      <th>Temperature</th>\n      <th>Casting_Pressure</th>\n      <th>Pressure_Increase_Time</th>\n      <th>Short_Shot</th>\n      <th>Ejection_Pin_Burr</th>\n      <th>Soldering</th>\n      <th>Shrinkage</th>\n      <th>Stain</th>\n      <th>Corepin_Soldering</th>\n      <th>Crack</th>\n      <th>PRESSURE_ERROR_UP</th>\n      <th>PRESSURE_ERROR_DOWN</th>\n    </tr>\n  </thead>\n  <tbody>\n    <tr>\n      <th>0</th>\n      <td>180102-021-0101</td>\n      <td>0.120</td>\n      <td>0.220</td>\n      <td>0.368</td>\n      <td>0.2</td>\n      <td>0.3</td>\n      <td>19.993</td>\n      <td>15.598</td>\n      <td>680</td>\n      <td>0.041</td>\n      <td>3</td>\n      <td>0</td>\n      <td>0</td>\n      <td>0</td>\n      <td>0</td>\n      <td>0</td>\n      <td>0</td>\n      <td>0</td>\n      <td>3</td>\n    </tr>\n    <tr>\n      <th>1</th>\n      <td>180102-021-0101</td>\n      <td>0.106</td>\n      <td>0.216</td>\n      <td>0.357</td>\n      <td>0.2</td>\n      <td>0.3</td>\n      <td>18.778</td>\n      <td>14.997</td>\n      <td>678</td>\n      <td>0.043</td>\n      <td>3</td>\n      <td>0</td>\n      <td>0</td>\n      <td>0</td>\n      <td>0</td>\n      <td>0</td>\n      <td>0</td>\n      <td>0</td>\n      <td>3</td>\n    </tr>\n    <tr>\n      <th>2</th>\n      <td>180102-021-0101</td>\n      <td>0.085</td>\n      <td>0.222</td>\n      <td>0.371</td>\n      <td>0.2</td>\n      <td>0.3</td>\n      <td>20.330</td>\n      <td>15.835</td>\n      <td>680</td>\n      <td>0.043</td>\n      <td>3</td>\n      <td>0</td>\n      <td>0</td>\n      <td>0</td>\n      <td>0</td>\n      <td>0</td>\n      <td>0</td>\n      <td>0</td>\n      <td>3</td>\n    </tr>\n    <tr>\n      <th>3</th>\n      <td>180102-021-0101</td>\n      <td>0.080</td>\n      <td>0.208</td>\n      <td>0.349</td>\n      <td>0.2</td>\n      <td>0.3</td>\n      <td>18.382</td>\n      <td>14.841</td>\n      <td>324</td>\n      <td>0.000</td>\n      <td>3</td>\n      <td>0</td>\n      <td>0</td>\n      <td>0</td>\n      <td>0</td>\n      <td>0</td>\n      <td>0</td>\n      <td>0</td>\n      <td>3</td>\n    </tr>\n    <tr>\n      <th>4</th>\n      <td>180102-021-0101</td>\n      <td>0.106</td>\n      <td>0.214</td>\n      <td>0.360</td>\n      <td>0.2</td>\n      <td>0.3</td>\n      <td>18.961</td>\n      <td>15.028</td>\n      <td>677</td>\n      <td>0.043</td>\n      <td>3</td>\n      <td>0</td>\n      <td>0</td>\n      <td>0</td>\n      <td>0</td>\n      <td>0</td>\n      <td>0</td>\n      <td>0</td>\n      <td>3</td>\n    </tr>\n    <tr>\n      <th>...</th>\n      <td>...</td>\n      <td>...</td>\n      <td>...</td>\n      <td>...</td>\n      <td>...</td>\n      <td>...</td>\n      <td>...</td>\n      <td>...</td>\n      <td>...</td>\n      <td>...</td>\n      <td>...</td>\n      <td>...</td>\n      <td>...</td>\n      <td>...</td>\n      <td>...</td>\n      <td>...</td>\n      <td>...</td>\n      <td>...</td>\n      <td>...</td>\n    </tr>\n    <tr>\n      <th>8626</th>\n      <td>180606-022-0101</td>\n      <td>0.192</td>\n      <td>0.292</td>\n      <td>0.408</td>\n      <td>0.2</td>\n      <td>0.3</td>\n      <td>40.344</td>\n      <td>30.042</td>\n      <td>341</td>\n      <td>0.000</td>\n      <td>16</td>\n      <td>0</td>\n      <td>0</td>\n      <td>0</td>\n      <td>0</td>\n      <td>0</td>\n      <td>0</td>\n      <td>0</td>\n      <td>16</td>\n    </tr>\n    <tr>\n      <th>8627</th>\n      <td>180606-022-0101</td>\n      <td>0.188</td>\n      <td>0.294</td>\n      <td>0.416</td>\n      <td>0.2</td>\n      <td>0.3</td>\n      <td>38.394</td>\n      <td>31.105</td>\n      <td>341</td>\n      <td>0.000</td>\n      <td>16</td>\n      <td>0</td>\n      <td>0</td>\n      <td>0</td>\n      <td>0</td>\n      <td>0</td>\n      <td>0</td>\n      <td>0</td>\n      <td>16</td>\n    </tr>\n    <tr>\n      <th>8628</th>\n      <td>180606-022-0101</td>\n      <td>0.194</td>\n      <td>0.294</td>\n      <td>0.411</td>\n      <td>0.2</td>\n      <td>0.3</td>\n      <td>35.061</td>\n      <td>31.599</td>\n      <td>341</td>\n      <td>0.000</td>\n      <td>16</td>\n      <td>0</td>\n      <td>0</td>\n      <td>0</td>\n      <td>0</td>\n      <td>0</td>\n      <td>0</td>\n      <td>0</td>\n      <td>16</td>\n    </tr>\n    <tr>\n      <th>8629</th>\n      <td>180606-022-0101</td>\n      <td>0.185</td>\n      <td>0.296</td>\n      <td>0.416</td>\n      <td>0.2</td>\n      <td>0.3</td>\n      <td>31.495</td>\n      <td>32.699</td>\n      <td>340</td>\n      <td>0.000</td>\n      <td>16</td>\n      <td>0</td>\n      <td>0</td>\n      <td>0</td>\n      <td>0</td>\n      <td>0</td>\n      <td>0</td>\n      <td>0</td>\n      <td>16</td>\n    </tr>\n    <tr>\n      <th>8630</th>\n      <td>180606-022-0101</td>\n      <td>0.184</td>\n      <td>0.290</td>\n      <td>0.403</td>\n      <td>0.2</td>\n      <td>0.3</td>\n      <td>41.864</td>\n      <td>29.721</td>\n      <td>341</td>\n      <td>0.000</td>\n      <td>16</td>\n      <td>0</td>\n      <td>0</td>\n      <td>0</td>\n      <td>0</td>\n      <td>0</td>\n      <td>0</td>\n      <td>0</td>\n      <td>16</td>\n    </tr>\n  </tbody>\n</table>\n<p>8631 rows × 19 columns</p>\n</div>"
     },
     "execution_count": 27,
     "metadata": {},
     "output_type": "execute_result"
    }
   ],
   "source": [
    "df_refine"
   ],
   "metadata": {
    "collapsed": false
   }
  },
  {
   "cell_type": "code",
   "execution_count": 28,
   "outputs": [
    {
     "data": {
      "text/plain": "                  LOT  Injection_Velocity_1  Injection_Velocity_2  \\\n0     180102-021-0101                 0.120                 0.220   \n1     180102-021-0101                 0.106                 0.216   \n2     180102-021-0101                 0.085                 0.222   \n3     180102-021-0101                 0.080                 0.208   \n4     180102-021-0101                 0.106                 0.214   \n...               ...                   ...                   ...   \n8626  180606-022-0101                 0.192                 0.292   \n8627  180606-022-0101                 0.188                 0.294   \n8628  180606-022-0101                 0.194                 0.294   \n8629  180606-022-0101                 0.185                 0.296   \n8630  180606-022-0101                 0.184                 0.290   \n\n      Injection_Velocity_3  Spray_Time_1  Spray_Time_2  Humidity  Temperature  \\\n0                    0.368           0.2           0.3    19.993       15.598   \n1                    0.357           0.2           0.3    18.778       14.997   \n2                    0.371           0.2           0.3    20.330       15.835   \n3                    0.349           0.2           0.3    18.382       14.841   \n4                    0.360           0.2           0.3    18.961       15.028   \n...                    ...           ...           ...       ...          ...   \n8626                 0.408           0.2           0.3    40.344       30.042   \n8627                 0.416           0.2           0.3    38.394       31.105   \n8628                 0.411           0.2           0.3    35.061       31.599   \n8629                 0.416           0.2           0.3    31.495       32.699   \n8630                 0.403           0.2           0.3    41.864       29.721   \n\n      Casting_Pressure  Pressure_Increase_Time  Short_Shot  Ejection_Pin_Burr  \\\n0                  680                   0.041           3                  0   \n1                  678                   0.043           3                  0   \n2                  680                   0.043           3                  0   \n3                  324                   0.000           3                  0   \n4                  677                   0.043           3                  0   \n...                ...                     ...         ...                ...   \n8626               341                   0.000          16                  0   \n8627               341                   0.000          16                  0   \n8628               341                   0.000          16                  0   \n8629               340                   0.000          16                  0   \n8630               341                   0.000          16                  0   \n\n      Soldering  Shrinkage  Stain  Corepin_Soldering  Crack  \\\n0             0          0      0                  0      0   \n1             0          0      0                  0      0   \n2             0          0      0                  0      0   \n3             0          0      0                  0      0   \n4             0          0      0                  0      0   \n...         ...        ...    ...                ...    ...   \n8626          0          0      0                  0      0   \n8627          0          0      0                  0      0   \n8628          0          0      0                  0      0   \n8629          0          0      0                  0      0   \n8630          0          0      0                  0      0   \n\n      PRESSURE_ERROR_UP  PRESSURE_ERROR_DOWN  \n0                     0                    0  \n1                     0                    0  \n2                     0                    0  \n3                     0                    0  \n4                     0                    0  \n...                 ...                  ...  \n8626                  0                    1  \n8627                  0                    1  \n8628                  0                    1  \n8629                  0                    1  \n8630                  0                    1  \n\n[8631 rows x 19 columns]",
      "text/html": "<div>\n<style scoped>\n    .dataframe tbody tr th:only-of-type {\n        vertical-align: middle;\n    }\n\n    .dataframe tbody tr th {\n        vertical-align: top;\n    }\n\n    .dataframe thead th {\n        text-align: right;\n    }\n</style>\n<table border=\"1\" class=\"dataframe\">\n  <thead>\n    <tr style=\"text-align: right;\">\n      <th></th>\n      <th>LOT</th>\n      <th>Injection_Velocity_1</th>\n      <th>Injection_Velocity_2</th>\n      <th>Injection_Velocity_3</th>\n      <th>Spray_Time_1</th>\n      <th>Spray_Time_2</th>\n      <th>Humidity</th>\n      <th>Temperature</th>\n      <th>Casting_Pressure</th>\n      <th>Pressure_Increase_Time</th>\n      <th>Short_Shot</th>\n      <th>Ejection_Pin_Burr</th>\n      <th>Soldering</th>\n      <th>Shrinkage</th>\n      <th>Stain</th>\n      <th>Corepin_Soldering</th>\n      <th>Crack</th>\n      <th>PRESSURE_ERROR_UP</th>\n      <th>PRESSURE_ERROR_DOWN</th>\n    </tr>\n  </thead>\n  <tbody>\n    <tr>\n      <th>0</th>\n      <td>180102-021-0101</td>\n      <td>0.120</td>\n      <td>0.220</td>\n      <td>0.368</td>\n      <td>0.2</td>\n      <td>0.3</td>\n      <td>19.993</td>\n      <td>15.598</td>\n      <td>680</td>\n      <td>0.041</td>\n      <td>3</td>\n      <td>0</td>\n      <td>0</td>\n      <td>0</td>\n      <td>0</td>\n      <td>0</td>\n      <td>0</td>\n      <td>0</td>\n      <td>0</td>\n    </tr>\n    <tr>\n      <th>1</th>\n      <td>180102-021-0101</td>\n      <td>0.106</td>\n      <td>0.216</td>\n      <td>0.357</td>\n      <td>0.2</td>\n      <td>0.3</td>\n      <td>18.778</td>\n      <td>14.997</td>\n      <td>678</td>\n      <td>0.043</td>\n      <td>3</td>\n      <td>0</td>\n      <td>0</td>\n      <td>0</td>\n      <td>0</td>\n      <td>0</td>\n      <td>0</td>\n      <td>0</td>\n      <td>0</td>\n    </tr>\n    <tr>\n      <th>2</th>\n      <td>180102-021-0101</td>\n      <td>0.085</td>\n      <td>0.222</td>\n      <td>0.371</td>\n      <td>0.2</td>\n      <td>0.3</td>\n      <td>20.330</td>\n      <td>15.835</td>\n      <td>680</td>\n      <td>0.043</td>\n      <td>3</td>\n      <td>0</td>\n      <td>0</td>\n      <td>0</td>\n      <td>0</td>\n      <td>0</td>\n      <td>0</td>\n      <td>0</td>\n      <td>0</td>\n    </tr>\n    <tr>\n      <th>3</th>\n      <td>180102-021-0101</td>\n      <td>0.080</td>\n      <td>0.208</td>\n      <td>0.349</td>\n      <td>0.2</td>\n      <td>0.3</td>\n      <td>18.382</td>\n      <td>14.841</td>\n      <td>324</td>\n      <td>0.000</td>\n      <td>3</td>\n      <td>0</td>\n      <td>0</td>\n      <td>0</td>\n      <td>0</td>\n      <td>0</td>\n      <td>0</td>\n      <td>0</td>\n      <td>0</td>\n    </tr>\n    <tr>\n      <th>4</th>\n      <td>180102-021-0101</td>\n      <td>0.106</td>\n      <td>0.214</td>\n      <td>0.360</td>\n      <td>0.2</td>\n      <td>0.3</td>\n      <td>18.961</td>\n      <td>15.028</td>\n      <td>677</td>\n      <td>0.043</td>\n      <td>3</td>\n      <td>0</td>\n      <td>0</td>\n      <td>0</td>\n      <td>0</td>\n      <td>0</td>\n      <td>0</td>\n      <td>0</td>\n      <td>0</td>\n    </tr>\n    <tr>\n      <th>...</th>\n      <td>...</td>\n      <td>...</td>\n      <td>...</td>\n      <td>...</td>\n      <td>...</td>\n      <td>...</td>\n      <td>...</td>\n      <td>...</td>\n      <td>...</td>\n      <td>...</td>\n      <td>...</td>\n      <td>...</td>\n      <td>...</td>\n      <td>...</td>\n      <td>...</td>\n      <td>...</td>\n      <td>...</td>\n      <td>...</td>\n      <td>...</td>\n    </tr>\n    <tr>\n      <th>8626</th>\n      <td>180606-022-0101</td>\n      <td>0.192</td>\n      <td>0.292</td>\n      <td>0.408</td>\n      <td>0.2</td>\n      <td>0.3</td>\n      <td>40.344</td>\n      <td>30.042</td>\n      <td>341</td>\n      <td>0.000</td>\n      <td>16</td>\n      <td>0</td>\n      <td>0</td>\n      <td>0</td>\n      <td>0</td>\n      <td>0</td>\n      <td>0</td>\n      <td>0</td>\n      <td>1</td>\n    </tr>\n    <tr>\n      <th>8627</th>\n      <td>180606-022-0101</td>\n      <td>0.188</td>\n      <td>0.294</td>\n      <td>0.416</td>\n      <td>0.2</td>\n      <td>0.3</td>\n      <td>38.394</td>\n      <td>31.105</td>\n      <td>341</td>\n      <td>0.000</td>\n      <td>16</td>\n      <td>0</td>\n      <td>0</td>\n      <td>0</td>\n      <td>0</td>\n      <td>0</td>\n      <td>0</td>\n      <td>0</td>\n      <td>1</td>\n    </tr>\n    <tr>\n      <th>8628</th>\n      <td>180606-022-0101</td>\n      <td>0.194</td>\n      <td>0.294</td>\n      <td>0.411</td>\n      <td>0.2</td>\n      <td>0.3</td>\n      <td>35.061</td>\n      <td>31.599</td>\n      <td>341</td>\n      <td>0.000</td>\n      <td>16</td>\n      <td>0</td>\n      <td>0</td>\n      <td>0</td>\n      <td>0</td>\n      <td>0</td>\n      <td>0</td>\n      <td>0</td>\n      <td>1</td>\n    </tr>\n    <tr>\n      <th>8629</th>\n      <td>180606-022-0101</td>\n      <td>0.185</td>\n      <td>0.296</td>\n      <td>0.416</td>\n      <td>0.2</td>\n      <td>0.3</td>\n      <td>31.495</td>\n      <td>32.699</td>\n      <td>340</td>\n      <td>0.000</td>\n      <td>16</td>\n      <td>0</td>\n      <td>0</td>\n      <td>0</td>\n      <td>0</td>\n      <td>0</td>\n      <td>0</td>\n      <td>0</td>\n      <td>1</td>\n    </tr>\n    <tr>\n      <th>8630</th>\n      <td>180606-022-0101</td>\n      <td>0.184</td>\n      <td>0.290</td>\n      <td>0.403</td>\n      <td>0.2</td>\n      <td>0.3</td>\n      <td>41.864</td>\n      <td>29.721</td>\n      <td>341</td>\n      <td>0.000</td>\n      <td>16</td>\n      <td>0</td>\n      <td>0</td>\n      <td>0</td>\n      <td>0</td>\n      <td>0</td>\n      <td>0</td>\n      <td>0</td>\n      <td>1</td>\n    </tr>\n  </tbody>\n</table>\n<p>8631 rows × 19 columns</p>\n</div>"
     },
     "execution_count": 28,
     "metadata": {},
     "output_type": "execute_result"
    }
   ],
   "source": [
    "df_refine['PRESSURE_ERROR_DOWN'] = df_refine['PRESSURE_ERROR_DOWN'].apply(lambda x : 1 if x > 4 else 0)\n",
    "\n",
    "# df_refine"
   ],
   "metadata": {
    "collapsed": false
   }
  },
  {
   "cell_type": "code",
   "execution_count": 32,
   "outputs": [
    {
     "name": "stderr",
     "output_type": "stream",
     "text": [
      "/Users/isang-yun/miniconda3/lib/python3.7/site-packages/ipykernel_launcher.py:15: SettingWithCopyWarning: \n",
      "A value is trying to be set on a copy of a slice from a DataFrame\n",
      "\n",
      "See the caveats in the documentation: https://pandas.pydata.org/pandas-docs/stable/user_guide/indexing.html#returning-a-view-versus-a-copy\n",
      "  from ipykernel import kernelapp as app\n",
      "/Users/isang-yun/miniconda3/lib/python3.7/site-packages/pandas/core/indexing.py:1732: SettingWithCopyWarning: \n",
      "A value is trying to be set on a copy of a slice from a DataFrame\n",
      "\n",
      "See the caveats in the documentation: https://pandas.pydata.org/pandas-docs/stable/user_guide/indexing.html#returning-a-view-versus-a-copy\n",
      "  self._setitem_single_block(indexer, value, name)\n"
     ]
    },
    {
     "data": {
      "text/plain": "                  LOT  Injection_Velocity_1  Injection_Velocity_2  \\\n0     180102-021-0101                 0.120                 0.220   \n1     180102-021-0101                 0.106                 0.216   \n2     180102-021-0101                 0.085                 0.222   \n3     180102-021-0101                 0.080                 0.208   \n4     180102-021-0101                 0.106                 0.214   \n...               ...                   ...                   ...   \n8626  180606-022-0101                 0.192                 0.292   \n8627  180606-022-0101                 0.188                 0.294   \n8628  180606-022-0101                 0.194                 0.294   \n8629  180606-022-0101                 0.185                 0.296   \n8630  180606-022-0101                 0.184                 0.290   \n\n      Injection_Velocity_3  Spray_Time_1  Spray_Time_2  Humidity  Temperature  \\\n0                    0.368           0.2           0.3    19.993       15.598   \n1                    0.357           0.2           0.3    18.778       14.997   \n2                    0.371           0.2           0.3    20.330       15.835   \n3                    0.349           0.2           0.3    18.382       14.841   \n4                    0.360           0.2           0.3    18.961       15.028   \n...                    ...           ...           ...       ...          ...   \n8626                 0.408           0.2           0.3    40.344       30.042   \n8627                 0.416           0.2           0.3    38.394       31.105   \n8628                 0.411           0.2           0.3    35.061       31.599   \n8629                 0.416           0.2           0.3    31.495       32.699   \n8630                 0.403           0.2           0.3    41.864       29.721   \n\n      Casting_Pressure  Pressure_Increase_Time  Short_Shot  Ejection_Pin_Burr  \\\n0                  680                   0.041           3                  0   \n1                  678                   0.043           3                  0   \n2                  680                   0.043           3                  0   \n3                  324                   0.000           3                  0   \n4                  677                   0.043           3                  0   \n...                ...                     ...         ...                ...   \n8626               341                   0.000          16                  0   \n8627               341                   0.000          16                  0   \n8628               341                   0.000          16                  0   \n8629               340                   0.000          16                  0   \n8630               341                   0.000          16                  0   \n\n      Soldering  Shrinkage  Stain  Corepin_Soldering  Crack  \\\n0             0          0      0                  0      0   \n1             0          0      0                  0      0   \n2             0          0      0                  0      0   \n3             0          0      0                  0      0   \n4             0          0      0                  0      0   \n...         ...        ...    ...                ...    ...   \n8626          0          0      0                  0      0   \n8627          0          0      0                  0      0   \n8628          0          0      0                  0      0   \n8629          0          0      0                  0      0   \n8630          0          0      0                  0      0   \n\n      PRESSURE_ERROR_UP  PRESSURE_ERROR_DOWN TYPE  \n0                     0                    0    0  \n1                     0                    0    0  \n2                     0                    0    0  \n3                     0                    0    0  \n4                     0                    0    0  \n...                 ...                  ...  ...  \n8626                  0                    1    2  \n8627                  0                    1    2  \n8628                  0                    1    2  \n8629                  0                    1    2  \n8630                  0                    1    2  \n\n[8631 rows x 20 columns]",
      "text/html": "<div>\n<style scoped>\n    .dataframe tbody tr th:only-of-type {\n        vertical-align: middle;\n    }\n\n    .dataframe tbody tr th {\n        vertical-align: top;\n    }\n\n    .dataframe thead th {\n        text-align: right;\n    }\n</style>\n<table border=\"1\" class=\"dataframe\">\n  <thead>\n    <tr style=\"text-align: right;\">\n      <th></th>\n      <th>LOT</th>\n      <th>Injection_Velocity_1</th>\n      <th>Injection_Velocity_2</th>\n      <th>Injection_Velocity_3</th>\n      <th>Spray_Time_1</th>\n      <th>Spray_Time_2</th>\n      <th>Humidity</th>\n      <th>Temperature</th>\n      <th>Casting_Pressure</th>\n      <th>Pressure_Increase_Time</th>\n      <th>Short_Shot</th>\n      <th>Ejection_Pin_Burr</th>\n      <th>Soldering</th>\n      <th>Shrinkage</th>\n      <th>Stain</th>\n      <th>Corepin_Soldering</th>\n      <th>Crack</th>\n      <th>PRESSURE_ERROR_UP</th>\n      <th>PRESSURE_ERROR_DOWN</th>\n      <th>TYPE</th>\n    </tr>\n  </thead>\n  <tbody>\n    <tr>\n      <th>0</th>\n      <td>180102-021-0101</td>\n      <td>0.120</td>\n      <td>0.220</td>\n      <td>0.368</td>\n      <td>0.2</td>\n      <td>0.3</td>\n      <td>19.993</td>\n      <td>15.598</td>\n      <td>680</td>\n      <td>0.041</td>\n      <td>3</td>\n      <td>0</td>\n      <td>0</td>\n      <td>0</td>\n      <td>0</td>\n      <td>0</td>\n      <td>0</td>\n      <td>0</td>\n      <td>0</td>\n      <td>0</td>\n    </tr>\n    <tr>\n      <th>1</th>\n      <td>180102-021-0101</td>\n      <td>0.106</td>\n      <td>0.216</td>\n      <td>0.357</td>\n      <td>0.2</td>\n      <td>0.3</td>\n      <td>18.778</td>\n      <td>14.997</td>\n      <td>678</td>\n      <td>0.043</td>\n      <td>3</td>\n      <td>0</td>\n      <td>0</td>\n      <td>0</td>\n      <td>0</td>\n      <td>0</td>\n      <td>0</td>\n      <td>0</td>\n      <td>0</td>\n      <td>0</td>\n    </tr>\n    <tr>\n      <th>2</th>\n      <td>180102-021-0101</td>\n      <td>0.085</td>\n      <td>0.222</td>\n      <td>0.371</td>\n      <td>0.2</td>\n      <td>0.3</td>\n      <td>20.330</td>\n      <td>15.835</td>\n      <td>680</td>\n      <td>0.043</td>\n      <td>3</td>\n      <td>0</td>\n      <td>0</td>\n      <td>0</td>\n      <td>0</td>\n      <td>0</td>\n      <td>0</td>\n      <td>0</td>\n      <td>0</td>\n      <td>0</td>\n    </tr>\n    <tr>\n      <th>3</th>\n      <td>180102-021-0101</td>\n      <td>0.080</td>\n      <td>0.208</td>\n      <td>0.349</td>\n      <td>0.2</td>\n      <td>0.3</td>\n      <td>18.382</td>\n      <td>14.841</td>\n      <td>324</td>\n      <td>0.000</td>\n      <td>3</td>\n      <td>0</td>\n      <td>0</td>\n      <td>0</td>\n      <td>0</td>\n      <td>0</td>\n      <td>0</td>\n      <td>0</td>\n      <td>0</td>\n      <td>0</td>\n    </tr>\n    <tr>\n      <th>4</th>\n      <td>180102-021-0101</td>\n      <td>0.106</td>\n      <td>0.214</td>\n      <td>0.360</td>\n      <td>0.2</td>\n      <td>0.3</td>\n      <td>18.961</td>\n      <td>15.028</td>\n      <td>677</td>\n      <td>0.043</td>\n      <td>3</td>\n      <td>0</td>\n      <td>0</td>\n      <td>0</td>\n      <td>0</td>\n      <td>0</td>\n      <td>0</td>\n      <td>0</td>\n      <td>0</td>\n      <td>0</td>\n    </tr>\n    <tr>\n      <th>...</th>\n      <td>...</td>\n      <td>...</td>\n      <td>...</td>\n      <td>...</td>\n      <td>...</td>\n      <td>...</td>\n      <td>...</td>\n      <td>...</td>\n      <td>...</td>\n      <td>...</td>\n      <td>...</td>\n      <td>...</td>\n      <td>...</td>\n      <td>...</td>\n      <td>...</td>\n      <td>...</td>\n      <td>...</td>\n      <td>...</td>\n      <td>...</td>\n      <td>...</td>\n    </tr>\n    <tr>\n      <th>8626</th>\n      <td>180606-022-0101</td>\n      <td>0.192</td>\n      <td>0.292</td>\n      <td>0.408</td>\n      <td>0.2</td>\n      <td>0.3</td>\n      <td>40.344</td>\n      <td>30.042</td>\n      <td>341</td>\n      <td>0.000</td>\n      <td>16</td>\n      <td>0</td>\n      <td>0</td>\n      <td>0</td>\n      <td>0</td>\n      <td>0</td>\n      <td>0</td>\n      <td>0</td>\n      <td>1</td>\n      <td>2</td>\n    </tr>\n    <tr>\n      <th>8627</th>\n      <td>180606-022-0101</td>\n      <td>0.188</td>\n      <td>0.294</td>\n      <td>0.416</td>\n      <td>0.2</td>\n      <td>0.3</td>\n      <td>38.394</td>\n      <td>31.105</td>\n      <td>341</td>\n      <td>0.000</td>\n      <td>16</td>\n      <td>0</td>\n      <td>0</td>\n      <td>0</td>\n      <td>0</td>\n      <td>0</td>\n      <td>0</td>\n      <td>0</td>\n      <td>1</td>\n      <td>2</td>\n    </tr>\n    <tr>\n      <th>8628</th>\n      <td>180606-022-0101</td>\n      <td>0.194</td>\n      <td>0.294</td>\n      <td>0.411</td>\n      <td>0.2</td>\n      <td>0.3</td>\n      <td>35.061</td>\n      <td>31.599</td>\n      <td>341</td>\n      <td>0.000</td>\n      <td>16</td>\n      <td>0</td>\n      <td>0</td>\n      <td>0</td>\n      <td>0</td>\n      <td>0</td>\n      <td>0</td>\n      <td>0</td>\n      <td>1</td>\n      <td>2</td>\n    </tr>\n    <tr>\n      <th>8629</th>\n      <td>180606-022-0101</td>\n      <td>0.185</td>\n      <td>0.296</td>\n      <td>0.416</td>\n      <td>0.2</td>\n      <td>0.3</td>\n      <td>31.495</td>\n      <td>32.699</td>\n      <td>340</td>\n      <td>0.000</td>\n      <td>16</td>\n      <td>0</td>\n      <td>0</td>\n      <td>0</td>\n      <td>0</td>\n      <td>0</td>\n      <td>0</td>\n      <td>0</td>\n      <td>1</td>\n      <td>2</td>\n    </tr>\n    <tr>\n      <th>8630</th>\n      <td>180606-022-0101</td>\n      <td>0.184</td>\n      <td>0.290</td>\n      <td>0.403</td>\n      <td>0.2</td>\n      <td>0.3</td>\n      <td>41.864</td>\n      <td>29.721</td>\n      <td>341</td>\n      <td>0.000</td>\n      <td>16</td>\n      <td>0</td>\n      <td>0</td>\n      <td>0</td>\n      <td>0</td>\n      <td>0</td>\n      <td>0</td>\n      <td>0</td>\n      <td>1</td>\n      <td>2</td>\n    </tr>\n  </tbody>\n</table>\n<p>8631 rows × 20 columns</p>\n</div>"
     },
     "execution_count": 32,
     "metadata": {},
     "output_type": "execute_result"
    }
   ],
   "source": [
    "# judge_dict = {\n",
    "#     0 : [0, 0],\n",
    "#     1 : [1, 0],\n",
    "#     2 : [0, 1],\n",
    "#     3 : [1, 1],\n",
    "# }\n",
    "\n",
    "\n",
    "judge_dict = [[0, 0],[1, 0],[0, 1],[1, 1]]\n",
    "\n",
    "df_refine['TYPE'] = False\n",
    "\n",
    "for index in range(8631):\n",
    "    list = [df_refine.loc[index, 'PRESSURE_ERROR_UP'], df_refine.loc[index, 'PRESSURE_ERROR_DOWN']]\n",
    "    df_refine['TYPE'][index] = judge_dict.index(list)\n",
    "\n",
    "df_refine"
   ],
   "metadata": {
    "collapsed": false
   }
  },
  {
   "cell_type": "code",
   "execution_count": 39,
   "outputs": [],
   "source": [
    "drop_error = ['Corepin_Soldering', 'Soldering','Shrinkage', 'Short_Shot','Crack', 'Ejection_Pin_Burr', 'PRESSURE_ERROR_UP', 'PRESSURE_ERROR_DOWN', 'Stain']"
   ],
   "metadata": {
    "collapsed": false
   }
  },
  {
   "cell_type": "code",
   "execution_count": 40,
   "outputs": [
    {
     "ename": "KeyError",
     "evalue": "\"['Corepin_Soldering' 'Soldering' 'Shrinkage' 'Short_Shot' 'Crack'\\n 'Ejection_Pin_Burr' 'PRESSURE_ERROR_UP' 'PRESSURE_ERROR_DOWN'] not found in axis\"",
     "output_type": "error",
     "traceback": [
      "\u001B[0;31m---------------------------------------------------------------------------\u001B[0m",
      "\u001B[0;31mKeyError\u001B[0m                                  Traceback (most recent call last)",
      "\u001B[0;32m/var/folders/rz/24pnnlk152d2cvbbl1kmpd_80000gn/T/ipykernel_55372/824015542.py\u001B[0m in \u001B[0;36m<module>\u001B[0;34m\u001B[0m\n\u001B[0;32m----> 1\u001B[0;31m \u001B[0mdf_refine\u001B[0m \u001B[0;34m=\u001B[0m \u001B[0mdf_refine\u001B[0m\u001B[0;34m.\u001B[0m\u001B[0mdrop\u001B[0m\u001B[0;34m(\u001B[0m\u001B[0mcolumns\u001B[0m \u001B[0;34m=\u001B[0m \u001B[0mdrop_error\u001B[0m\u001B[0;34m)\u001B[0m\u001B[0;34m\u001B[0m\u001B[0;34m\u001B[0m\u001B[0m\n\u001B[0m\u001B[1;32m      2\u001B[0m \u001B[0;34m\u001B[0m\u001B[0m\n\u001B[1;32m      3\u001B[0m \u001B[0mdf_refine\u001B[0m\u001B[0;34m\u001B[0m\u001B[0;34m\u001B[0m\u001B[0m\n",
      "\u001B[0;32m~/miniconda3/lib/python3.7/site-packages/pandas/util/_decorators.py\u001B[0m in \u001B[0;36mwrapper\u001B[0;34m(*args, **kwargs)\u001B[0m\n\u001B[1;32m    309\u001B[0m                     \u001B[0mstacklevel\u001B[0m\u001B[0;34m=\u001B[0m\u001B[0mstacklevel\u001B[0m\u001B[0;34m,\u001B[0m\u001B[0;34m\u001B[0m\u001B[0;34m\u001B[0m\u001B[0m\n\u001B[1;32m    310\u001B[0m                 )\n\u001B[0;32m--> 311\u001B[0;31m             \u001B[0;32mreturn\u001B[0m \u001B[0mfunc\u001B[0m\u001B[0;34m(\u001B[0m\u001B[0;34m*\u001B[0m\u001B[0margs\u001B[0m\u001B[0;34m,\u001B[0m \u001B[0;34m**\u001B[0m\u001B[0mkwargs\u001B[0m\u001B[0;34m)\u001B[0m\u001B[0;34m\u001B[0m\u001B[0;34m\u001B[0m\u001B[0m\n\u001B[0m\u001B[1;32m    312\u001B[0m \u001B[0;34m\u001B[0m\u001B[0m\n\u001B[1;32m    313\u001B[0m         \u001B[0;32mreturn\u001B[0m \u001B[0mwrapper\u001B[0m\u001B[0;34m\u001B[0m\u001B[0;34m\u001B[0m\u001B[0m\n",
      "\u001B[0;32m~/miniconda3/lib/python3.7/site-packages/pandas/core/frame.py\u001B[0m in \u001B[0;36mdrop\u001B[0;34m(self, labels, axis, index, columns, level, inplace, errors)\u001B[0m\n\u001B[1;32m   4911\u001B[0m             \u001B[0mlevel\u001B[0m\u001B[0;34m=\u001B[0m\u001B[0mlevel\u001B[0m\u001B[0;34m,\u001B[0m\u001B[0;34m\u001B[0m\u001B[0;34m\u001B[0m\u001B[0m\n\u001B[1;32m   4912\u001B[0m             \u001B[0minplace\u001B[0m\u001B[0;34m=\u001B[0m\u001B[0minplace\u001B[0m\u001B[0;34m,\u001B[0m\u001B[0;34m\u001B[0m\u001B[0;34m\u001B[0m\u001B[0m\n\u001B[0;32m-> 4913\u001B[0;31m             \u001B[0merrors\u001B[0m\u001B[0;34m=\u001B[0m\u001B[0merrors\u001B[0m\u001B[0;34m,\u001B[0m\u001B[0;34m\u001B[0m\u001B[0;34m\u001B[0m\u001B[0m\n\u001B[0m\u001B[1;32m   4914\u001B[0m         )\n\u001B[1;32m   4915\u001B[0m \u001B[0;34m\u001B[0m\u001B[0m\n",
      "\u001B[0;32m~/miniconda3/lib/python3.7/site-packages/pandas/core/generic.py\u001B[0m in \u001B[0;36mdrop\u001B[0;34m(self, labels, axis, index, columns, level, inplace, errors)\u001B[0m\n\u001B[1;32m   4148\u001B[0m         \u001B[0;32mfor\u001B[0m \u001B[0maxis\u001B[0m\u001B[0;34m,\u001B[0m \u001B[0mlabels\u001B[0m \u001B[0;32min\u001B[0m \u001B[0maxes\u001B[0m\u001B[0;34m.\u001B[0m\u001B[0mitems\u001B[0m\u001B[0;34m(\u001B[0m\u001B[0;34m)\u001B[0m\u001B[0;34m:\u001B[0m\u001B[0;34m\u001B[0m\u001B[0;34m\u001B[0m\u001B[0m\n\u001B[1;32m   4149\u001B[0m             \u001B[0;32mif\u001B[0m \u001B[0mlabels\u001B[0m \u001B[0;32mis\u001B[0m \u001B[0;32mnot\u001B[0m \u001B[0;32mNone\u001B[0m\u001B[0;34m:\u001B[0m\u001B[0;34m\u001B[0m\u001B[0;34m\u001B[0m\u001B[0m\n\u001B[0;32m-> 4150\u001B[0;31m                 \u001B[0mobj\u001B[0m \u001B[0;34m=\u001B[0m \u001B[0mobj\u001B[0m\u001B[0;34m.\u001B[0m\u001B[0m_drop_axis\u001B[0m\u001B[0;34m(\u001B[0m\u001B[0mlabels\u001B[0m\u001B[0;34m,\u001B[0m \u001B[0maxis\u001B[0m\u001B[0;34m,\u001B[0m \u001B[0mlevel\u001B[0m\u001B[0;34m=\u001B[0m\u001B[0mlevel\u001B[0m\u001B[0;34m,\u001B[0m \u001B[0merrors\u001B[0m\u001B[0;34m=\u001B[0m\u001B[0merrors\u001B[0m\u001B[0;34m)\u001B[0m\u001B[0;34m\u001B[0m\u001B[0;34m\u001B[0m\u001B[0m\n\u001B[0m\u001B[1;32m   4151\u001B[0m \u001B[0;34m\u001B[0m\u001B[0m\n\u001B[1;32m   4152\u001B[0m         \u001B[0;32mif\u001B[0m \u001B[0minplace\u001B[0m\u001B[0;34m:\u001B[0m\u001B[0;34m\u001B[0m\u001B[0;34m\u001B[0m\u001B[0m\n",
      "\u001B[0;32m~/miniconda3/lib/python3.7/site-packages/pandas/core/generic.py\u001B[0m in \u001B[0;36m_drop_axis\u001B[0;34m(self, labels, axis, level, errors)\u001B[0m\n\u001B[1;32m   4183\u001B[0m                 \u001B[0mnew_axis\u001B[0m \u001B[0;34m=\u001B[0m \u001B[0maxis\u001B[0m\u001B[0;34m.\u001B[0m\u001B[0mdrop\u001B[0m\u001B[0;34m(\u001B[0m\u001B[0mlabels\u001B[0m\u001B[0;34m,\u001B[0m \u001B[0mlevel\u001B[0m\u001B[0;34m=\u001B[0m\u001B[0mlevel\u001B[0m\u001B[0;34m,\u001B[0m \u001B[0merrors\u001B[0m\u001B[0;34m=\u001B[0m\u001B[0merrors\u001B[0m\u001B[0;34m)\u001B[0m\u001B[0;34m\u001B[0m\u001B[0;34m\u001B[0m\u001B[0m\n\u001B[1;32m   4184\u001B[0m             \u001B[0;32melse\u001B[0m\u001B[0;34m:\u001B[0m\u001B[0;34m\u001B[0m\u001B[0;34m\u001B[0m\u001B[0m\n\u001B[0;32m-> 4185\u001B[0;31m                 \u001B[0mnew_axis\u001B[0m \u001B[0;34m=\u001B[0m \u001B[0maxis\u001B[0m\u001B[0;34m.\u001B[0m\u001B[0mdrop\u001B[0m\u001B[0;34m(\u001B[0m\u001B[0mlabels\u001B[0m\u001B[0;34m,\u001B[0m \u001B[0merrors\u001B[0m\u001B[0;34m=\u001B[0m\u001B[0merrors\u001B[0m\u001B[0;34m)\u001B[0m\u001B[0;34m\u001B[0m\u001B[0;34m\u001B[0m\u001B[0m\n\u001B[0m\u001B[1;32m   4186\u001B[0m             \u001B[0mresult\u001B[0m \u001B[0;34m=\u001B[0m \u001B[0mself\u001B[0m\u001B[0;34m.\u001B[0m\u001B[0mreindex\u001B[0m\u001B[0;34m(\u001B[0m\u001B[0;34m**\u001B[0m\u001B[0;34m{\u001B[0m\u001B[0maxis_name\u001B[0m\u001B[0;34m:\u001B[0m \u001B[0mnew_axis\u001B[0m\u001B[0;34m}\u001B[0m\u001B[0;34m)\u001B[0m\u001B[0;34m\u001B[0m\u001B[0;34m\u001B[0m\u001B[0m\n\u001B[1;32m   4187\u001B[0m \u001B[0;34m\u001B[0m\u001B[0m\n",
      "\u001B[0;32m~/miniconda3/lib/python3.7/site-packages/pandas/core/indexes/base.py\u001B[0m in \u001B[0;36mdrop\u001B[0;34m(self, labels, errors)\u001B[0m\n\u001B[1;32m   6015\u001B[0m         \u001B[0;32mif\u001B[0m \u001B[0mmask\u001B[0m\u001B[0;34m.\u001B[0m\u001B[0many\u001B[0m\u001B[0;34m(\u001B[0m\u001B[0;34m)\u001B[0m\u001B[0;34m:\u001B[0m\u001B[0;34m\u001B[0m\u001B[0;34m\u001B[0m\u001B[0m\n\u001B[1;32m   6016\u001B[0m             \u001B[0;32mif\u001B[0m \u001B[0merrors\u001B[0m \u001B[0;34m!=\u001B[0m \u001B[0;34m\"ignore\"\u001B[0m\u001B[0;34m:\u001B[0m\u001B[0;34m\u001B[0m\u001B[0;34m\u001B[0m\u001B[0m\n\u001B[0;32m-> 6017\u001B[0;31m                 \u001B[0;32mraise\u001B[0m \u001B[0mKeyError\u001B[0m\u001B[0;34m(\u001B[0m\u001B[0;34mf\"{labels[mask]} not found in axis\"\u001B[0m\u001B[0;34m)\u001B[0m\u001B[0;34m\u001B[0m\u001B[0;34m\u001B[0m\u001B[0m\n\u001B[0m\u001B[1;32m   6018\u001B[0m             \u001B[0mindexer\u001B[0m \u001B[0;34m=\u001B[0m \u001B[0mindexer\u001B[0m\u001B[0;34m[\u001B[0m\u001B[0;34m~\u001B[0m\u001B[0mmask\u001B[0m\u001B[0;34m]\u001B[0m\u001B[0;34m\u001B[0m\u001B[0;34m\u001B[0m\u001B[0m\n\u001B[1;32m   6019\u001B[0m         \u001B[0;32mreturn\u001B[0m \u001B[0mself\u001B[0m\u001B[0;34m.\u001B[0m\u001B[0mdelete\u001B[0m\u001B[0;34m(\u001B[0m\u001B[0mindexer\u001B[0m\u001B[0;34m)\u001B[0m\u001B[0;34m\u001B[0m\u001B[0;34m\u001B[0m\u001B[0m\n",
      "\u001B[0;31mKeyError\u001B[0m: \"['Corepin_Soldering' 'Soldering' 'Shrinkage' 'Short_Shot' 'Crack'\\n 'Ejection_Pin_Burr' 'PRESSURE_ERROR_UP' 'PRESSURE_ERROR_DOWN'] not found in axis\""
     ]
    }
   ],
   "source": [
    "df_refine = df_refine.drop(columns = drop_error)\n",
    "\n",
    "df_refine"
   ],
   "metadata": {
    "collapsed": false
   }
  },
  {
   "cell_type": "code",
   "execution_count": 33,
   "outputs": [
    {
     "data": {
      "text/plain": "0    4229\n2    3902\n3     400\n1     100\nName: TYPE, dtype: int64"
     },
     "execution_count": 33,
     "metadata": {},
     "output_type": "execute_result"
    }
   ],
   "source": [
    "df_refine['TYPE'].value_counts()"
   ],
   "metadata": {
    "collapsed": false
   }
  },
  {
   "cell_type": "code",
   "execution_count": 43,
   "outputs": [],
   "source": [
    "df_refine.to_csv('refine_final.csv', index = False)"
   ],
   "metadata": {
    "collapsed": false
   }
  },
  {
   "cell_type": "code",
   "execution_count": null,
   "outputs": [],
   "source": [],
   "metadata": {
    "collapsed": false
   }
  }
 ],
 "metadata": {
  "kernelspec": {
   "display_name": "Python 3",
   "language": "python",
   "name": "python3"
  },
  "language_info": {
   "codemirror_mode": {
    "name": "ipython",
    "version": 2
   },
   "file_extension": ".py",
   "mimetype": "text/x-python",
   "name": "python",
   "nbconvert_exporter": "python",
   "pygments_lexer": "ipython2",
   "version": "2.7.6"
  }
 },
 "nbformat": 4,
 "nbformat_minor": 0
}
