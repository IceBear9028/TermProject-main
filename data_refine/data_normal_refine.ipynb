{
 "cells": [
  {
   "cell_type": "code",
   "execution_count": 1,
   "metadata": {
    "collapsed": true
   },
   "outputs": [],
   "source": [
    "import pandas as pd"
   ]
  },
  {
   "cell_type": "code",
   "execution_count": 6,
   "outputs": [],
   "source": [
    "# 이상치 제거 함수\n",
    "def outlier_TF(x):\n",
    "    Q1 = x.quantile(1/4)\n",
    "    Q3 = x.quantile(3/4)\n",
    "    iqr = Q3 - Q1\n",
    "    LL = Q1 - (iqr * 1.5)\n",
    "    UL = Q3 + (iqr * 1.5)\n",
    "    outlier = (UL < x) | (LL > x)\n",
    "    return outlier"
   ],
   "metadata": {
    "collapsed": false
   }
  },
  {
   "cell_type": "code",
   "execution_count": 34,
   "outputs": [
    {
     "data": {
      "text/plain": "                  LOT  Unnamed: 0  Injection_Velocity_1  Injection_Velocity_2  \\\n0     180102-021-0101    0.000000              0.958333              0.777778   \n1     180102-021-0101    0.020408              0.666667              0.555556   \n2     180102-021-0101    0.040816              0.229167              0.888889   \n3     180102-021-0101    0.061224              0.125000              0.111111   \n4     180102-021-0101    0.081633              0.666667              0.444444   \n...               ...         ...                   ...                   ...   \n8626  180606-022-0101    0.904762              0.777778              0.400000   \n8627  180606-022-0101    0.928571              0.555556              0.600000   \n8628  180606-022-0101    0.952381              0.888889              0.600000   \n8629  180606-022-0101    0.976190              0.388889              0.800000   \n8630  180606-022-0101    1.000000              0.333333              0.200000   \n\n      Injection_Velocity_3  Humidity  Temperature  Casting_Pressure  \n0                 0.633333  0.767785     0.729073          1.000000  \n1                 0.266667  0.224161     0.188119          0.994695  \n2                 0.733333  0.918568     0.942394          1.000000  \n3                 0.000000  0.046980     0.047705          0.055703  \n4                 0.366667  0.306040     0.216022          0.992042  \n...                    ...       ...          ...               ...  \n8626              0.500000  0.777607     0.135152          0.714286  \n8627              0.690476  0.610940     0.457273          0.714286  \n8628              0.571429  0.326068     0.606970          0.714286  \n8629              0.690476  0.021282     0.940303          0.571429  \n8630              0.380952  0.907521     0.037879          0.714286  \n\n[8631 rows x 8 columns]",
      "text/html": "<div>\n<style scoped>\n    .dataframe tbody tr th:only-of-type {\n        vertical-align: middle;\n    }\n\n    .dataframe tbody tr th {\n        vertical-align: top;\n    }\n\n    .dataframe thead th {\n        text-align: right;\n    }\n</style>\n<table border=\"1\" class=\"dataframe\">\n  <thead>\n    <tr style=\"text-align: right;\">\n      <th></th>\n      <th>LOT</th>\n      <th>Unnamed: 0</th>\n      <th>Injection_Velocity_1</th>\n      <th>Injection_Velocity_2</th>\n      <th>Injection_Velocity_3</th>\n      <th>Humidity</th>\n      <th>Temperature</th>\n      <th>Casting_Pressure</th>\n    </tr>\n  </thead>\n  <tbody>\n    <tr>\n      <th>0</th>\n      <td>180102-021-0101</td>\n      <td>0.000000</td>\n      <td>0.958333</td>\n      <td>0.777778</td>\n      <td>0.633333</td>\n      <td>0.767785</td>\n      <td>0.729073</td>\n      <td>1.000000</td>\n    </tr>\n    <tr>\n      <th>1</th>\n      <td>180102-021-0101</td>\n      <td>0.020408</td>\n      <td>0.666667</td>\n      <td>0.555556</td>\n      <td>0.266667</td>\n      <td>0.224161</td>\n      <td>0.188119</td>\n      <td>0.994695</td>\n    </tr>\n    <tr>\n      <th>2</th>\n      <td>180102-021-0101</td>\n      <td>0.040816</td>\n      <td>0.229167</td>\n      <td>0.888889</td>\n      <td>0.733333</td>\n      <td>0.918568</td>\n      <td>0.942394</td>\n      <td>1.000000</td>\n    </tr>\n    <tr>\n      <th>3</th>\n      <td>180102-021-0101</td>\n      <td>0.061224</td>\n      <td>0.125000</td>\n      <td>0.111111</td>\n      <td>0.000000</td>\n      <td>0.046980</td>\n      <td>0.047705</td>\n      <td>0.055703</td>\n    </tr>\n    <tr>\n      <th>4</th>\n      <td>180102-021-0101</td>\n      <td>0.081633</td>\n      <td>0.666667</td>\n      <td>0.444444</td>\n      <td>0.366667</td>\n      <td>0.306040</td>\n      <td>0.216022</td>\n      <td>0.992042</td>\n    </tr>\n    <tr>\n      <th>...</th>\n      <td>...</td>\n      <td>...</td>\n      <td>...</td>\n      <td>...</td>\n      <td>...</td>\n      <td>...</td>\n      <td>...</td>\n      <td>...</td>\n    </tr>\n    <tr>\n      <th>8626</th>\n      <td>180606-022-0101</td>\n      <td>0.904762</td>\n      <td>0.777778</td>\n      <td>0.400000</td>\n      <td>0.500000</td>\n      <td>0.777607</td>\n      <td>0.135152</td>\n      <td>0.714286</td>\n    </tr>\n    <tr>\n      <th>8627</th>\n      <td>180606-022-0101</td>\n      <td>0.928571</td>\n      <td>0.555556</td>\n      <td>0.600000</td>\n      <td>0.690476</td>\n      <td>0.610940</td>\n      <td>0.457273</td>\n      <td>0.714286</td>\n    </tr>\n    <tr>\n      <th>8628</th>\n      <td>180606-022-0101</td>\n      <td>0.952381</td>\n      <td>0.888889</td>\n      <td>0.600000</td>\n      <td>0.571429</td>\n      <td>0.326068</td>\n      <td>0.606970</td>\n      <td>0.714286</td>\n    </tr>\n    <tr>\n      <th>8629</th>\n      <td>180606-022-0101</td>\n      <td>0.976190</td>\n      <td>0.388889</td>\n      <td>0.800000</td>\n      <td>0.690476</td>\n      <td>0.021282</td>\n      <td>0.940303</td>\n      <td>0.571429</td>\n    </tr>\n    <tr>\n      <th>8630</th>\n      <td>180606-022-0101</td>\n      <td>1.000000</td>\n      <td>0.333333</td>\n      <td>0.200000</td>\n      <td>0.380952</td>\n      <td>0.907521</td>\n      <td>0.037879</td>\n      <td>0.714286</td>\n    </tr>\n  </tbody>\n</table>\n<p>8631 rows × 8 columns</p>\n</div>"
     },
     "execution_count": 34,
     "metadata": {},
     "output_type": "execute_result"
    }
   ],
   "source": [
    "df_normal = pd.read_csv('Nomalization.csv')\n",
    "\n",
    "df_normal"
   ],
   "metadata": {
    "collapsed": false
   }
  },
  {
   "cell_type": "code",
   "execution_count": 29,
   "outputs": [
    {
     "data": {
      "text/plain": "                  LOT  Casting_Pressure  Date  Humidity  Injection_Velocity_1  \\\n0     180102-021-0101          0.305904   NaN  0.486005              1.030504   \n1     180102-021-0101          0.285646   NaN -1.349315             -0.039752   \n2     180102-021-0101          0.305904   NaN  0.995061             -1.645138   \n3     180102-021-0101         -3.300120   NaN -1.947494             -2.027372   \n4     180102-021-0101          0.275516   NaN -1.072884             -0.039752   \n...               ...               ...   ...       ...                   ...   \n8626  180606-022-0101          0.563962   NaN  0.891179              0.861035   \n8627  180606-022-0101          0.563962   NaN  0.384885             -0.058828   \n8628  180606-022-0101          0.563962   NaN -0.480486              1.320967   \n8629  180606-022-0101         -0.368745   NaN -1.406354             -0.748726   \n8630  180606-022-0101          0.563962   NaN  1.285828             -0.978692   \n\n      Injection_Velocity_2  Injection_Velocity_3  Temperature  Short_Shot  \\\n0                 0.474189              0.467605     0.639929           3   \n1                -0.403938             -1.110204    -1.061377           3   \n2                 0.913252              0.897917     1.310827           3   \n3                -2.160193             -2.257702    -1.502981           3   \n4                -0.843002             -0.679892    -0.973623           3   \n...                    ...                   ...          ...         ...   \n8626             -0.685014             -0.679254    -0.989011          16   \n8627              0.070258              0.302525    -0.039410          16   \n8628              0.070258             -0.311087     0.401891          16   \n8629              0.825530              0.302525     1.384545          16   \n8630             -1.440286             -1.292866    -1.275768          16   \n\n      ERROR  \n0         0  \n1         0  \n2         0  \n3         0  \n4         0  \n...     ...  \n8626      0  \n8627      0  \n8628      0  \n8629      0  \n8630      0  \n\n[8631 rows x 10 columns]",
      "text/html": "<div>\n<style scoped>\n    .dataframe tbody tr th:only-of-type {\n        vertical-align: middle;\n    }\n\n    .dataframe tbody tr th {\n        vertical-align: top;\n    }\n\n    .dataframe thead th {\n        text-align: right;\n    }\n</style>\n<table border=\"1\" class=\"dataframe\">\n  <thead>\n    <tr style=\"text-align: right;\">\n      <th></th>\n      <th>LOT</th>\n      <th>Casting_Pressure</th>\n      <th>Date</th>\n      <th>Humidity</th>\n      <th>Injection_Velocity_1</th>\n      <th>Injection_Velocity_2</th>\n      <th>Injection_Velocity_3</th>\n      <th>Temperature</th>\n      <th>Short_Shot</th>\n      <th>ERROR</th>\n    </tr>\n  </thead>\n  <tbody>\n    <tr>\n      <th>0</th>\n      <td>180102-021-0101</td>\n      <td>0.305904</td>\n      <td>NaN</td>\n      <td>0.486005</td>\n      <td>1.030504</td>\n      <td>0.474189</td>\n      <td>0.467605</td>\n      <td>0.639929</td>\n      <td>3</td>\n      <td>0</td>\n    </tr>\n    <tr>\n      <th>1</th>\n      <td>180102-021-0101</td>\n      <td>0.285646</td>\n      <td>NaN</td>\n      <td>-1.349315</td>\n      <td>-0.039752</td>\n      <td>-0.403938</td>\n      <td>-1.110204</td>\n      <td>-1.061377</td>\n      <td>3</td>\n      <td>0</td>\n    </tr>\n    <tr>\n      <th>2</th>\n      <td>180102-021-0101</td>\n      <td>0.305904</td>\n      <td>NaN</td>\n      <td>0.995061</td>\n      <td>-1.645138</td>\n      <td>0.913252</td>\n      <td>0.897917</td>\n      <td>1.310827</td>\n      <td>3</td>\n      <td>0</td>\n    </tr>\n    <tr>\n      <th>3</th>\n      <td>180102-021-0101</td>\n      <td>-3.300120</td>\n      <td>NaN</td>\n      <td>-1.947494</td>\n      <td>-2.027372</td>\n      <td>-2.160193</td>\n      <td>-2.257702</td>\n      <td>-1.502981</td>\n      <td>3</td>\n      <td>0</td>\n    </tr>\n    <tr>\n      <th>4</th>\n      <td>180102-021-0101</td>\n      <td>0.275516</td>\n      <td>NaN</td>\n      <td>-1.072884</td>\n      <td>-0.039752</td>\n      <td>-0.843002</td>\n      <td>-0.679892</td>\n      <td>-0.973623</td>\n      <td>3</td>\n      <td>0</td>\n    </tr>\n    <tr>\n      <th>...</th>\n      <td>...</td>\n      <td>...</td>\n      <td>...</td>\n      <td>...</td>\n      <td>...</td>\n      <td>...</td>\n      <td>...</td>\n      <td>...</td>\n      <td>...</td>\n      <td>...</td>\n    </tr>\n    <tr>\n      <th>8626</th>\n      <td>180606-022-0101</td>\n      <td>0.563962</td>\n      <td>NaN</td>\n      <td>0.891179</td>\n      <td>0.861035</td>\n      <td>-0.685014</td>\n      <td>-0.679254</td>\n      <td>-0.989011</td>\n      <td>16</td>\n      <td>0</td>\n    </tr>\n    <tr>\n      <th>8627</th>\n      <td>180606-022-0101</td>\n      <td>0.563962</td>\n      <td>NaN</td>\n      <td>0.384885</td>\n      <td>-0.058828</td>\n      <td>0.070258</td>\n      <td>0.302525</td>\n      <td>-0.039410</td>\n      <td>16</td>\n      <td>0</td>\n    </tr>\n    <tr>\n      <th>8628</th>\n      <td>180606-022-0101</td>\n      <td>0.563962</td>\n      <td>NaN</td>\n      <td>-0.480486</td>\n      <td>1.320967</td>\n      <td>0.070258</td>\n      <td>-0.311087</td>\n      <td>0.401891</td>\n      <td>16</td>\n      <td>0</td>\n    </tr>\n    <tr>\n      <th>8629</th>\n      <td>180606-022-0101</td>\n      <td>-0.368745</td>\n      <td>NaN</td>\n      <td>-1.406354</td>\n      <td>-0.748726</td>\n      <td>0.825530</td>\n      <td>0.302525</td>\n      <td>1.384545</td>\n      <td>16</td>\n      <td>0</td>\n    </tr>\n    <tr>\n      <th>8630</th>\n      <td>180606-022-0101</td>\n      <td>0.563962</td>\n      <td>NaN</td>\n      <td>1.285828</td>\n      <td>-0.978692</td>\n      <td>-1.440286</td>\n      <td>-1.292866</td>\n      <td>-1.275768</td>\n      <td>16</td>\n      <td>0</td>\n    </tr>\n  </tbody>\n</table>\n<p>8631 rows × 10 columns</p>\n</div>"
     },
     "execution_count": 29,
     "metadata": {},
     "output_type": "execute_result"
    }
   ],
   "source": [
    "df_z = pd.read_csv('z-score.csv')\n",
    "\n",
    "df_z"
   ],
   "metadata": {
    "collapsed": false
   }
  },
  {
   "cell_type": "markdown",
   "source": [
    "# 1. 표준화데이터 이상치 제거"
   ],
   "metadata": {
    "collapsed": false
   }
  },
  {
   "cell_type": "code",
   "execution_count": 25,
   "outputs": [
    {
     "ename": "KeyError",
     "evalue": "\"['Date'] not found in axis\"",
     "output_type": "error",
     "traceback": [
      "\u001B[0;31m---------------------------------------------------------------------------\u001B[0m",
      "\u001B[0;31mKeyError\u001B[0m                                  Traceback (most recent call last)",
      "\u001B[0;32m/var/folders/rz/24pnnlk152d2cvbbl1kmpd_80000gn/T/ipykernel_28602/2941378314.py\u001B[0m in \u001B[0;36m<module>\u001B[0;34m\u001B[0m\n\u001B[0;32m----> 1\u001B[0;31m \u001B[0mdf_z\u001B[0m \u001B[0;34m=\u001B[0m \u001B[0mdf_z\u001B[0m\u001B[0;34m.\u001B[0m\u001B[0mdrop\u001B[0m\u001B[0;34m(\u001B[0m\u001B[0mcolumns\u001B[0m \u001B[0;34m=\u001B[0m \u001B[0;34m[\u001B[0m\u001B[0;34m'Date'\u001B[0m\u001B[0;34m]\u001B[0m\u001B[0;34m)\u001B[0m\u001B[0;34m\u001B[0m\u001B[0;34m\u001B[0m\u001B[0m\n\u001B[0m\u001B[1;32m      2\u001B[0m \u001B[0;34m\u001B[0m\u001B[0m\n\u001B[1;32m      3\u001B[0m \u001B[0mdf_z\u001B[0m\u001B[0;34m\u001B[0m\u001B[0;34m\u001B[0m\u001B[0m\n",
      "\u001B[0;32m~/miniconda3/lib/python3.7/site-packages/pandas/util/_decorators.py\u001B[0m in \u001B[0;36mwrapper\u001B[0;34m(*args, **kwargs)\u001B[0m\n\u001B[1;32m    309\u001B[0m                     \u001B[0mstacklevel\u001B[0m\u001B[0;34m=\u001B[0m\u001B[0mstacklevel\u001B[0m\u001B[0;34m,\u001B[0m\u001B[0;34m\u001B[0m\u001B[0;34m\u001B[0m\u001B[0m\n\u001B[1;32m    310\u001B[0m                 )\n\u001B[0;32m--> 311\u001B[0;31m             \u001B[0;32mreturn\u001B[0m \u001B[0mfunc\u001B[0m\u001B[0;34m(\u001B[0m\u001B[0;34m*\u001B[0m\u001B[0margs\u001B[0m\u001B[0;34m,\u001B[0m \u001B[0;34m**\u001B[0m\u001B[0mkwargs\u001B[0m\u001B[0;34m)\u001B[0m\u001B[0;34m\u001B[0m\u001B[0;34m\u001B[0m\u001B[0m\n\u001B[0m\u001B[1;32m    312\u001B[0m \u001B[0;34m\u001B[0m\u001B[0m\n\u001B[1;32m    313\u001B[0m         \u001B[0;32mreturn\u001B[0m \u001B[0mwrapper\u001B[0m\u001B[0;34m\u001B[0m\u001B[0;34m\u001B[0m\u001B[0m\n",
      "\u001B[0;32m~/miniconda3/lib/python3.7/site-packages/pandas/core/frame.py\u001B[0m in \u001B[0;36mdrop\u001B[0;34m(self, labels, axis, index, columns, level, inplace, errors)\u001B[0m\n\u001B[1;32m   4911\u001B[0m             \u001B[0mlevel\u001B[0m\u001B[0;34m=\u001B[0m\u001B[0mlevel\u001B[0m\u001B[0;34m,\u001B[0m\u001B[0;34m\u001B[0m\u001B[0;34m\u001B[0m\u001B[0m\n\u001B[1;32m   4912\u001B[0m             \u001B[0minplace\u001B[0m\u001B[0;34m=\u001B[0m\u001B[0minplace\u001B[0m\u001B[0;34m,\u001B[0m\u001B[0;34m\u001B[0m\u001B[0;34m\u001B[0m\u001B[0m\n\u001B[0;32m-> 4913\u001B[0;31m             \u001B[0merrors\u001B[0m\u001B[0;34m=\u001B[0m\u001B[0merrors\u001B[0m\u001B[0;34m,\u001B[0m\u001B[0;34m\u001B[0m\u001B[0;34m\u001B[0m\u001B[0m\n\u001B[0m\u001B[1;32m   4914\u001B[0m         )\n\u001B[1;32m   4915\u001B[0m \u001B[0;34m\u001B[0m\u001B[0m\n",
      "\u001B[0;32m~/miniconda3/lib/python3.7/site-packages/pandas/core/generic.py\u001B[0m in \u001B[0;36mdrop\u001B[0;34m(self, labels, axis, index, columns, level, inplace, errors)\u001B[0m\n\u001B[1;32m   4148\u001B[0m         \u001B[0;32mfor\u001B[0m \u001B[0maxis\u001B[0m\u001B[0;34m,\u001B[0m \u001B[0mlabels\u001B[0m \u001B[0;32min\u001B[0m \u001B[0maxes\u001B[0m\u001B[0;34m.\u001B[0m\u001B[0mitems\u001B[0m\u001B[0;34m(\u001B[0m\u001B[0;34m)\u001B[0m\u001B[0;34m:\u001B[0m\u001B[0;34m\u001B[0m\u001B[0;34m\u001B[0m\u001B[0m\n\u001B[1;32m   4149\u001B[0m             \u001B[0;32mif\u001B[0m \u001B[0mlabels\u001B[0m \u001B[0;32mis\u001B[0m \u001B[0;32mnot\u001B[0m \u001B[0;32mNone\u001B[0m\u001B[0;34m:\u001B[0m\u001B[0;34m\u001B[0m\u001B[0;34m\u001B[0m\u001B[0m\n\u001B[0;32m-> 4150\u001B[0;31m                 \u001B[0mobj\u001B[0m \u001B[0;34m=\u001B[0m \u001B[0mobj\u001B[0m\u001B[0;34m.\u001B[0m\u001B[0m_drop_axis\u001B[0m\u001B[0;34m(\u001B[0m\u001B[0mlabels\u001B[0m\u001B[0;34m,\u001B[0m \u001B[0maxis\u001B[0m\u001B[0;34m,\u001B[0m \u001B[0mlevel\u001B[0m\u001B[0;34m=\u001B[0m\u001B[0mlevel\u001B[0m\u001B[0;34m,\u001B[0m \u001B[0merrors\u001B[0m\u001B[0;34m=\u001B[0m\u001B[0merrors\u001B[0m\u001B[0;34m)\u001B[0m\u001B[0;34m\u001B[0m\u001B[0;34m\u001B[0m\u001B[0m\n\u001B[0m\u001B[1;32m   4151\u001B[0m \u001B[0;34m\u001B[0m\u001B[0m\n\u001B[1;32m   4152\u001B[0m         \u001B[0;32mif\u001B[0m \u001B[0minplace\u001B[0m\u001B[0;34m:\u001B[0m\u001B[0;34m\u001B[0m\u001B[0;34m\u001B[0m\u001B[0m\n",
      "\u001B[0;32m~/miniconda3/lib/python3.7/site-packages/pandas/core/generic.py\u001B[0m in \u001B[0;36m_drop_axis\u001B[0;34m(self, labels, axis, level, errors)\u001B[0m\n\u001B[1;32m   4183\u001B[0m                 \u001B[0mnew_axis\u001B[0m \u001B[0;34m=\u001B[0m \u001B[0maxis\u001B[0m\u001B[0;34m.\u001B[0m\u001B[0mdrop\u001B[0m\u001B[0;34m(\u001B[0m\u001B[0mlabels\u001B[0m\u001B[0;34m,\u001B[0m \u001B[0mlevel\u001B[0m\u001B[0;34m=\u001B[0m\u001B[0mlevel\u001B[0m\u001B[0;34m,\u001B[0m \u001B[0merrors\u001B[0m\u001B[0;34m=\u001B[0m\u001B[0merrors\u001B[0m\u001B[0;34m)\u001B[0m\u001B[0;34m\u001B[0m\u001B[0;34m\u001B[0m\u001B[0m\n\u001B[1;32m   4184\u001B[0m             \u001B[0;32melse\u001B[0m\u001B[0;34m:\u001B[0m\u001B[0;34m\u001B[0m\u001B[0;34m\u001B[0m\u001B[0m\n\u001B[0;32m-> 4185\u001B[0;31m                 \u001B[0mnew_axis\u001B[0m \u001B[0;34m=\u001B[0m \u001B[0maxis\u001B[0m\u001B[0;34m.\u001B[0m\u001B[0mdrop\u001B[0m\u001B[0;34m(\u001B[0m\u001B[0mlabels\u001B[0m\u001B[0;34m,\u001B[0m \u001B[0merrors\u001B[0m\u001B[0;34m=\u001B[0m\u001B[0merrors\u001B[0m\u001B[0;34m)\u001B[0m\u001B[0;34m\u001B[0m\u001B[0;34m\u001B[0m\u001B[0m\n\u001B[0m\u001B[1;32m   4186\u001B[0m             \u001B[0mresult\u001B[0m \u001B[0;34m=\u001B[0m \u001B[0mself\u001B[0m\u001B[0;34m.\u001B[0m\u001B[0mreindex\u001B[0m\u001B[0;34m(\u001B[0m\u001B[0;34m**\u001B[0m\u001B[0;34m{\u001B[0m\u001B[0maxis_name\u001B[0m\u001B[0;34m:\u001B[0m \u001B[0mnew_axis\u001B[0m\u001B[0;34m}\u001B[0m\u001B[0;34m)\u001B[0m\u001B[0;34m\u001B[0m\u001B[0;34m\u001B[0m\u001B[0m\n\u001B[1;32m   4187\u001B[0m \u001B[0;34m\u001B[0m\u001B[0m\n",
      "\u001B[0;32m~/miniconda3/lib/python3.7/site-packages/pandas/core/indexes/base.py\u001B[0m in \u001B[0;36mdrop\u001B[0;34m(self, labels, errors)\u001B[0m\n\u001B[1;32m   6015\u001B[0m         \u001B[0;32mif\u001B[0m \u001B[0mmask\u001B[0m\u001B[0;34m.\u001B[0m\u001B[0many\u001B[0m\u001B[0;34m(\u001B[0m\u001B[0;34m)\u001B[0m\u001B[0;34m:\u001B[0m\u001B[0;34m\u001B[0m\u001B[0;34m\u001B[0m\u001B[0m\n\u001B[1;32m   6016\u001B[0m             \u001B[0;32mif\u001B[0m \u001B[0merrors\u001B[0m \u001B[0;34m!=\u001B[0m \u001B[0;34m\"ignore\"\u001B[0m\u001B[0;34m:\u001B[0m\u001B[0;34m\u001B[0m\u001B[0;34m\u001B[0m\u001B[0m\n\u001B[0;32m-> 6017\u001B[0;31m                 \u001B[0;32mraise\u001B[0m \u001B[0mKeyError\u001B[0m\u001B[0;34m(\u001B[0m\u001B[0;34mf\"{labels[mask]} not found in axis\"\u001B[0m\u001B[0;34m)\u001B[0m\u001B[0;34m\u001B[0m\u001B[0;34m\u001B[0m\u001B[0m\n\u001B[0m\u001B[1;32m   6018\u001B[0m             \u001B[0mindexer\u001B[0m \u001B[0;34m=\u001B[0m \u001B[0mindexer\u001B[0m\u001B[0;34m[\u001B[0m\u001B[0;34m~\u001B[0m\u001B[0mmask\u001B[0m\u001B[0;34m]\u001B[0m\u001B[0;34m\u001B[0m\u001B[0;34m\u001B[0m\u001B[0m\n\u001B[1;32m   6019\u001B[0m         \u001B[0;32mreturn\u001B[0m \u001B[0mself\u001B[0m\u001B[0;34m.\u001B[0m\u001B[0mdelete\u001B[0m\u001B[0;34m(\u001B[0m\u001B[0mindexer\u001B[0m\u001B[0;34m)\u001B[0m\u001B[0;34m\u001B[0m\u001B[0;34m\u001B[0m\u001B[0m\n",
      "\u001B[0;31mKeyError\u001B[0m: \"['Date'] not found in axis\""
     ]
    }
   ],
   "source": [
    "df_z = df_z.drop(columns = ['Date'])\n",
    "\n",
    "df_z"
   ],
   "metadata": {
    "collapsed": false
   }
  },
  {
   "cell_type": "code",
   "execution_count": 7,
   "outputs": [],
   "source": [
    "##\n",
    "df_z_X = df_z.drop(columns = ['Short_Shot', 'ERROR'])\n",
    "df_z_Y = df_z[['Short_Shot', 'ERROR']]"
   ],
   "metadata": {
    "collapsed": false
   }
  },
  {
   "cell_type": "code",
   "execution_count": 8,
   "outputs": [
    {
     "data": {
      "text/plain": "                  LOT  Casting_Pressure  Humidity  Injection_Velocity_1  \\\n0     180102-021-0101          0.305904  0.486005              1.030504   \n1     180102-021-0101          0.285646 -1.349315             -0.039752   \n2     180102-021-0101          0.305904  0.995061             -1.645138   \n3     180102-021-0101         -3.300120 -1.947494             -2.027372   \n4     180102-021-0101          0.275516 -1.072884             -0.039752   \n...               ...               ...       ...                   ...   \n8626  180606-022-0101          0.563962  0.891179              0.861035   \n8627  180606-022-0101          0.563962  0.384885             -0.058828   \n8628  180606-022-0101          0.563962 -0.480486              1.320967   \n8629  180606-022-0101         -0.368745 -1.406354             -0.748726   \n8630  180606-022-0101          0.563962  1.285828             -0.978692   \n\n      Injection_Velocity_2  Injection_Velocity_3  Temperature  \n0                 0.474189              0.467605     0.639929  \n1                -0.403938             -1.110204    -1.061377  \n2                 0.913252              0.897917     1.310827  \n3                -2.160193             -2.257702    -1.502981  \n4                -0.843002             -0.679892    -0.973623  \n...                    ...                   ...          ...  \n8626             -0.685014             -0.679254    -0.989011  \n8627              0.070258              0.302525    -0.039410  \n8628              0.070258             -0.311087     0.401891  \n8629              0.825530              0.302525     1.384545  \n8630             -1.440286             -1.292866    -1.275768  \n\n[8631 rows x 7 columns]",
      "text/html": "<div>\n<style scoped>\n    .dataframe tbody tr th:only-of-type {\n        vertical-align: middle;\n    }\n\n    .dataframe tbody tr th {\n        vertical-align: top;\n    }\n\n    .dataframe thead th {\n        text-align: right;\n    }\n</style>\n<table border=\"1\" class=\"dataframe\">\n  <thead>\n    <tr style=\"text-align: right;\">\n      <th></th>\n      <th>LOT</th>\n      <th>Casting_Pressure</th>\n      <th>Humidity</th>\n      <th>Injection_Velocity_1</th>\n      <th>Injection_Velocity_2</th>\n      <th>Injection_Velocity_3</th>\n      <th>Temperature</th>\n    </tr>\n  </thead>\n  <tbody>\n    <tr>\n      <th>0</th>\n      <td>180102-021-0101</td>\n      <td>0.305904</td>\n      <td>0.486005</td>\n      <td>1.030504</td>\n      <td>0.474189</td>\n      <td>0.467605</td>\n      <td>0.639929</td>\n    </tr>\n    <tr>\n      <th>1</th>\n      <td>180102-021-0101</td>\n      <td>0.285646</td>\n      <td>-1.349315</td>\n      <td>-0.039752</td>\n      <td>-0.403938</td>\n      <td>-1.110204</td>\n      <td>-1.061377</td>\n    </tr>\n    <tr>\n      <th>2</th>\n      <td>180102-021-0101</td>\n      <td>0.305904</td>\n      <td>0.995061</td>\n      <td>-1.645138</td>\n      <td>0.913252</td>\n      <td>0.897917</td>\n      <td>1.310827</td>\n    </tr>\n    <tr>\n      <th>3</th>\n      <td>180102-021-0101</td>\n      <td>-3.300120</td>\n      <td>-1.947494</td>\n      <td>-2.027372</td>\n      <td>-2.160193</td>\n      <td>-2.257702</td>\n      <td>-1.502981</td>\n    </tr>\n    <tr>\n      <th>4</th>\n      <td>180102-021-0101</td>\n      <td>0.275516</td>\n      <td>-1.072884</td>\n      <td>-0.039752</td>\n      <td>-0.843002</td>\n      <td>-0.679892</td>\n      <td>-0.973623</td>\n    </tr>\n    <tr>\n      <th>...</th>\n      <td>...</td>\n      <td>...</td>\n      <td>...</td>\n      <td>...</td>\n      <td>...</td>\n      <td>...</td>\n      <td>...</td>\n    </tr>\n    <tr>\n      <th>8626</th>\n      <td>180606-022-0101</td>\n      <td>0.563962</td>\n      <td>0.891179</td>\n      <td>0.861035</td>\n      <td>-0.685014</td>\n      <td>-0.679254</td>\n      <td>-0.989011</td>\n    </tr>\n    <tr>\n      <th>8627</th>\n      <td>180606-022-0101</td>\n      <td>0.563962</td>\n      <td>0.384885</td>\n      <td>-0.058828</td>\n      <td>0.070258</td>\n      <td>0.302525</td>\n      <td>-0.039410</td>\n    </tr>\n    <tr>\n      <th>8628</th>\n      <td>180606-022-0101</td>\n      <td>0.563962</td>\n      <td>-0.480486</td>\n      <td>1.320967</td>\n      <td>0.070258</td>\n      <td>-0.311087</td>\n      <td>0.401891</td>\n    </tr>\n    <tr>\n      <th>8629</th>\n      <td>180606-022-0101</td>\n      <td>-0.368745</td>\n      <td>-1.406354</td>\n      <td>-0.748726</td>\n      <td>0.825530</td>\n      <td>0.302525</td>\n      <td>1.384545</td>\n    </tr>\n    <tr>\n      <th>8630</th>\n      <td>180606-022-0101</td>\n      <td>0.563962</td>\n      <td>1.285828</td>\n      <td>-0.978692</td>\n      <td>-1.440286</td>\n      <td>-1.292866</td>\n      <td>-1.275768</td>\n    </tr>\n  </tbody>\n</table>\n<p>8631 rows × 7 columns</p>\n</div>"
     },
     "execution_count": 8,
     "metadata": {},
     "output_type": "execute_result"
    }
   ],
   "source": [
    "df_z_X"
   ],
   "metadata": {
    "collapsed": false
   }
  },
  {
   "cell_type": "code",
   "execution_count": 26,
   "outputs": [
    {
     "data": {
      "text/plain": "      Short_Shot  ERROR\n0              3      0\n1              3      0\n2              3      0\n3              3      0\n4              3      0\n...          ...    ...\n8626          16      0\n8627          16      0\n8628          16      0\n8629          16      0\n8630          16      0\n\n[8631 rows x 2 columns]",
      "text/html": "<div>\n<style scoped>\n    .dataframe tbody tr th:only-of-type {\n        vertical-align: middle;\n    }\n\n    .dataframe tbody tr th {\n        vertical-align: top;\n    }\n\n    .dataframe thead th {\n        text-align: right;\n    }\n</style>\n<table border=\"1\" class=\"dataframe\">\n  <thead>\n    <tr style=\"text-align: right;\">\n      <th></th>\n      <th>Short_Shot</th>\n      <th>ERROR</th>\n    </tr>\n  </thead>\n  <tbody>\n    <tr>\n      <th>0</th>\n      <td>3</td>\n      <td>0</td>\n    </tr>\n    <tr>\n      <th>1</th>\n      <td>3</td>\n      <td>0</td>\n    </tr>\n    <tr>\n      <th>2</th>\n      <td>3</td>\n      <td>0</td>\n    </tr>\n    <tr>\n      <th>3</th>\n      <td>3</td>\n      <td>0</td>\n    </tr>\n    <tr>\n      <th>4</th>\n      <td>3</td>\n      <td>0</td>\n    </tr>\n    <tr>\n      <th>...</th>\n      <td>...</td>\n      <td>...</td>\n    </tr>\n    <tr>\n      <th>8626</th>\n      <td>16</td>\n      <td>0</td>\n    </tr>\n    <tr>\n      <th>8627</th>\n      <td>16</td>\n      <td>0</td>\n    </tr>\n    <tr>\n      <th>8628</th>\n      <td>16</td>\n      <td>0</td>\n    </tr>\n    <tr>\n      <th>8629</th>\n      <td>16</td>\n      <td>0</td>\n    </tr>\n    <tr>\n      <th>8630</th>\n      <td>16</td>\n      <td>0</td>\n    </tr>\n  </tbody>\n</table>\n<p>8631 rows × 2 columns</p>\n</div>"
     },
     "execution_count": 26,
     "metadata": {},
     "output_type": "execute_result"
    }
   ],
   "source": [
    "df_z_Y"
   ],
   "metadata": {
    "collapsed": false
   }
  },
  {
   "cell_type": "code",
   "execution_count": 11,
   "outputs": [
    {
     "name": "stderr",
     "output_type": "stream",
     "text": [
      "/Users/isang-yun/miniconda3/lib/python3.7/site-packages/ipykernel_launcher.py:8: FutureWarning: Automatic reindexing on DataFrame vs Series comparisons is deprecated and will raise ValueError in a future version.  Do `left, right = left.align(right, axis=1, copy=False)` before e.g. `left == right`\n",
      "  \n"
     ]
    }
   ],
   "source": [
    "## df_z_X 를 이상치 데이터프레임을 하나 만든다.\n",
    "\n",
    "df_outlier_TF_z = df_z_X.groupby('LOT').apply(outlier_TF)"
   ],
   "metadata": {
    "collapsed": false
   }
  },
  {
   "cell_type": "code",
   "execution_count": 14,
   "outputs": [
    {
     "data": {
      "text/plain": "      Casting_Pressure  Humidity  Injection_Velocity_1  Injection_Velocity_2  \\\n0                False     False                 False                 False   \n1                False      True                 False                 False   \n2                False     False                 False                 False   \n3                 True      True                 False                 False   \n4                False     False                 False                 False   \n...                ...       ...                   ...                   ...   \n8626             False     False                 False                 False   \n8627             False     False                 False                 False   \n8628             False     False                 False                 False   \n8629             False     False                 False                 False   \n8630             False     False                 False                 False   \n\n      Injection_Velocity_3    LOT  Temperature  \n0                    False  False        False  \n1                    False  False        False  \n2                    False  False        False  \n3                    False  False        False  \n4                    False  False        False  \n...                    ...    ...          ...  \n8626                 False  False        False  \n8627                 False  False        False  \n8628                 False  False        False  \n8629                 False  False        False  \n8630                 False  False        False  \n\n[8631 rows x 7 columns]",
      "text/html": "<div>\n<style scoped>\n    .dataframe tbody tr th:only-of-type {\n        vertical-align: middle;\n    }\n\n    .dataframe tbody tr th {\n        vertical-align: top;\n    }\n\n    .dataframe thead th {\n        text-align: right;\n    }\n</style>\n<table border=\"1\" class=\"dataframe\">\n  <thead>\n    <tr style=\"text-align: right;\">\n      <th></th>\n      <th>Casting_Pressure</th>\n      <th>Humidity</th>\n      <th>Injection_Velocity_1</th>\n      <th>Injection_Velocity_2</th>\n      <th>Injection_Velocity_3</th>\n      <th>LOT</th>\n      <th>Temperature</th>\n    </tr>\n  </thead>\n  <tbody>\n    <tr>\n      <th>0</th>\n      <td>False</td>\n      <td>False</td>\n      <td>False</td>\n      <td>False</td>\n      <td>False</td>\n      <td>False</td>\n      <td>False</td>\n    </tr>\n    <tr>\n      <th>1</th>\n      <td>False</td>\n      <td>True</td>\n      <td>False</td>\n      <td>False</td>\n      <td>False</td>\n      <td>False</td>\n      <td>False</td>\n    </tr>\n    <tr>\n      <th>2</th>\n      <td>False</td>\n      <td>False</td>\n      <td>False</td>\n      <td>False</td>\n      <td>False</td>\n      <td>False</td>\n      <td>False</td>\n    </tr>\n    <tr>\n      <th>3</th>\n      <td>True</td>\n      <td>True</td>\n      <td>False</td>\n      <td>False</td>\n      <td>False</td>\n      <td>False</td>\n      <td>False</td>\n    </tr>\n    <tr>\n      <th>4</th>\n      <td>False</td>\n      <td>False</td>\n      <td>False</td>\n      <td>False</td>\n      <td>False</td>\n      <td>False</td>\n      <td>False</td>\n    </tr>\n    <tr>\n      <th>...</th>\n      <td>...</td>\n      <td>...</td>\n      <td>...</td>\n      <td>...</td>\n      <td>...</td>\n      <td>...</td>\n      <td>...</td>\n    </tr>\n    <tr>\n      <th>8626</th>\n      <td>False</td>\n      <td>False</td>\n      <td>False</td>\n      <td>False</td>\n      <td>False</td>\n      <td>False</td>\n      <td>False</td>\n    </tr>\n    <tr>\n      <th>8627</th>\n      <td>False</td>\n      <td>False</td>\n      <td>False</td>\n      <td>False</td>\n      <td>False</td>\n      <td>False</td>\n      <td>False</td>\n    </tr>\n    <tr>\n      <th>8628</th>\n      <td>False</td>\n      <td>False</td>\n      <td>False</td>\n      <td>False</td>\n      <td>False</td>\n      <td>False</td>\n      <td>False</td>\n    </tr>\n    <tr>\n      <th>8629</th>\n      <td>False</td>\n      <td>False</td>\n      <td>False</td>\n      <td>False</td>\n      <td>False</td>\n      <td>False</td>\n      <td>False</td>\n    </tr>\n    <tr>\n      <th>8630</th>\n      <td>False</td>\n      <td>False</td>\n      <td>False</td>\n      <td>False</td>\n      <td>False</td>\n      <td>False</td>\n      <td>False</td>\n    </tr>\n  </tbody>\n</table>\n<p>8631 rows × 7 columns</p>\n</div>"
     },
     "execution_count": 14,
     "metadata": {},
     "output_type": "execute_result"
    }
   ],
   "source": [
    "df_outlier_TF_z"
   ],
   "metadata": {
    "collapsed": false
   }
  },
  {
   "cell_type": "code",
   "execution_count": 16,
   "outputs": [
    {
     "data": {
      "text/plain": "0    6892\n1    1444\n2     223\n3      46\n4      23\n5       2\n6       1\ndtype: int64"
     },
     "execution_count": 16,
     "metadata": {},
     "output_type": "execute_result"
    }
   ],
   "source": [
    "df_outlier_TF_z.sum(axis = 'columns').value_counts()"
   ],
   "metadata": {
    "collapsed": false
   }
  },
  {
   "cell_type": "code",
   "execution_count": 18,
   "outputs": [
    {
     "data": {
      "text/plain": "      Casting_Pressure  Humidity  Injection_Velocity_1  Injection_Velocity_2  \\\n0                False     False                 False                 False   \n1                False      True                 False                 False   \n2                False     False                 False                 False   \n3                 True      True                 False                 False   \n4                False     False                 False                 False   \n...                ...       ...                   ...                   ...   \n8626             False     False                 False                 False   \n8627             False     False                 False                 False   \n8628             False     False                 False                 False   \n8629             False     False                 False                 False   \n8630             False     False                 False                 False   \n\n      Injection_Velocity_3    LOT  Temperature  Short_Shot  ERROR  \n0                    False  False        False       False  False  \n1                    False  False        False       False  False  \n2                    False  False        False       False  False  \n3                    False  False        False       False  False  \n4                    False  False        False       False  False  \n...                    ...    ...          ...         ...    ...  \n8626                 False  False        False       False  False  \n8627                 False  False        False       False  False  \n8628                 False  False        False       False  False  \n8629                 False  False        False       False  False  \n8630                 False  False        False       False  False  \n\n[8631 rows x 9 columns]",
      "text/html": "<div>\n<style scoped>\n    .dataframe tbody tr th:only-of-type {\n        vertical-align: middle;\n    }\n\n    .dataframe tbody tr th {\n        vertical-align: top;\n    }\n\n    .dataframe thead th {\n        text-align: right;\n    }\n</style>\n<table border=\"1\" class=\"dataframe\">\n  <thead>\n    <tr style=\"text-align: right;\">\n      <th></th>\n      <th>Casting_Pressure</th>\n      <th>Humidity</th>\n      <th>Injection_Velocity_1</th>\n      <th>Injection_Velocity_2</th>\n      <th>Injection_Velocity_3</th>\n      <th>LOT</th>\n      <th>Temperature</th>\n      <th>Short_Shot</th>\n      <th>ERROR</th>\n    </tr>\n  </thead>\n  <tbody>\n    <tr>\n      <th>0</th>\n      <td>False</td>\n      <td>False</td>\n      <td>False</td>\n      <td>False</td>\n      <td>False</td>\n      <td>False</td>\n      <td>False</td>\n      <td>False</td>\n      <td>False</td>\n    </tr>\n    <tr>\n      <th>1</th>\n      <td>False</td>\n      <td>True</td>\n      <td>False</td>\n      <td>False</td>\n      <td>False</td>\n      <td>False</td>\n      <td>False</td>\n      <td>False</td>\n      <td>False</td>\n    </tr>\n    <tr>\n      <th>2</th>\n      <td>False</td>\n      <td>False</td>\n      <td>False</td>\n      <td>False</td>\n      <td>False</td>\n      <td>False</td>\n      <td>False</td>\n      <td>False</td>\n      <td>False</td>\n    </tr>\n    <tr>\n      <th>3</th>\n      <td>True</td>\n      <td>True</td>\n      <td>False</td>\n      <td>False</td>\n      <td>False</td>\n      <td>False</td>\n      <td>False</td>\n      <td>False</td>\n      <td>False</td>\n    </tr>\n    <tr>\n      <th>4</th>\n      <td>False</td>\n      <td>False</td>\n      <td>False</td>\n      <td>False</td>\n      <td>False</td>\n      <td>False</td>\n      <td>False</td>\n      <td>False</td>\n      <td>False</td>\n    </tr>\n    <tr>\n      <th>...</th>\n      <td>...</td>\n      <td>...</td>\n      <td>...</td>\n      <td>...</td>\n      <td>...</td>\n      <td>...</td>\n      <td>...</td>\n      <td>...</td>\n      <td>...</td>\n    </tr>\n    <tr>\n      <th>8626</th>\n      <td>False</td>\n      <td>False</td>\n      <td>False</td>\n      <td>False</td>\n      <td>False</td>\n      <td>False</td>\n      <td>False</td>\n      <td>False</td>\n      <td>False</td>\n    </tr>\n    <tr>\n      <th>8627</th>\n      <td>False</td>\n      <td>False</td>\n      <td>False</td>\n      <td>False</td>\n      <td>False</td>\n      <td>False</td>\n      <td>False</td>\n      <td>False</td>\n      <td>False</td>\n    </tr>\n    <tr>\n      <th>8628</th>\n      <td>False</td>\n      <td>False</td>\n      <td>False</td>\n      <td>False</td>\n      <td>False</td>\n      <td>False</td>\n      <td>False</td>\n      <td>False</td>\n      <td>False</td>\n    </tr>\n    <tr>\n      <th>8629</th>\n      <td>False</td>\n      <td>False</td>\n      <td>False</td>\n      <td>False</td>\n      <td>False</td>\n      <td>False</td>\n      <td>False</td>\n      <td>False</td>\n      <td>False</td>\n    </tr>\n    <tr>\n      <th>8630</th>\n      <td>False</td>\n      <td>False</td>\n      <td>False</td>\n      <td>False</td>\n      <td>False</td>\n      <td>False</td>\n      <td>False</td>\n      <td>False</td>\n      <td>False</td>\n    </tr>\n  </tbody>\n</table>\n<p>8631 rows × 9 columns</p>\n</div>"
     },
     "execution_count": 18,
     "metadata": {},
     "output_type": "execute_result"
    }
   ],
   "source": [
    "df_outlier_TF_z['Short_Shot'] = False\n",
    "df_outlier_TF_z['ERROR'] = False\n",
    "\n",
    "df_outlier_TF_z"
   ],
   "metadata": {
    "collapsed": false
   }
  },
  {
   "cell_type": "code",
   "execution_count": 20,
   "outputs": [
    {
     "data": {
      "text/plain": "                  LOT  Casting_Pressure  Humidity  Injection_Velocity_1  \\\n0     180102-021-0101          0.305904  0.486005              1.030504   \n1     180102-021-0101          0.285646 -1.349315             -0.039752   \n2     180102-021-0101          0.305904  0.995061             -1.645138   \n3     180102-021-0101         -3.300120 -1.947494             -2.027372   \n4     180102-021-0101          0.275516 -1.072884             -0.039752   \n...               ...               ...       ...                   ...   \n8626  180606-022-0101          0.563962  0.891179              0.861035   \n8627  180606-022-0101          0.563962  0.384885             -0.058828   \n8628  180606-022-0101          0.563962 -0.480486              1.320967   \n8629  180606-022-0101         -0.368745 -1.406354             -0.748726   \n8630  180606-022-0101          0.563962  1.285828             -0.978692   \n\n      Injection_Velocity_2  Injection_Velocity_3  Temperature  Short_Shot  \\\n0                 0.474189              0.467605     0.639929           3   \n1                -0.403938             -1.110204    -1.061377           3   \n2                 0.913252              0.897917     1.310827           3   \n3                -2.160193             -2.257702    -1.502981           3   \n4                -0.843002             -0.679892    -0.973623           3   \n...                    ...                   ...          ...         ...   \n8626             -0.685014             -0.679254    -0.989011          16   \n8627              0.070258              0.302525    -0.039410          16   \n8628              0.070258             -0.311087     0.401891          16   \n8629              0.825530              0.302525     1.384545          16   \n8630             -1.440286             -1.292866    -1.275768          16   \n\n      ERROR  \n0         0  \n1         0  \n2         0  \n3         0  \n4         0  \n...     ...  \n8626      0  \n8627      0  \n8628      0  \n8629      0  \n8630      0  \n\n[8559 rows x 9 columns]",
      "text/html": "<div>\n<style scoped>\n    .dataframe tbody tr th:only-of-type {\n        vertical-align: middle;\n    }\n\n    .dataframe tbody tr th {\n        vertical-align: top;\n    }\n\n    .dataframe thead th {\n        text-align: right;\n    }\n</style>\n<table border=\"1\" class=\"dataframe\">\n  <thead>\n    <tr style=\"text-align: right;\">\n      <th></th>\n      <th>LOT</th>\n      <th>Casting_Pressure</th>\n      <th>Humidity</th>\n      <th>Injection_Velocity_1</th>\n      <th>Injection_Velocity_2</th>\n      <th>Injection_Velocity_3</th>\n      <th>Temperature</th>\n      <th>Short_Shot</th>\n      <th>ERROR</th>\n    </tr>\n  </thead>\n  <tbody>\n    <tr>\n      <th>0</th>\n      <td>180102-021-0101</td>\n      <td>0.305904</td>\n      <td>0.486005</td>\n      <td>1.030504</td>\n      <td>0.474189</td>\n      <td>0.467605</td>\n      <td>0.639929</td>\n      <td>3</td>\n      <td>0</td>\n    </tr>\n    <tr>\n      <th>1</th>\n      <td>180102-021-0101</td>\n      <td>0.285646</td>\n      <td>-1.349315</td>\n      <td>-0.039752</td>\n      <td>-0.403938</td>\n      <td>-1.110204</td>\n      <td>-1.061377</td>\n      <td>3</td>\n      <td>0</td>\n    </tr>\n    <tr>\n      <th>2</th>\n      <td>180102-021-0101</td>\n      <td>0.305904</td>\n      <td>0.995061</td>\n      <td>-1.645138</td>\n      <td>0.913252</td>\n      <td>0.897917</td>\n      <td>1.310827</td>\n      <td>3</td>\n      <td>0</td>\n    </tr>\n    <tr>\n      <th>3</th>\n      <td>180102-021-0101</td>\n      <td>-3.300120</td>\n      <td>-1.947494</td>\n      <td>-2.027372</td>\n      <td>-2.160193</td>\n      <td>-2.257702</td>\n      <td>-1.502981</td>\n      <td>3</td>\n      <td>0</td>\n    </tr>\n    <tr>\n      <th>4</th>\n      <td>180102-021-0101</td>\n      <td>0.275516</td>\n      <td>-1.072884</td>\n      <td>-0.039752</td>\n      <td>-0.843002</td>\n      <td>-0.679892</td>\n      <td>-0.973623</td>\n      <td>3</td>\n      <td>0</td>\n    </tr>\n    <tr>\n      <th>...</th>\n      <td>...</td>\n      <td>...</td>\n      <td>...</td>\n      <td>...</td>\n      <td>...</td>\n      <td>...</td>\n      <td>...</td>\n      <td>...</td>\n      <td>...</td>\n    </tr>\n    <tr>\n      <th>8626</th>\n      <td>180606-022-0101</td>\n      <td>0.563962</td>\n      <td>0.891179</td>\n      <td>0.861035</td>\n      <td>-0.685014</td>\n      <td>-0.679254</td>\n      <td>-0.989011</td>\n      <td>16</td>\n      <td>0</td>\n    </tr>\n    <tr>\n      <th>8627</th>\n      <td>180606-022-0101</td>\n      <td>0.563962</td>\n      <td>0.384885</td>\n      <td>-0.058828</td>\n      <td>0.070258</td>\n      <td>0.302525</td>\n      <td>-0.039410</td>\n      <td>16</td>\n      <td>0</td>\n    </tr>\n    <tr>\n      <th>8628</th>\n      <td>180606-022-0101</td>\n      <td>0.563962</td>\n      <td>-0.480486</td>\n      <td>1.320967</td>\n      <td>0.070258</td>\n      <td>-0.311087</td>\n      <td>0.401891</td>\n      <td>16</td>\n      <td>0</td>\n    </tr>\n    <tr>\n      <th>8629</th>\n      <td>180606-022-0101</td>\n      <td>-0.368745</td>\n      <td>-1.406354</td>\n      <td>-0.748726</td>\n      <td>0.825530</td>\n      <td>0.302525</td>\n      <td>1.384545</td>\n      <td>16</td>\n      <td>0</td>\n    </tr>\n    <tr>\n      <th>8630</th>\n      <td>180606-022-0101</td>\n      <td>0.563962</td>\n      <td>1.285828</td>\n      <td>-0.978692</td>\n      <td>-1.440286</td>\n      <td>-1.292866</td>\n      <td>-1.275768</td>\n      <td>16</td>\n      <td>0</td>\n    </tr>\n  </tbody>\n</table>\n<p>8559 rows × 9 columns</p>\n</div>"
     },
     "execution_count": 20,
     "metadata": {},
     "output_type": "execute_result"
    }
   ],
   "source": [
    "# 한 행에 이상치 개수에 따른 이상치 제거 진행\n",
    "\n",
    "df_refine_z = df_z[df_outlier_TF_z.sum(axis = 'columns') < 3]\n",
    "\n",
    "df_refine_z"
   ],
   "metadata": {
    "collapsed": false
   }
  },
  {
   "cell_type": "markdown",
   "source": [
    "# 2. 정규화 데이터 이상치 제거"
   ],
   "metadata": {
    "collapsed": false
   }
  },
  {
   "cell_type": "code",
   "execution_count": 35,
   "outputs": [
    {
     "data": {
      "text/plain": "                  LOT  Injection_Velocity_1  Injection_Velocity_2  \\\n0     180102-021-0101              0.958333              0.777778   \n1     180102-021-0101              0.666667              0.555556   \n2     180102-021-0101              0.229167              0.888889   \n3     180102-021-0101              0.125000              0.111111   \n4     180102-021-0101              0.666667              0.444444   \n...               ...                   ...                   ...   \n8626  180606-022-0101              0.777778              0.400000   \n8627  180606-022-0101              0.555556              0.600000   \n8628  180606-022-0101              0.888889              0.600000   \n8629  180606-022-0101              0.388889              0.800000   \n8630  180606-022-0101              0.333333              0.200000   \n\n      Injection_Velocity_3  Humidity  Temperature  Casting_Pressure  \\\n0                 0.633333  0.767785     0.729073          1.000000   \n1                 0.266667  0.224161     0.188119          0.994695   \n2                 0.733333  0.918568     0.942394          1.000000   \n3                 0.000000  0.046980     0.047705          0.055703   \n4                 0.366667  0.306040     0.216022          0.992042   \n...                    ...       ...          ...               ...   \n8626              0.500000  0.777607     0.135152          0.714286   \n8627              0.690476  0.610940     0.457273          0.714286   \n8628              0.571429  0.326068     0.606970          0.714286   \n8629              0.690476  0.021282     0.940303          0.571429   \n8630              0.380952  0.907521     0.037879          0.714286   \n\n      Short_Shot  ERROR  \n0              3      0  \n1              3      0  \n2              3      0  \n3              3      0  \n4              3      0  \n...          ...    ...  \n8626          16      0  \n8627          16      0  \n8628          16      0  \n8629          16      0  \n8630          16      0  \n\n[8631 rows x 9 columns]",
      "text/html": "<div>\n<style scoped>\n    .dataframe tbody tr th:only-of-type {\n        vertical-align: middle;\n    }\n\n    .dataframe tbody tr th {\n        vertical-align: top;\n    }\n\n    .dataframe thead th {\n        text-align: right;\n    }\n</style>\n<table border=\"1\" class=\"dataframe\">\n  <thead>\n    <tr style=\"text-align: right;\">\n      <th></th>\n      <th>LOT</th>\n      <th>Injection_Velocity_1</th>\n      <th>Injection_Velocity_2</th>\n      <th>Injection_Velocity_3</th>\n      <th>Humidity</th>\n      <th>Temperature</th>\n      <th>Casting_Pressure</th>\n      <th>Short_Shot</th>\n      <th>ERROR</th>\n    </tr>\n  </thead>\n  <tbody>\n    <tr>\n      <th>0</th>\n      <td>180102-021-0101</td>\n      <td>0.958333</td>\n      <td>0.777778</td>\n      <td>0.633333</td>\n      <td>0.767785</td>\n      <td>0.729073</td>\n      <td>1.000000</td>\n      <td>3</td>\n      <td>0</td>\n    </tr>\n    <tr>\n      <th>1</th>\n      <td>180102-021-0101</td>\n      <td>0.666667</td>\n      <td>0.555556</td>\n      <td>0.266667</td>\n      <td>0.224161</td>\n      <td>0.188119</td>\n      <td>0.994695</td>\n      <td>3</td>\n      <td>0</td>\n    </tr>\n    <tr>\n      <th>2</th>\n      <td>180102-021-0101</td>\n      <td>0.229167</td>\n      <td>0.888889</td>\n      <td>0.733333</td>\n      <td>0.918568</td>\n      <td>0.942394</td>\n      <td>1.000000</td>\n      <td>3</td>\n      <td>0</td>\n    </tr>\n    <tr>\n      <th>3</th>\n      <td>180102-021-0101</td>\n      <td>0.125000</td>\n      <td>0.111111</td>\n      <td>0.000000</td>\n      <td>0.046980</td>\n      <td>0.047705</td>\n      <td>0.055703</td>\n      <td>3</td>\n      <td>0</td>\n    </tr>\n    <tr>\n      <th>4</th>\n      <td>180102-021-0101</td>\n      <td>0.666667</td>\n      <td>0.444444</td>\n      <td>0.366667</td>\n      <td>0.306040</td>\n      <td>0.216022</td>\n      <td>0.992042</td>\n      <td>3</td>\n      <td>0</td>\n    </tr>\n    <tr>\n      <th>...</th>\n      <td>...</td>\n      <td>...</td>\n      <td>...</td>\n      <td>...</td>\n      <td>...</td>\n      <td>...</td>\n      <td>...</td>\n      <td>...</td>\n      <td>...</td>\n    </tr>\n    <tr>\n      <th>8626</th>\n      <td>180606-022-0101</td>\n      <td>0.777778</td>\n      <td>0.400000</td>\n      <td>0.500000</td>\n      <td>0.777607</td>\n      <td>0.135152</td>\n      <td>0.714286</td>\n      <td>16</td>\n      <td>0</td>\n    </tr>\n    <tr>\n      <th>8627</th>\n      <td>180606-022-0101</td>\n      <td>0.555556</td>\n      <td>0.600000</td>\n      <td>0.690476</td>\n      <td>0.610940</td>\n      <td>0.457273</td>\n      <td>0.714286</td>\n      <td>16</td>\n      <td>0</td>\n    </tr>\n    <tr>\n      <th>8628</th>\n      <td>180606-022-0101</td>\n      <td>0.888889</td>\n      <td>0.600000</td>\n      <td>0.571429</td>\n      <td>0.326068</td>\n      <td>0.606970</td>\n      <td>0.714286</td>\n      <td>16</td>\n      <td>0</td>\n    </tr>\n    <tr>\n      <th>8629</th>\n      <td>180606-022-0101</td>\n      <td>0.388889</td>\n      <td>0.800000</td>\n      <td>0.690476</td>\n      <td>0.021282</td>\n      <td>0.940303</td>\n      <td>0.571429</td>\n      <td>16</td>\n      <td>0</td>\n    </tr>\n    <tr>\n      <th>8630</th>\n      <td>180606-022-0101</td>\n      <td>0.333333</td>\n      <td>0.200000</td>\n      <td>0.380952</td>\n      <td>0.907521</td>\n      <td>0.037879</td>\n      <td>0.714286</td>\n      <td>16</td>\n      <td>0</td>\n    </tr>\n  </tbody>\n</table>\n<p>8631 rows × 9 columns</p>\n</div>"
     },
     "execution_count": 35,
     "metadata": {},
     "output_type": "execute_result"
    }
   ],
   "source": [
    "# 원본데이터에 Y 값 붙여서 완전한 df 를 만듬\n",
    "df_normal = df_normal.drop(columns = ['Unnamed: 0'])\n",
    "df_normal = pd.concat([df_normal, df_z_Y], axis='columns')\n",
    "\n",
    "df_normal"
   ],
   "metadata": {
    "collapsed": false
   }
  },
  {
   "cell_type": "code",
   "execution_count": 36,
   "outputs": [],
   "source": [
    "# X, Y 두개로 쪼갬\n",
    "\n",
    "df_normal_X = df_normal.drop(columns = ['Short_Shot', 'ERROR'])\n",
    "df_normal_Y = df_normal[['Short_Shot', 'ERROR']]"
   ],
   "metadata": {
    "collapsed": false
   }
  },
  {
   "cell_type": "code",
   "execution_count": 38,
   "outputs": [
    {
     "data": {
      "text/plain": "               LOT  Injection_Velocity_1  Injection_Velocity_2  \\\n0  180102-021-0101              0.958333              0.777778   \n1  180102-021-0101              0.666667              0.555556   \n2  180102-021-0101              0.229167              0.888889   \n3  180102-021-0101              0.125000              0.111111   \n4  180102-021-0101              0.666667              0.444444   \n\n   Injection_Velocity_3  Humidity  Temperature  Casting_Pressure  \n0              0.633333  0.767785     0.729073          1.000000  \n1              0.266667  0.224161     0.188119          0.994695  \n2              0.733333  0.918568     0.942394          1.000000  \n3              0.000000  0.046980     0.047705          0.055703  \n4              0.366667  0.306040     0.216022          0.992042  ",
      "text/html": "<div>\n<style scoped>\n    .dataframe tbody tr th:only-of-type {\n        vertical-align: middle;\n    }\n\n    .dataframe tbody tr th {\n        vertical-align: top;\n    }\n\n    .dataframe thead th {\n        text-align: right;\n    }\n</style>\n<table border=\"1\" class=\"dataframe\">\n  <thead>\n    <tr style=\"text-align: right;\">\n      <th></th>\n      <th>LOT</th>\n      <th>Injection_Velocity_1</th>\n      <th>Injection_Velocity_2</th>\n      <th>Injection_Velocity_3</th>\n      <th>Humidity</th>\n      <th>Temperature</th>\n      <th>Casting_Pressure</th>\n    </tr>\n  </thead>\n  <tbody>\n    <tr>\n      <th>0</th>\n      <td>180102-021-0101</td>\n      <td>0.958333</td>\n      <td>0.777778</td>\n      <td>0.633333</td>\n      <td>0.767785</td>\n      <td>0.729073</td>\n      <td>1.000000</td>\n    </tr>\n    <tr>\n      <th>1</th>\n      <td>180102-021-0101</td>\n      <td>0.666667</td>\n      <td>0.555556</td>\n      <td>0.266667</td>\n      <td>0.224161</td>\n      <td>0.188119</td>\n      <td>0.994695</td>\n    </tr>\n    <tr>\n      <th>2</th>\n      <td>180102-021-0101</td>\n      <td>0.229167</td>\n      <td>0.888889</td>\n      <td>0.733333</td>\n      <td>0.918568</td>\n      <td>0.942394</td>\n      <td>1.000000</td>\n    </tr>\n    <tr>\n      <th>3</th>\n      <td>180102-021-0101</td>\n      <td>0.125000</td>\n      <td>0.111111</td>\n      <td>0.000000</td>\n      <td>0.046980</td>\n      <td>0.047705</td>\n      <td>0.055703</td>\n    </tr>\n    <tr>\n      <th>4</th>\n      <td>180102-021-0101</td>\n      <td>0.666667</td>\n      <td>0.444444</td>\n      <td>0.366667</td>\n      <td>0.306040</td>\n      <td>0.216022</td>\n      <td>0.992042</td>\n    </tr>\n  </tbody>\n</table>\n</div>"
     },
     "execution_count": 38,
     "metadata": {},
     "output_type": "execute_result"
    }
   ],
   "source": [
    "df_normal_X.head()"
   ],
   "metadata": {
    "collapsed": false
   }
  },
  {
   "cell_type": "code",
   "execution_count": 39,
   "outputs": [
    {
     "data": {
      "text/plain": "   Short_Shot  ERROR\n0           3      0\n1           3      0\n2           3      0\n3           3      0\n4           3      0",
      "text/html": "<div>\n<style scoped>\n    .dataframe tbody tr th:only-of-type {\n        vertical-align: middle;\n    }\n\n    .dataframe tbody tr th {\n        vertical-align: top;\n    }\n\n    .dataframe thead th {\n        text-align: right;\n    }\n</style>\n<table border=\"1\" class=\"dataframe\">\n  <thead>\n    <tr style=\"text-align: right;\">\n      <th></th>\n      <th>Short_Shot</th>\n      <th>ERROR</th>\n    </tr>\n  </thead>\n  <tbody>\n    <tr>\n      <th>0</th>\n      <td>3</td>\n      <td>0</td>\n    </tr>\n    <tr>\n      <th>1</th>\n      <td>3</td>\n      <td>0</td>\n    </tr>\n    <tr>\n      <th>2</th>\n      <td>3</td>\n      <td>0</td>\n    </tr>\n    <tr>\n      <th>3</th>\n      <td>3</td>\n      <td>0</td>\n    </tr>\n    <tr>\n      <th>4</th>\n      <td>3</td>\n      <td>0</td>\n    </tr>\n  </tbody>\n</table>\n</div>"
     },
     "execution_count": 39,
     "metadata": {},
     "output_type": "execute_result"
    }
   ],
   "source": [
    "df_normal_Y.head()"
   ],
   "metadata": {
    "collapsed": false
   }
  },
  {
   "cell_type": "code",
   "execution_count": 40,
   "outputs": [
    {
     "name": "stderr",
     "output_type": "stream",
     "text": [
      "/Users/isang-yun/miniconda3/lib/python3.7/site-packages/ipykernel_launcher.py:8: FutureWarning: Automatic reindexing on DataFrame vs Series comparisons is deprecated and will raise ValueError in a future version.  Do `left, right = left.align(right, axis=1, copy=False)` before e.g. `left == right`\n",
      "  \n"
     ]
    },
    {
     "data": {
      "text/plain": "   Casting_Pressure  Humidity  Injection_Velocity_1  Injection_Velocity_2  \\\n0             False     False                 False                 False   \n1             False      True                 False                 False   \n2             False     False                 False                 False   \n3              True      True                 False                 False   \n4             False     False                 False                 False   \n\n   Injection_Velocity_3    LOT  Temperature  \n0                 False  False        False  \n1                 False  False        False  \n2                 False  False        False  \n3                 False  False        False  \n4                 False  False        False  ",
      "text/html": "<div>\n<style scoped>\n    .dataframe tbody tr th:only-of-type {\n        vertical-align: middle;\n    }\n\n    .dataframe tbody tr th {\n        vertical-align: top;\n    }\n\n    .dataframe thead th {\n        text-align: right;\n    }\n</style>\n<table border=\"1\" class=\"dataframe\">\n  <thead>\n    <tr style=\"text-align: right;\">\n      <th></th>\n      <th>Casting_Pressure</th>\n      <th>Humidity</th>\n      <th>Injection_Velocity_1</th>\n      <th>Injection_Velocity_2</th>\n      <th>Injection_Velocity_3</th>\n      <th>LOT</th>\n      <th>Temperature</th>\n    </tr>\n  </thead>\n  <tbody>\n    <tr>\n      <th>0</th>\n      <td>False</td>\n      <td>False</td>\n      <td>False</td>\n      <td>False</td>\n      <td>False</td>\n      <td>False</td>\n      <td>False</td>\n    </tr>\n    <tr>\n      <th>1</th>\n      <td>False</td>\n      <td>True</td>\n      <td>False</td>\n      <td>False</td>\n      <td>False</td>\n      <td>False</td>\n      <td>False</td>\n    </tr>\n    <tr>\n      <th>2</th>\n      <td>False</td>\n      <td>False</td>\n      <td>False</td>\n      <td>False</td>\n      <td>False</td>\n      <td>False</td>\n      <td>False</td>\n    </tr>\n    <tr>\n      <th>3</th>\n      <td>True</td>\n      <td>True</td>\n      <td>False</td>\n      <td>False</td>\n      <td>False</td>\n      <td>False</td>\n      <td>False</td>\n    </tr>\n    <tr>\n      <th>4</th>\n      <td>False</td>\n      <td>False</td>\n      <td>False</td>\n      <td>False</td>\n      <td>False</td>\n      <td>False</td>\n      <td>False</td>\n    </tr>\n  </tbody>\n</table>\n</div>"
     },
     "execution_count": 40,
     "metadata": {},
     "output_type": "execute_result"
    }
   ],
   "source": [
    "# 이상치 함수로 이상치인지 아닌지 파악\n",
    "\n",
    "df_outlier_TF_normal = df_normal_X.groupby('LOT').apply(outlier_TF)\n",
    "\n",
    "df_outlier_TF_normal.head()"
   ],
   "metadata": {
    "collapsed": false
   }
  },
  {
   "cell_type": "code",
   "execution_count": 41,
   "outputs": [
    {
     "data": {
      "text/plain": "      Casting_Pressure  Humidity  Injection_Velocity_1  Injection_Velocity_2  \\\n0                False     False                 False                 False   \n1                False      True                 False                 False   \n2                False     False                 False                 False   \n3                 True      True                 False                 False   \n4                False     False                 False                 False   \n...                ...       ...                   ...                   ...   \n8626             False     False                 False                 False   \n8627             False     False                 False                 False   \n8628             False     False                 False                 False   \n8629             False     False                 False                 False   \n8630             False     False                 False                 False   \n\n      Injection_Velocity_3    LOT  Temperature  Short_Shot  ERROR  \n0                    False  False        False       False  False  \n1                    False  False        False       False  False  \n2                    False  False        False       False  False  \n3                    False  False        False       False  False  \n4                    False  False        False       False  False  \n...                    ...    ...          ...         ...    ...  \n8626                 False  False        False       False  False  \n8627                 False  False        False       False  False  \n8628                 False  False        False       False  False  \n8629                 False  False        False       False  False  \n8630                 False  False        False       False  False  \n\n[8631 rows x 9 columns]",
      "text/html": "<div>\n<style scoped>\n    .dataframe tbody tr th:only-of-type {\n        vertical-align: middle;\n    }\n\n    .dataframe tbody tr th {\n        vertical-align: top;\n    }\n\n    .dataframe thead th {\n        text-align: right;\n    }\n</style>\n<table border=\"1\" class=\"dataframe\">\n  <thead>\n    <tr style=\"text-align: right;\">\n      <th></th>\n      <th>Casting_Pressure</th>\n      <th>Humidity</th>\n      <th>Injection_Velocity_1</th>\n      <th>Injection_Velocity_2</th>\n      <th>Injection_Velocity_3</th>\n      <th>LOT</th>\n      <th>Temperature</th>\n      <th>Short_Shot</th>\n      <th>ERROR</th>\n    </tr>\n  </thead>\n  <tbody>\n    <tr>\n      <th>0</th>\n      <td>False</td>\n      <td>False</td>\n      <td>False</td>\n      <td>False</td>\n      <td>False</td>\n      <td>False</td>\n      <td>False</td>\n      <td>False</td>\n      <td>False</td>\n    </tr>\n    <tr>\n      <th>1</th>\n      <td>False</td>\n      <td>True</td>\n      <td>False</td>\n      <td>False</td>\n      <td>False</td>\n      <td>False</td>\n      <td>False</td>\n      <td>False</td>\n      <td>False</td>\n    </tr>\n    <tr>\n      <th>2</th>\n      <td>False</td>\n      <td>False</td>\n      <td>False</td>\n      <td>False</td>\n      <td>False</td>\n      <td>False</td>\n      <td>False</td>\n      <td>False</td>\n      <td>False</td>\n    </tr>\n    <tr>\n      <th>3</th>\n      <td>True</td>\n      <td>True</td>\n      <td>False</td>\n      <td>False</td>\n      <td>False</td>\n      <td>False</td>\n      <td>False</td>\n      <td>False</td>\n      <td>False</td>\n    </tr>\n    <tr>\n      <th>4</th>\n      <td>False</td>\n      <td>False</td>\n      <td>False</td>\n      <td>False</td>\n      <td>False</td>\n      <td>False</td>\n      <td>False</td>\n      <td>False</td>\n      <td>False</td>\n    </tr>\n    <tr>\n      <th>...</th>\n      <td>...</td>\n      <td>...</td>\n      <td>...</td>\n      <td>...</td>\n      <td>...</td>\n      <td>...</td>\n      <td>...</td>\n      <td>...</td>\n      <td>...</td>\n    </tr>\n    <tr>\n      <th>8626</th>\n      <td>False</td>\n      <td>False</td>\n      <td>False</td>\n      <td>False</td>\n      <td>False</td>\n      <td>False</td>\n      <td>False</td>\n      <td>False</td>\n      <td>False</td>\n    </tr>\n    <tr>\n      <th>8627</th>\n      <td>False</td>\n      <td>False</td>\n      <td>False</td>\n      <td>False</td>\n      <td>False</td>\n      <td>False</td>\n      <td>False</td>\n      <td>False</td>\n      <td>False</td>\n    </tr>\n    <tr>\n      <th>8628</th>\n      <td>False</td>\n      <td>False</td>\n      <td>False</td>\n      <td>False</td>\n      <td>False</td>\n      <td>False</td>\n      <td>False</td>\n      <td>False</td>\n      <td>False</td>\n    </tr>\n    <tr>\n      <th>8629</th>\n      <td>False</td>\n      <td>False</td>\n      <td>False</td>\n      <td>False</td>\n      <td>False</td>\n      <td>False</td>\n      <td>False</td>\n      <td>False</td>\n      <td>False</td>\n    </tr>\n    <tr>\n      <th>8630</th>\n      <td>False</td>\n      <td>False</td>\n      <td>False</td>\n      <td>False</td>\n      <td>False</td>\n      <td>False</td>\n      <td>False</td>\n      <td>False</td>\n      <td>False</td>\n    </tr>\n  </tbody>\n</table>\n<p>8631 rows × 9 columns</p>\n</div>"
     },
     "execution_count": 41,
     "metadata": {},
     "output_type": "execute_result"
    }
   ],
   "source": [
    "# Y를 붙여서 완전한 Tf 데이터프레임을 하나 만듬\n",
    "df_outlier_TF_normal['Short_Shot'] = False\n",
    "df_outlier_TF_normal['ERROR'] = False\n",
    "\n",
    "df_outlier_TF_normal"
   ],
   "metadata": {
    "collapsed": false
   }
  },
  {
   "cell_type": "code",
   "execution_count": 42,
   "outputs": [
    {
     "data": {
      "text/plain": "0    6899\n1    1440\n2     218\n3      48\n4      23\n5       2\n6       1\ndtype: int64"
     },
     "execution_count": 42,
     "metadata": {},
     "output_type": "execute_result"
    }
   ],
   "source": [
    "df_outlier_TF_normal.sum(axis = 'columns').value_counts()"
   ],
   "metadata": {
    "collapsed": false
   }
  },
  {
   "cell_type": "code",
   "execution_count": 44,
   "outputs": [
    {
     "data": {
      "text/plain": "                  LOT  Injection_Velocity_1  Injection_Velocity_2  \\\n0     180102-021-0101              0.958333              0.777778   \n1     180102-021-0101              0.666667              0.555556   \n2     180102-021-0101              0.229167              0.888889   \n3     180102-021-0101              0.125000              0.111111   \n4     180102-021-0101              0.666667              0.444444   \n...               ...                   ...                   ...   \n8626  180606-022-0101              0.777778              0.400000   \n8627  180606-022-0101              0.555556              0.600000   \n8628  180606-022-0101              0.888889              0.600000   \n8629  180606-022-0101              0.388889              0.800000   \n8630  180606-022-0101              0.333333              0.200000   \n\n      Injection_Velocity_3  Humidity  Temperature  Casting_Pressure  \\\n0                 0.633333  0.767785     0.729073          1.000000   \n1                 0.266667  0.224161     0.188119          0.994695   \n2                 0.733333  0.918568     0.942394          1.000000   \n3                 0.000000  0.046980     0.047705          0.055703   \n4                 0.366667  0.306040     0.216022          0.992042   \n...                    ...       ...          ...               ...   \n8626              0.500000  0.777607     0.135152          0.714286   \n8627              0.690476  0.610940     0.457273          0.714286   \n8628              0.571429  0.326068     0.606970          0.714286   \n8629              0.690476  0.021282     0.940303          0.571429   \n8630              0.380952  0.907521     0.037879          0.714286   \n\n      Short_Shot  ERROR  \n0              3      0  \n1              3      0  \n2              3      0  \n3              3      0  \n4              3      0  \n...          ...    ...  \n8626          16      0  \n8627          16      0  \n8628          16      0  \n8629          16      0  \n8630          16      0  \n\n[8559 rows x 9 columns]",
      "text/html": "<div>\n<style scoped>\n    .dataframe tbody tr th:only-of-type {\n        vertical-align: middle;\n    }\n\n    .dataframe tbody tr th {\n        vertical-align: top;\n    }\n\n    .dataframe thead th {\n        text-align: right;\n    }\n</style>\n<table border=\"1\" class=\"dataframe\">\n  <thead>\n    <tr style=\"text-align: right;\">\n      <th></th>\n      <th>LOT</th>\n      <th>Injection_Velocity_1</th>\n      <th>Injection_Velocity_2</th>\n      <th>Injection_Velocity_3</th>\n      <th>Humidity</th>\n      <th>Temperature</th>\n      <th>Casting_Pressure</th>\n      <th>Short_Shot</th>\n      <th>ERROR</th>\n    </tr>\n  </thead>\n  <tbody>\n    <tr>\n      <th>0</th>\n      <td>180102-021-0101</td>\n      <td>0.958333</td>\n      <td>0.777778</td>\n      <td>0.633333</td>\n      <td>0.767785</td>\n      <td>0.729073</td>\n      <td>1.000000</td>\n      <td>3</td>\n      <td>0</td>\n    </tr>\n    <tr>\n      <th>1</th>\n      <td>180102-021-0101</td>\n      <td>0.666667</td>\n      <td>0.555556</td>\n      <td>0.266667</td>\n      <td>0.224161</td>\n      <td>0.188119</td>\n      <td>0.994695</td>\n      <td>3</td>\n      <td>0</td>\n    </tr>\n    <tr>\n      <th>2</th>\n      <td>180102-021-0101</td>\n      <td>0.229167</td>\n      <td>0.888889</td>\n      <td>0.733333</td>\n      <td>0.918568</td>\n      <td>0.942394</td>\n      <td>1.000000</td>\n      <td>3</td>\n      <td>0</td>\n    </tr>\n    <tr>\n      <th>3</th>\n      <td>180102-021-0101</td>\n      <td>0.125000</td>\n      <td>0.111111</td>\n      <td>0.000000</td>\n      <td>0.046980</td>\n      <td>0.047705</td>\n      <td>0.055703</td>\n      <td>3</td>\n      <td>0</td>\n    </tr>\n    <tr>\n      <th>4</th>\n      <td>180102-021-0101</td>\n      <td>0.666667</td>\n      <td>0.444444</td>\n      <td>0.366667</td>\n      <td>0.306040</td>\n      <td>0.216022</td>\n      <td>0.992042</td>\n      <td>3</td>\n      <td>0</td>\n    </tr>\n    <tr>\n      <th>...</th>\n      <td>...</td>\n      <td>...</td>\n      <td>...</td>\n      <td>...</td>\n      <td>...</td>\n      <td>...</td>\n      <td>...</td>\n      <td>...</td>\n      <td>...</td>\n    </tr>\n    <tr>\n      <th>8626</th>\n      <td>180606-022-0101</td>\n      <td>0.777778</td>\n      <td>0.400000</td>\n      <td>0.500000</td>\n      <td>0.777607</td>\n      <td>0.135152</td>\n      <td>0.714286</td>\n      <td>16</td>\n      <td>0</td>\n    </tr>\n    <tr>\n      <th>8627</th>\n      <td>180606-022-0101</td>\n      <td>0.555556</td>\n      <td>0.600000</td>\n      <td>0.690476</td>\n      <td>0.610940</td>\n      <td>0.457273</td>\n      <td>0.714286</td>\n      <td>16</td>\n      <td>0</td>\n    </tr>\n    <tr>\n      <th>8628</th>\n      <td>180606-022-0101</td>\n      <td>0.888889</td>\n      <td>0.600000</td>\n      <td>0.571429</td>\n      <td>0.326068</td>\n      <td>0.606970</td>\n      <td>0.714286</td>\n      <td>16</td>\n      <td>0</td>\n    </tr>\n    <tr>\n      <th>8629</th>\n      <td>180606-022-0101</td>\n      <td>0.388889</td>\n      <td>0.800000</td>\n      <td>0.690476</td>\n      <td>0.021282</td>\n      <td>0.940303</td>\n      <td>0.571429</td>\n      <td>16</td>\n      <td>0</td>\n    </tr>\n    <tr>\n      <th>8630</th>\n      <td>180606-022-0101</td>\n      <td>0.333333</td>\n      <td>0.200000</td>\n      <td>0.380952</td>\n      <td>0.907521</td>\n      <td>0.037879</td>\n      <td>0.714286</td>\n      <td>16</td>\n      <td>0</td>\n    </tr>\n  </tbody>\n</table>\n<p>8559 rows × 9 columns</p>\n</div>"
     },
     "execution_count": 44,
     "metadata": {},
     "output_type": "execute_result"
    }
   ],
   "source": [
    "df_refine_normal = df_normal[df_outlier_TF_z.sum(axis = 'columns') < 3]\n",
    "\n",
    "df_refine_normal"
   ],
   "metadata": {
    "collapsed": false
   }
  },
  {
   "cell_type": "markdown",
   "source": [
    "# 3. 최종적으로 csv 파일로 변환"
   ],
   "metadata": {
    "collapsed": false
   }
  },
  {
   "cell_type": "code",
   "execution_count": 46,
   "outputs": [],
   "source": [
    "df_refine_z.to_csv('refine_standardization.csv')\n",
    "df_refine_normal.to_csv('refine_normalization.csv')"
   ],
   "metadata": {
    "collapsed": false
   }
  },
  {
   "cell_type": "code",
   "execution_count": null,
   "outputs": [],
   "source": [],
   "metadata": {
    "collapsed": false
   }
  }
 ],
 "metadata": {
  "kernelspec": {
   "display_name": "Python 3",
   "language": "python",
   "name": "python3"
  },
  "language_info": {
   "codemirror_mode": {
    "name": "ipython",
    "version": 2
   },
   "file_extension": ".py",
   "mimetype": "text/x-python",
   "name": "python",
   "nbconvert_exporter": "python",
   "pygments_lexer": "ipython2",
   "version": "2.7.6"
  }
 },
 "nbformat": 4,
 "nbformat_minor": 0
}
