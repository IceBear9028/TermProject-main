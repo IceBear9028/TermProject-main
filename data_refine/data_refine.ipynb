{
 "cells": [
  {
   "cell_type": "code",
   "execution_count": 1,
   "metadata": {
    "collapsed": true
   },
   "outputs": [],
   "source": [
    "import pandas as pd\n",
    "import numpy as np"
   ]
  },
  {
   "cell_type": "code",
   "execution_count": 3,
   "outputs": [
    {
     "data": {
      "text/plain": "               LOT  Injection_Velocity_1  Injection_Velocity_2  \\\n0  180102-021-0101                 0.120                 0.220   \n1  180102-021-0101                 0.106                 0.216   \n2  180102-021-0101                 0.085                 0.222   \n3  180102-021-0101                 0.080                 0.208   \n4  180102-021-0101                 0.106                 0.214   \n\n   Injection_Velocity_3  Spray_Time_1  Spray_Time_2  Humidity  Temperature  \\\n0                 0.368           0.2           0.3    19.993       15.598   \n1                 0.357           0.2           0.3    18.778       14.997   \n2                 0.371           0.2           0.3    20.330       15.835   \n3                 0.349           0.2           0.3    18.382       14.841   \n4                 0.360           0.2           0.3    18.961       15.028   \n\n   Casting_Pressure  Pressure_Increase_Time  Short_Shot  Ejection_Pin_Burr  \\\n0               680                   0.041         3.0                  0   \n1               678                   0.043         3.0                  0   \n2               680                   0.043         3.0                  0   \n3               324                   0.000         3.0                  0   \n4               677                   0.043         3.0                  0   \n\n   Soldering  Shrinkage  Stain  Corepin_Soldering  Crack  \n0          0          0      0                  0      0  \n1          0          0      0                  0      0  \n2          0          0      0                  0      0  \n3          0          0      0                  0      0  \n4          0          0      0                  0      0  ",
      "text/html": "<div>\n<style scoped>\n    .dataframe tbody tr th:only-of-type {\n        vertical-align: middle;\n    }\n\n    .dataframe tbody tr th {\n        vertical-align: top;\n    }\n\n    .dataframe thead th {\n        text-align: right;\n    }\n</style>\n<table border=\"1\" class=\"dataframe\">\n  <thead>\n    <tr style=\"text-align: right;\">\n      <th></th>\n      <th>LOT</th>\n      <th>Injection_Velocity_1</th>\n      <th>Injection_Velocity_2</th>\n      <th>Injection_Velocity_3</th>\n      <th>Spray_Time_1</th>\n      <th>Spray_Time_2</th>\n      <th>Humidity</th>\n      <th>Temperature</th>\n      <th>Casting_Pressure</th>\n      <th>Pressure_Increase_Time</th>\n      <th>Short_Shot</th>\n      <th>Ejection_Pin_Burr</th>\n      <th>Soldering</th>\n      <th>Shrinkage</th>\n      <th>Stain</th>\n      <th>Corepin_Soldering</th>\n      <th>Crack</th>\n    </tr>\n  </thead>\n  <tbody>\n    <tr>\n      <th>0</th>\n      <td>180102-021-0101</td>\n      <td>0.120</td>\n      <td>0.220</td>\n      <td>0.368</td>\n      <td>0.2</td>\n      <td>0.3</td>\n      <td>19.993</td>\n      <td>15.598</td>\n      <td>680</td>\n      <td>0.041</td>\n      <td>3.0</td>\n      <td>0</td>\n      <td>0</td>\n      <td>0</td>\n      <td>0</td>\n      <td>0</td>\n      <td>0</td>\n    </tr>\n    <tr>\n      <th>1</th>\n      <td>180102-021-0101</td>\n      <td>0.106</td>\n      <td>0.216</td>\n      <td>0.357</td>\n      <td>0.2</td>\n      <td>0.3</td>\n      <td>18.778</td>\n      <td>14.997</td>\n      <td>678</td>\n      <td>0.043</td>\n      <td>3.0</td>\n      <td>0</td>\n      <td>0</td>\n      <td>0</td>\n      <td>0</td>\n      <td>0</td>\n      <td>0</td>\n    </tr>\n    <tr>\n      <th>2</th>\n      <td>180102-021-0101</td>\n      <td>0.085</td>\n      <td>0.222</td>\n      <td>0.371</td>\n      <td>0.2</td>\n      <td>0.3</td>\n      <td>20.330</td>\n      <td>15.835</td>\n      <td>680</td>\n      <td>0.043</td>\n      <td>3.0</td>\n      <td>0</td>\n      <td>0</td>\n      <td>0</td>\n      <td>0</td>\n      <td>0</td>\n      <td>0</td>\n    </tr>\n    <tr>\n      <th>3</th>\n      <td>180102-021-0101</td>\n      <td>0.080</td>\n      <td>0.208</td>\n      <td>0.349</td>\n      <td>0.2</td>\n      <td>0.3</td>\n      <td>18.382</td>\n      <td>14.841</td>\n      <td>324</td>\n      <td>0.000</td>\n      <td>3.0</td>\n      <td>0</td>\n      <td>0</td>\n      <td>0</td>\n      <td>0</td>\n      <td>0</td>\n      <td>0</td>\n    </tr>\n    <tr>\n      <th>4</th>\n      <td>180102-021-0101</td>\n      <td>0.106</td>\n      <td>0.214</td>\n      <td>0.360</td>\n      <td>0.2</td>\n      <td>0.3</td>\n      <td>18.961</td>\n      <td>15.028</td>\n      <td>677</td>\n      <td>0.043</td>\n      <td>3.0</td>\n      <td>0</td>\n      <td>0</td>\n      <td>0</td>\n      <td>0</td>\n      <td>0</td>\n      <td>0</td>\n    </tr>\n  </tbody>\n</table>\n</div>"
     },
     "execution_count": 3,
     "metadata": {},
     "output_type": "execute_result"
    }
   ],
   "source": [
    "df = pd.read_csv('../data/die-casting_dataset.csv')\n",
    "\n",
    "df.head()"
   ],
   "metadata": {
    "collapsed": false
   }
  },
  {
   "cell_type": "code",
   "execution_count": 4,
   "outputs": [
    {
     "data": {
      "text/plain": "               LOT  Injection_Velocity_1  Injection_Velocity_2  \\\n0  180102-021-0101                 0.120                 0.220   \n1  180102-021-0101                 0.106                 0.216   \n2  180102-021-0101                 0.085                 0.222   \n3  180102-021-0101                 0.080                 0.208   \n4  180102-021-0101                 0.106                 0.214   \n\n   Injection_Velocity_3  Spray_Time_1  Spray_Time_2  Humidity  Temperature  \\\n0                 0.368           0.2           0.3    19.993       15.598   \n1                 0.357           0.2           0.3    18.778       14.997   \n2                 0.371           0.2           0.3    20.330       15.835   \n3                 0.349           0.2           0.3    18.382       14.841   \n4                 0.360           0.2           0.3    18.961       15.028   \n\n   Casting_Pressure  Pressure_Increase_Time  Short_Shot  Ejection_Pin_Burr  \\\n0               680                   0.041         3.0                  0   \n1               678                   0.043         3.0                  0   \n2               680                   0.043         3.0                  0   \n3               324                   0.000         3.0                  0   \n4               677                   0.043         3.0                  0   \n\n   Soldering  Shrinkage  Stain  Corepin_Soldering  Crack  \n0          0          0      0                  0      0  \n1          0          0      0                  0      0  \n2          0          0      0                  0      0  \n3          0          0      0                  0      0  \n4          0          0      0                  0      0  ",
      "text/html": "<div>\n<style scoped>\n    .dataframe tbody tr th:only-of-type {\n        vertical-align: middle;\n    }\n\n    .dataframe tbody tr th {\n        vertical-align: top;\n    }\n\n    .dataframe thead th {\n        text-align: right;\n    }\n</style>\n<table border=\"1\" class=\"dataframe\">\n  <thead>\n    <tr style=\"text-align: right;\">\n      <th></th>\n      <th>LOT</th>\n      <th>Injection_Velocity_1</th>\n      <th>Injection_Velocity_2</th>\n      <th>Injection_Velocity_3</th>\n      <th>Spray_Time_1</th>\n      <th>Spray_Time_2</th>\n      <th>Humidity</th>\n      <th>Temperature</th>\n      <th>Casting_Pressure</th>\n      <th>Pressure_Increase_Time</th>\n      <th>Short_Shot</th>\n      <th>Ejection_Pin_Burr</th>\n      <th>Soldering</th>\n      <th>Shrinkage</th>\n      <th>Stain</th>\n      <th>Corepin_Soldering</th>\n      <th>Crack</th>\n    </tr>\n  </thead>\n  <tbody>\n    <tr>\n      <th>0</th>\n      <td>180102-021-0101</td>\n      <td>0.120</td>\n      <td>0.220</td>\n      <td>0.368</td>\n      <td>0.2</td>\n      <td>0.3</td>\n      <td>19.993</td>\n      <td>15.598</td>\n      <td>680</td>\n      <td>0.041</td>\n      <td>3.0</td>\n      <td>0</td>\n      <td>0</td>\n      <td>0</td>\n      <td>0</td>\n      <td>0</td>\n      <td>0</td>\n    </tr>\n    <tr>\n      <th>1</th>\n      <td>180102-021-0101</td>\n      <td>0.106</td>\n      <td>0.216</td>\n      <td>0.357</td>\n      <td>0.2</td>\n      <td>0.3</td>\n      <td>18.778</td>\n      <td>14.997</td>\n      <td>678</td>\n      <td>0.043</td>\n      <td>3.0</td>\n      <td>0</td>\n      <td>0</td>\n      <td>0</td>\n      <td>0</td>\n      <td>0</td>\n      <td>0</td>\n    </tr>\n    <tr>\n      <th>2</th>\n      <td>180102-021-0101</td>\n      <td>0.085</td>\n      <td>0.222</td>\n      <td>0.371</td>\n      <td>0.2</td>\n      <td>0.3</td>\n      <td>20.330</td>\n      <td>15.835</td>\n      <td>680</td>\n      <td>0.043</td>\n      <td>3.0</td>\n      <td>0</td>\n      <td>0</td>\n      <td>0</td>\n      <td>0</td>\n      <td>0</td>\n      <td>0</td>\n    </tr>\n    <tr>\n      <th>3</th>\n      <td>180102-021-0101</td>\n      <td>0.080</td>\n      <td>0.208</td>\n      <td>0.349</td>\n      <td>0.2</td>\n      <td>0.3</td>\n      <td>18.382</td>\n      <td>14.841</td>\n      <td>324</td>\n      <td>0.000</td>\n      <td>3.0</td>\n      <td>0</td>\n      <td>0</td>\n      <td>0</td>\n      <td>0</td>\n      <td>0</td>\n      <td>0</td>\n    </tr>\n    <tr>\n      <th>4</th>\n      <td>180102-021-0101</td>\n      <td>0.106</td>\n      <td>0.214</td>\n      <td>0.360</td>\n      <td>0.2</td>\n      <td>0.3</td>\n      <td>18.961</td>\n      <td>15.028</td>\n      <td>677</td>\n      <td>0.043</td>\n      <td>3.0</td>\n      <td>0</td>\n      <td>0</td>\n      <td>0</td>\n      <td>0</td>\n      <td>0</td>\n      <td>0</td>\n    </tr>\n  </tbody>\n</table>\n</div>"
     },
     "execution_count": 4,
     "metadata": {},
     "output_type": "execute_result"
    }
   ],
   "source": [
    "df_refine = df.copy()\n",
    "\n",
    "df_refine.head()"
   ],
   "metadata": {
    "collapsed": false
   }
  },
  {
   "cell_type": "code",
   "execution_count": 6,
   "outputs": [
    {
     "data": {
      "text/plain": "        Date Equipment Die_Number\n0     180102       021       0101\n1     180102       021       0101\n2     180102       021       0101\n3     180102       021       0101\n4     180102       021       0101\n...      ...       ...        ...\n8626  180606       022       0101\n8627  180606       022       0101\n8628  180606       022       0101\n8629  180606       022       0101\n8630  180606       022       0101\n\n[8631 rows x 3 columns]",
      "text/html": "<div>\n<style scoped>\n    .dataframe tbody tr th:only-of-type {\n        vertical-align: middle;\n    }\n\n    .dataframe tbody tr th {\n        vertical-align: top;\n    }\n\n    .dataframe thead th {\n        text-align: right;\n    }\n</style>\n<table border=\"1\" class=\"dataframe\">\n  <thead>\n    <tr style=\"text-align: right;\">\n      <th></th>\n      <th>Date</th>\n      <th>Equipment</th>\n      <th>Die_Number</th>\n    </tr>\n  </thead>\n  <tbody>\n    <tr>\n      <th>0</th>\n      <td>180102</td>\n      <td>021</td>\n      <td>0101</td>\n    </tr>\n    <tr>\n      <th>1</th>\n      <td>180102</td>\n      <td>021</td>\n      <td>0101</td>\n    </tr>\n    <tr>\n      <th>2</th>\n      <td>180102</td>\n      <td>021</td>\n      <td>0101</td>\n    </tr>\n    <tr>\n      <th>3</th>\n      <td>180102</td>\n      <td>021</td>\n      <td>0101</td>\n    </tr>\n    <tr>\n      <th>4</th>\n      <td>180102</td>\n      <td>021</td>\n      <td>0101</td>\n    </tr>\n    <tr>\n      <th>...</th>\n      <td>...</td>\n      <td>...</td>\n      <td>...</td>\n    </tr>\n    <tr>\n      <th>8626</th>\n      <td>180606</td>\n      <td>022</td>\n      <td>0101</td>\n    </tr>\n    <tr>\n      <th>8627</th>\n      <td>180606</td>\n      <td>022</td>\n      <td>0101</td>\n    </tr>\n    <tr>\n      <th>8628</th>\n      <td>180606</td>\n      <td>022</td>\n      <td>0101</td>\n    </tr>\n    <tr>\n      <th>8629</th>\n      <td>180606</td>\n      <td>022</td>\n      <td>0101</td>\n    </tr>\n    <tr>\n      <th>8630</th>\n      <td>180606</td>\n      <td>022</td>\n      <td>0101</td>\n    </tr>\n  </tbody>\n</table>\n<p>8631 rows × 3 columns</p>\n</div>"
     },
     "execution_count": 6,
     "metadata": {},
     "output_type": "execute_result"
    }
   ],
   "source": [
    "lot_split_df = pd.DataFrame(df['LOT'].str.split('-').tolist(), columns = ['Date', 'Equipment', 'Die_Number'])\n",
    "\n",
    "lot_split_df"
   ],
   "metadata": {
    "collapsed": false
   }
  },
  {
   "cell_type": "code",
   "execution_count": 32,
   "outputs": [
    {
     "data": {
      "text/plain": "                  LOT    Date Equipment Die_Number  Injection_Velocity_1  \\\n0     180102-021-0101  180102       021       0101                 0.120   \n1     180102-021-0101  180102       021       0101                 0.106   \n2     180102-021-0101  180102       021       0101                 0.085   \n3     180102-021-0101  180102       021       0101                 0.080   \n4     180102-021-0101  180102       021       0101                 0.106   \n...               ...     ...       ...        ...                   ...   \n8626  180606-022-0101  180606       022       0101                 0.192   \n8627  180606-022-0101  180606       022       0101                 0.188   \n8628  180606-022-0101  180606       022       0101                 0.194   \n8629  180606-022-0101  180606       022       0101                 0.185   \n8630  180606-022-0101  180606       022       0101                 0.184   \n\n      Injection_Velocity_2  Injection_Velocity_3  Spray_Time_1  Spray_Time_2  \\\n0                    0.220                 0.368           0.2           0.3   \n1                    0.216                 0.357           0.2           0.3   \n2                    0.222                 0.371           0.2           0.3   \n3                    0.208                 0.349           0.2           0.3   \n4                    0.214                 0.360           0.2           0.3   \n...                    ...                   ...           ...           ...   \n8626                 0.292                 0.408           0.2           0.3   \n8627                 0.294                 0.416           0.2           0.3   \n8628                 0.294                 0.411           0.2           0.3   \n8629                 0.296                 0.416           0.2           0.3   \n8630                 0.290                 0.403           0.2           0.3   \n\n      Humidity  Temperature  Casting_Pressure  Pressure_Increase_Time  \\\n0       19.993       15.598               680                   0.041   \n1       18.778       14.997               678                   0.043   \n2       20.330       15.835               680                   0.043   \n3       18.382       14.841               324                   0.000   \n4       18.961       15.028               677                   0.043   \n...        ...          ...               ...                     ...   \n8626    40.344       30.042               341                   0.000   \n8627    38.394       31.105               341                   0.000   \n8628    35.061       31.599               341                   0.000   \n8629    31.495       32.699               340                   0.000   \n8630    41.864       29.721               341                   0.000   \n\n      Short_Shot  Ejection_Pin_Burr  Soldering  Shrinkage  Stain  \\\n0            3.0                  0          0          0      0   \n1            3.0                  0          0          0      0   \n2            3.0                  0          0          0      0   \n3            3.0                  0          0          0      0   \n4            3.0                  0          0          0      0   \n...          ...                ...        ...        ...    ...   \n8626        16.0                  0          0          0      0   \n8627        16.0                  0          0          0      0   \n8628        16.0                  0          0          0      0   \n8629        16.0                  0          0          0      0   \n8630        16.0                  0          0          0      0   \n\n      Corepin_Soldering  Crack  \n0                     0      0  \n1                     0      0  \n2                     0      0  \n3                     0      0  \n4                     0      0  \n...                 ...    ...  \n8626                  0      0  \n8627                  0      0  \n8628                  0      0  \n8629                  0      0  \n8630                  0      0  \n\n[8631 rows x 20 columns]",
      "text/html": "<div>\n<style scoped>\n    .dataframe tbody tr th:only-of-type {\n        vertical-align: middle;\n    }\n\n    .dataframe tbody tr th {\n        vertical-align: top;\n    }\n\n    .dataframe thead th {\n        text-align: right;\n    }\n</style>\n<table border=\"1\" class=\"dataframe\">\n  <thead>\n    <tr style=\"text-align: right;\">\n      <th></th>\n      <th>LOT</th>\n      <th>Date</th>\n      <th>Equipment</th>\n      <th>Die_Number</th>\n      <th>Injection_Velocity_1</th>\n      <th>Injection_Velocity_2</th>\n      <th>Injection_Velocity_3</th>\n      <th>Spray_Time_1</th>\n      <th>Spray_Time_2</th>\n      <th>Humidity</th>\n      <th>Temperature</th>\n      <th>Casting_Pressure</th>\n      <th>Pressure_Increase_Time</th>\n      <th>Short_Shot</th>\n      <th>Ejection_Pin_Burr</th>\n      <th>Soldering</th>\n      <th>Shrinkage</th>\n      <th>Stain</th>\n      <th>Corepin_Soldering</th>\n      <th>Crack</th>\n    </tr>\n  </thead>\n  <tbody>\n    <tr>\n      <th>0</th>\n      <td>180102-021-0101</td>\n      <td>180102</td>\n      <td>021</td>\n      <td>0101</td>\n      <td>0.120</td>\n      <td>0.220</td>\n      <td>0.368</td>\n      <td>0.2</td>\n      <td>0.3</td>\n      <td>19.993</td>\n      <td>15.598</td>\n      <td>680</td>\n      <td>0.041</td>\n      <td>3.0</td>\n      <td>0</td>\n      <td>0</td>\n      <td>0</td>\n      <td>0</td>\n      <td>0</td>\n      <td>0</td>\n    </tr>\n    <tr>\n      <th>1</th>\n      <td>180102-021-0101</td>\n      <td>180102</td>\n      <td>021</td>\n      <td>0101</td>\n      <td>0.106</td>\n      <td>0.216</td>\n      <td>0.357</td>\n      <td>0.2</td>\n      <td>0.3</td>\n      <td>18.778</td>\n      <td>14.997</td>\n      <td>678</td>\n      <td>0.043</td>\n      <td>3.0</td>\n      <td>0</td>\n      <td>0</td>\n      <td>0</td>\n      <td>0</td>\n      <td>0</td>\n      <td>0</td>\n    </tr>\n    <tr>\n      <th>2</th>\n      <td>180102-021-0101</td>\n      <td>180102</td>\n      <td>021</td>\n      <td>0101</td>\n      <td>0.085</td>\n      <td>0.222</td>\n      <td>0.371</td>\n      <td>0.2</td>\n      <td>0.3</td>\n      <td>20.330</td>\n      <td>15.835</td>\n      <td>680</td>\n      <td>0.043</td>\n      <td>3.0</td>\n      <td>0</td>\n      <td>0</td>\n      <td>0</td>\n      <td>0</td>\n      <td>0</td>\n      <td>0</td>\n    </tr>\n    <tr>\n      <th>3</th>\n      <td>180102-021-0101</td>\n      <td>180102</td>\n      <td>021</td>\n      <td>0101</td>\n      <td>0.080</td>\n      <td>0.208</td>\n      <td>0.349</td>\n      <td>0.2</td>\n      <td>0.3</td>\n      <td>18.382</td>\n      <td>14.841</td>\n      <td>324</td>\n      <td>0.000</td>\n      <td>3.0</td>\n      <td>0</td>\n      <td>0</td>\n      <td>0</td>\n      <td>0</td>\n      <td>0</td>\n      <td>0</td>\n    </tr>\n    <tr>\n      <th>4</th>\n      <td>180102-021-0101</td>\n      <td>180102</td>\n      <td>021</td>\n      <td>0101</td>\n      <td>0.106</td>\n      <td>0.214</td>\n      <td>0.360</td>\n      <td>0.2</td>\n      <td>0.3</td>\n      <td>18.961</td>\n      <td>15.028</td>\n      <td>677</td>\n      <td>0.043</td>\n      <td>3.0</td>\n      <td>0</td>\n      <td>0</td>\n      <td>0</td>\n      <td>0</td>\n      <td>0</td>\n      <td>0</td>\n    </tr>\n    <tr>\n      <th>...</th>\n      <td>...</td>\n      <td>...</td>\n      <td>...</td>\n      <td>...</td>\n      <td>...</td>\n      <td>...</td>\n      <td>...</td>\n      <td>...</td>\n      <td>...</td>\n      <td>...</td>\n      <td>...</td>\n      <td>...</td>\n      <td>...</td>\n      <td>...</td>\n      <td>...</td>\n      <td>...</td>\n      <td>...</td>\n      <td>...</td>\n      <td>...</td>\n      <td>...</td>\n    </tr>\n    <tr>\n      <th>8626</th>\n      <td>180606-022-0101</td>\n      <td>180606</td>\n      <td>022</td>\n      <td>0101</td>\n      <td>0.192</td>\n      <td>0.292</td>\n      <td>0.408</td>\n      <td>0.2</td>\n      <td>0.3</td>\n      <td>40.344</td>\n      <td>30.042</td>\n      <td>341</td>\n      <td>0.000</td>\n      <td>16.0</td>\n      <td>0</td>\n      <td>0</td>\n      <td>0</td>\n      <td>0</td>\n      <td>0</td>\n      <td>0</td>\n    </tr>\n    <tr>\n      <th>8627</th>\n      <td>180606-022-0101</td>\n      <td>180606</td>\n      <td>022</td>\n      <td>0101</td>\n      <td>0.188</td>\n      <td>0.294</td>\n      <td>0.416</td>\n      <td>0.2</td>\n      <td>0.3</td>\n      <td>38.394</td>\n      <td>31.105</td>\n      <td>341</td>\n      <td>0.000</td>\n      <td>16.0</td>\n      <td>0</td>\n      <td>0</td>\n      <td>0</td>\n      <td>0</td>\n      <td>0</td>\n      <td>0</td>\n    </tr>\n    <tr>\n      <th>8628</th>\n      <td>180606-022-0101</td>\n      <td>180606</td>\n      <td>022</td>\n      <td>0101</td>\n      <td>0.194</td>\n      <td>0.294</td>\n      <td>0.411</td>\n      <td>0.2</td>\n      <td>0.3</td>\n      <td>35.061</td>\n      <td>31.599</td>\n      <td>341</td>\n      <td>0.000</td>\n      <td>16.0</td>\n      <td>0</td>\n      <td>0</td>\n      <td>0</td>\n      <td>0</td>\n      <td>0</td>\n      <td>0</td>\n    </tr>\n    <tr>\n      <th>8629</th>\n      <td>180606-022-0101</td>\n      <td>180606</td>\n      <td>022</td>\n      <td>0101</td>\n      <td>0.185</td>\n      <td>0.296</td>\n      <td>0.416</td>\n      <td>0.2</td>\n      <td>0.3</td>\n      <td>31.495</td>\n      <td>32.699</td>\n      <td>340</td>\n      <td>0.000</td>\n      <td>16.0</td>\n      <td>0</td>\n      <td>0</td>\n      <td>0</td>\n      <td>0</td>\n      <td>0</td>\n      <td>0</td>\n    </tr>\n    <tr>\n      <th>8630</th>\n      <td>180606-022-0101</td>\n      <td>180606</td>\n      <td>022</td>\n      <td>0101</td>\n      <td>0.184</td>\n      <td>0.290</td>\n      <td>0.403</td>\n      <td>0.2</td>\n      <td>0.3</td>\n      <td>41.864</td>\n      <td>29.721</td>\n      <td>341</td>\n      <td>0.000</td>\n      <td>16.0</td>\n      <td>0</td>\n      <td>0</td>\n      <td>0</td>\n      <td>0</td>\n      <td>0</td>\n      <td>0</td>\n    </tr>\n  </tbody>\n</table>\n<p>8631 rows × 20 columns</p>\n</div>"
     },
     "execution_count": 32,
     "metadata": {},
     "output_type": "execute_result"
    }
   ],
   "source": [
    "df_refine = pd.concat([df[df.columns[0]], lot_split_df, df[df.columns[1:]]], axis = 1)\n",
    "\n",
    "df_refine"
   ],
   "metadata": {
    "collapsed": false
   }
  },
  {
   "cell_type": "code",
   "execution_count": 27,
   "outputs": [
    {
     "data": {
      "text/plain": "Index(['Short_Shot', 'Ejection_Pin_Burr', 'Soldering', 'Shrinkage', 'Stain',\n       'Corepin_Soldering', 'Crack'],\n      dtype='object')"
     },
     "execution_count": 27,
     "metadata": {},
     "output_type": "execute_result"
    }
   ],
   "source": [
    "# 불량품 열 이름들만 추출\n",
    "error_columns = df.columns[10:]\n",
    "\n",
    "error_columns"
   ],
   "metadata": {
    "collapsed": false
   }
  },
  {
   "cell_type": "code",
   "execution_count": 35,
   "outputs": [
    {
     "data": {
      "text/plain": "                  LOT    Date Equipment Die_Number  Injection_Velocity_1  \\\n0     180102-021-0101  180102       021       0101                 0.120   \n1     180102-021-0101  180102       021       0101                 0.106   \n2     180102-021-0101  180102       021       0101                 0.085   \n3     180102-021-0101  180102       021       0101                 0.080   \n4     180102-021-0101  180102       021       0101                 0.106   \n...               ...     ...       ...        ...                   ...   \n8626  180606-022-0101  180606       022       0101                 0.192   \n8627  180606-022-0101  180606       022       0101                 0.188   \n8628  180606-022-0101  180606       022       0101                 0.194   \n8629  180606-022-0101  180606       022       0101                 0.185   \n8630  180606-022-0101  180606       022       0101                 0.184   \n\n      Injection_Velocity_2  Injection_Velocity_3  Spray_Time_1  Spray_Time_2  \\\n0                    0.220                 0.368           0.2           0.3   \n1                    0.216                 0.357           0.2           0.3   \n2                    0.222                 0.371           0.2           0.3   \n3                    0.208                 0.349           0.2           0.3   \n4                    0.214                 0.360           0.2           0.3   \n...                    ...                   ...           ...           ...   \n8626                 0.292                 0.408           0.2           0.3   \n8627                 0.294                 0.416           0.2           0.3   \n8628                 0.294                 0.411           0.2           0.3   \n8629                 0.296                 0.416           0.2           0.3   \n8630                 0.290                 0.403           0.2           0.3   \n\n      Humidity  Temperature  Casting_Pressure  Pressure_Increase_Time  \\\n0       19.993       15.598               680                   0.041   \n1       18.778       14.997               678                   0.043   \n2       20.330       15.835               680                   0.043   \n3       18.382       14.841               324                   0.000   \n4       18.961       15.028               677                   0.043   \n...        ...          ...               ...                     ...   \n8626    40.344       30.042               341                   0.000   \n8627    38.394       31.105               341                   0.000   \n8628    35.061       31.599               341                   0.000   \n8629    31.495       32.699               340                   0.000   \n8630    41.864       29.721               341                   0.000   \n\n      Short_Shot  Ejection_Pin_Burr  Soldering  Shrinkage  Stain  \\\n0            1.0                  0          0          0      0   \n1            1.0                  0          0          0      0   \n2            1.0                  0          0          0      0   \n3            1.0                  0          0          0      0   \n4            1.0                  0          0          0      0   \n...          ...                ...        ...        ...    ...   \n8626         1.0                  0          0          0      0   \n8627         1.0                  0          0          0      0   \n8628         1.0                  0          0          0      0   \n8629         1.0                  0          0          0      0   \n8630         1.0                  0          0          0      0   \n\n      Corepin_Soldering  Crack  \n0                     0      0  \n1                     0      0  \n2                     0      0  \n3                     0      0  \n4                     0      0  \n...                 ...    ...  \n8626                  0      0  \n8627                  0      0  \n8628                  0      0  \n8629                  0      0  \n8630                  0      0  \n\n[8631 rows x 20 columns]",
      "text/html": "<div>\n<style scoped>\n    .dataframe tbody tr th:only-of-type {\n        vertical-align: middle;\n    }\n\n    .dataframe tbody tr th {\n        vertical-align: top;\n    }\n\n    .dataframe thead th {\n        text-align: right;\n    }\n</style>\n<table border=\"1\" class=\"dataframe\">\n  <thead>\n    <tr style=\"text-align: right;\">\n      <th></th>\n      <th>LOT</th>\n      <th>Date</th>\n      <th>Equipment</th>\n      <th>Die_Number</th>\n      <th>Injection_Velocity_1</th>\n      <th>Injection_Velocity_2</th>\n      <th>Injection_Velocity_3</th>\n      <th>Spray_Time_1</th>\n      <th>Spray_Time_2</th>\n      <th>Humidity</th>\n      <th>Temperature</th>\n      <th>Casting_Pressure</th>\n      <th>Pressure_Increase_Time</th>\n      <th>Short_Shot</th>\n      <th>Ejection_Pin_Burr</th>\n      <th>Soldering</th>\n      <th>Shrinkage</th>\n      <th>Stain</th>\n      <th>Corepin_Soldering</th>\n      <th>Crack</th>\n    </tr>\n  </thead>\n  <tbody>\n    <tr>\n      <th>0</th>\n      <td>180102-021-0101</td>\n      <td>180102</td>\n      <td>021</td>\n      <td>0101</td>\n      <td>0.120</td>\n      <td>0.220</td>\n      <td>0.368</td>\n      <td>0.2</td>\n      <td>0.3</td>\n      <td>19.993</td>\n      <td>15.598</td>\n      <td>680</td>\n      <td>0.041</td>\n      <td>1.0</td>\n      <td>0</td>\n      <td>0</td>\n      <td>0</td>\n      <td>0</td>\n      <td>0</td>\n      <td>0</td>\n    </tr>\n    <tr>\n      <th>1</th>\n      <td>180102-021-0101</td>\n      <td>180102</td>\n      <td>021</td>\n      <td>0101</td>\n      <td>0.106</td>\n      <td>0.216</td>\n      <td>0.357</td>\n      <td>0.2</td>\n      <td>0.3</td>\n      <td>18.778</td>\n      <td>14.997</td>\n      <td>678</td>\n      <td>0.043</td>\n      <td>1.0</td>\n      <td>0</td>\n      <td>0</td>\n      <td>0</td>\n      <td>0</td>\n      <td>0</td>\n      <td>0</td>\n    </tr>\n    <tr>\n      <th>2</th>\n      <td>180102-021-0101</td>\n      <td>180102</td>\n      <td>021</td>\n      <td>0101</td>\n      <td>0.085</td>\n      <td>0.222</td>\n      <td>0.371</td>\n      <td>0.2</td>\n      <td>0.3</td>\n      <td>20.330</td>\n      <td>15.835</td>\n      <td>680</td>\n      <td>0.043</td>\n      <td>1.0</td>\n      <td>0</td>\n      <td>0</td>\n      <td>0</td>\n      <td>0</td>\n      <td>0</td>\n      <td>0</td>\n    </tr>\n    <tr>\n      <th>3</th>\n      <td>180102-021-0101</td>\n      <td>180102</td>\n      <td>021</td>\n      <td>0101</td>\n      <td>0.080</td>\n      <td>0.208</td>\n      <td>0.349</td>\n      <td>0.2</td>\n      <td>0.3</td>\n      <td>18.382</td>\n      <td>14.841</td>\n      <td>324</td>\n      <td>0.000</td>\n      <td>1.0</td>\n      <td>0</td>\n      <td>0</td>\n      <td>0</td>\n      <td>0</td>\n      <td>0</td>\n      <td>0</td>\n    </tr>\n    <tr>\n      <th>4</th>\n      <td>180102-021-0101</td>\n      <td>180102</td>\n      <td>021</td>\n      <td>0101</td>\n      <td>0.106</td>\n      <td>0.214</td>\n      <td>0.360</td>\n      <td>0.2</td>\n      <td>0.3</td>\n      <td>18.961</td>\n      <td>15.028</td>\n      <td>677</td>\n      <td>0.043</td>\n      <td>1.0</td>\n      <td>0</td>\n      <td>0</td>\n      <td>0</td>\n      <td>0</td>\n      <td>0</td>\n      <td>0</td>\n    </tr>\n    <tr>\n      <th>...</th>\n      <td>...</td>\n      <td>...</td>\n      <td>...</td>\n      <td>...</td>\n      <td>...</td>\n      <td>...</td>\n      <td>...</td>\n      <td>...</td>\n      <td>...</td>\n      <td>...</td>\n      <td>...</td>\n      <td>...</td>\n      <td>...</td>\n      <td>...</td>\n      <td>...</td>\n      <td>...</td>\n      <td>...</td>\n      <td>...</td>\n      <td>...</td>\n      <td>...</td>\n    </tr>\n    <tr>\n      <th>8626</th>\n      <td>180606-022-0101</td>\n      <td>180606</td>\n      <td>022</td>\n      <td>0101</td>\n      <td>0.192</td>\n      <td>0.292</td>\n      <td>0.408</td>\n      <td>0.2</td>\n      <td>0.3</td>\n      <td>40.344</td>\n      <td>30.042</td>\n      <td>341</td>\n      <td>0.000</td>\n      <td>1.0</td>\n      <td>0</td>\n      <td>0</td>\n      <td>0</td>\n      <td>0</td>\n      <td>0</td>\n      <td>0</td>\n    </tr>\n    <tr>\n      <th>8627</th>\n      <td>180606-022-0101</td>\n      <td>180606</td>\n      <td>022</td>\n      <td>0101</td>\n      <td>0.188</td>\n      <td>0.294</td>\n      <td>0.416</td>\n      <td>0.2</td>\n      <td>0.3</td>\n      <td>38.394</td>\n      <td>31.105</td>\n      <td>341</td>\n      <td>0.000</td>\n      <td>1.0</td>\n      <td>0</td>\n      <td>0</td>\n      <td>0</td>\n      <td>0</td>\n      <td>0</td>\n      <td>0</td>\n    </tr>\n    <tr>\n      <th>8628</th>\n      <td>180606-022-0101</td>\n      <td>180606</td>\n      <td>022</td>\n      <td>0101</td>\n      <td>0.194</td>\n      <td>0.294</td>\n      <td>0.411</td>\n      <td>0.2</td>\n      <td>0.3</td>\n      <td>35.061</td>\n      <td>31.599</td>\n      <td>341</td>\n      <td>0.000</td>\n      <td>1.0</td>\n      <td>0</td>\n      <td>0</td>\n      <td>0</td>\n      <td>0</td>\n      <td>0</td>\n      <td>0</td>\n    </tr>\n    <tr>\n      <th>8629</th>\n      <td>180606-022-0101</td>\n      <td>180606</td>\n      <td>022</td>\n      <td>0101</td>\n      <td>0.185</td>\n      <td>0.296</td>\n      <td>0.416</td>\n      <td>0.2</td>\n      <td>0.3</td>\n      <td>31.495</td>\n      <td>32.699</td>\n      <td>340</td>\n      <td>0.000</td>\n      <td>1.0</td>\n      <td>0</td>\n      <td>0</td>\n      <td>0</td>\n      <td>0</td>\n      <td>0</td>\n      <td>0</td>\n    </tr>\n    <tr>\n      <th>8630</th>\n      <td>180606-022-0101</td>\n      <td>180606</td>\n      <td>022</td>\n      <td>0101</td>\n      <td>0.184</td>\n      <td>0.290</td>\n      <td>0.403</td>\n      <td>0.2</td>\n      <td>0.3</td>\n      <td>41.864</td>\n      <td>29.721</td>\n      <td>341</td>\n      <td>0.000</td>\n      <td>1.0</td>\n      <td>0</td>\n      <td>0</td>\n      <td>0</td>\n      <td>0</td>\n      <td>0</td>\n      <td>0</td>\n    </tr>\n  </tbody>\n</table>\n<p>8631 rows × 20 columns</p>\n</div>"
     },
     "execution_count": 35,
     "metadata": {},
     "output_type": "execute_result"
    }
   ],
   "source": [
    "# 분명 이런 비효율적 방법보다 더 좋은 방법이 있을 것\n",
    "df_refine_convert_error  = df_refine.copy()\n",
    "\n",
    "for error in error_columns.tolist():\n",
    "    for index in df_refine_convert_error.index:\n",
    "        cell = df_refine_convert_error.loc[index, error]\n",
    "        # 불량품 값이 있으면\n",
    "        if cell != 0:\n",
    "            df_refine_convert_error.loc[index, error] = 1\n",
    "        # 불량품 값이 없으면\n",
    "        else:\n",
    "            df_refine_convert_error.loc[index,error] = 0\n",
    "\n",
    "df_refine_convert_error"
   ],
   "metadata": {
    "collapsed": false
   }
  },
  {
   "cell_type": "code",
   "execution_count": 36,
   "outputs": [
    {
     "data": {
      "text/plain": "                  LOT    Date Equipment Die_Number  Injection_Velocity_1  \\\n0     180102-021-0101  180102       021       0101                 0.120   \n1     180102-021-0101  180102       021       0101                 0.106   \n2     180102-021-0101  180102       021       0101                 0.085   \n3     180102-021-0101  180102       021       0101                 0.080   \n4     180102-021-0101  180102       021       0101                 0.106   \n...               ...     ...       ...        ...                   ...   \n8626  180606-022-0101  180606       022       0101                 0.192   \n8627  180606-022-0101  180606       022       0101                 0.188   \n8628  180606-022-0101  180606       022       0101                 0.194   \n8629  180606-022-0101  180606       022       0101                 0.185   \n8630  180606-022-0101  180606       022       0101                 0.184   \n\n      Injection_Velocity_2  Injection_Velocity_3  Spray_Time_1  Spray_Time_2  \\\n0                    0.220                 0.368           0.2           0.3   \n1                    0.216                 0.357           0.2           0.3   \n2                    0.222                 0.371           0.2           0.3   \n3                    0.208                 0.349           0.2           0.3   \n4                    0.214                 0.360           0.2           0.3   \n...                    ...                   ...           ...           ...   \n8626                 0.292                 0.408           0.2           0.3   \n8627                 0.294                 0.416           0.2           0.3   \n8628                 0.294                 0.411           0.2           0.3   \n8629                 0.296                 0.416           0.2           0.3   \n8630                 0.290                 0.403           0.2           0.3   \n\n      Humidity  Temperature  Casting_Pressure  Pressure_Increase_Time  \\\n0       19.993       15.598               680                   0.041   \n1       18.778       14.997               678                   0.043   \n2       20.330       15.835               680                   0.043   \n3       18.382       14.841               324                   0.000   \n4       18.961       15.028               677                   0.043   \n...        ...          ...               ...                     ...   \n8626    40.344       30.042               341                   0.000   \n8627    38.394       31.105               341                   0.000   \n8628    35.061       31.599               341                   0.000   \n8629    31.495       32.699               340                   0.000   \n8630    41.864       29.721               341                   0.000   \n\n      Short_Shot  Ejection_Pin_Burr  Soldering  Shrinkage  Stain  \\\n0              1                  0          0          0      0   \n1              1                  0          0          0      0   \n2              1                  0          0          0      0   \n3              1                  0          0          0      0   \n4              1                  0          0          0      0   \n...          ...                ...        ...        ...    ...   \n8626           1                  0          0          0      0   \n8627           1                  0          0          0      0   \n8628           1                  0          0          0      0   \n8629           1                  0          0          0      0   \n8630           1                  0          0          0      0   \n\n      Corepin_Soldering  Crack  \n0                     0      0  \n1                     0      0  \n2                     0      0  \n3                     0      0  \n4                     0      0  \n...                 ...    ...  \n8626                  0      0  \n8627                  0      0  \n8628                  0      0  \n8629                  0      0  \n8630                  0      0  \n\n[8631 rows x 20 columns]",
      "text/html": "<div>\n<style scoped>\n    .dataframe tbody tr th:only-of-type {\n        vertical-align: middle;\n    }\n\n    .dataframe tbody tr th {\n        vertical-align: top;\n    }\n\n    .dataframe thead th {\n        text-align: right;\n    }\n</style>\n<table border=\"1\" class=\"dataframe\">\n  <thead>\n    <tr style=\"text-align: right;\">\n      <th></th>\n      <th>LOT</th>\n      <th>Date</th>\n      <th>Equipment</th>\n      <th>Die_Number</th>\n      <th>Injection_Velocity_1</th>\n      <th>Injection_Velocity_2</th>\n      <th>Injection_Velocity_3</th>\n      <th>Spray_Time_1</th>\n      <th>Spray_Time_2</th>\n      <th>Humidity</th>\n      <th>Temperature</th>\n      <th>Casting_Pressure</th>\n      <th>Pressure_Increase_Time</th>\n      <th>Short_Shot</th>\n      <th>Ejection_Pin_Burr</th>\n      <th>Soldering</th>\n      <th>Shrinkage</th>\n      <th>Stain</th>\n      <th>Corepin_Soldering</th>\n      <th>Crack</th>\n    </tr>\n  </thead>\n  <tbody>\n    <tr>\n      <th>0</th>\n      <td>180102-021-0101</td>\n      <td>180102</td>\n      <td>021</td>\n      <td>0101</td>\n      <td>0.120</td>\n      <td>0.220</td>\n      <td>0.368</td>\n      <td>0.2</td>\n      <td>0.3</td>\n      <td>19.993</td>\n      <td>15.598</td>\n      <td>680</td>\n      <td>0.041</td>\n      <td>1</td>\n      <td>0</td>\n      <td>0</td>\n      <td>0</td>\n      <td>0</td>\n      <td>0</td>\n      <td>0</td>\n    </tr>\n    <tr>\n      <th>1</th>\n      <td>180102-021-0101</td>\n      <td>180102</td>\n      <td>021</td>\n      <td>0101</td>\n      <td>0.106</td>\n      <td>0.216</td>\n      <td>0.357</td>\n      <td>0.2</td>\n      <td>0.3</td>\n      <td>18.778</td>\n      <td>14.997</td>\n      <td>678</td>\n      <td>0.043</td>\n      <td>1</td>\n      <td>0</td>\n      <td>0</td>\n      <td>0</td>\n      <td>0</td>\n      <td>0</td>\n      <td>0</td>\n    </tr>\n    <tr>\n      <th>2</th>\n      <td>180102-021-0101</td>\n      <td>180102</td>\n      <td>021</td>\n      <td>0101</td>\n      <td>0.085</td>\n      <td>0.222</td>\n      <td>0.371</td>\n      <td>0.2</td>\n      <td>0.3</td>\n      <td>20.330</td>\n      <td>15.835</td>\n      <td>680</td>\n      <td>0.043</td>\n      <td>1</td>\n      <td>0</td>\n      <td>0</td>\n      <td>0</td>\n      <td>0</td>\n      <td>0</td>\n      <td>0</td>\n    </tr>\n    <tr>\n      <th>3</th>\n      <td>180102-021-0101</td>\n      <td>180102</td>\n      <td>021</td>\n      <td>0101</td>\n      <td>0.080</td>\n      <td>0.208</td>\n      <td>0.349</td>\n      <td>0.2</td>\n      <td>0.3</td>\n      <td>18.382</td>\n      <td>14.841</td>\n      <td>324</td>\n      <td>0.000</td>\n      <td>1</td>\n      <td>0</td>\n      <td>0</td>\n      <td>0</td>\n      <td>0</td>\n      <td>0</td>\n      <td>0</td>\n    </tr>\n    <tr>\n      <th>4</th>\n      <td>180102-021-0101</td>\n      <td>180102</td>\n      <td>021</td>\n      <td>0101</td>\n      <td>0.106</td>\n      <td>0.214</td>\n      <td>0.360</td>\n      <td>0.2</td>\n      <td>0.3</td>\n      <td>18.961</td>\n      <td>15.028</td>\n      <td>677</td>\n      <td>0.043</td>\n      <td>1</td>\n      <td>0</td>\n      <td>0</td>\n      <td>0</td>\n      <td>0</td>\n      <td>0</td>\n      <td>0</td>\n    </tr>\n    <tr>\n      <th>...</th>\n      <td>...</td>\n      <td>...</td>\n      <td>...</td>\n      <td>...</td>\n      <td>...</td>\n      <td>...</td>\n      <td>...</td>\n      <td>...</td>\n      <td>...</td>\n      <td>...</td>\n      <td>...</td>\n      <td>...</td>\n      <td>...</td>\n      <td>...</td>\n      <td>...</td>\n      <td>...</td>\n      <td>...</td>\n      <td>...</td>\n      <td>...</td>\n      <td>...</td>\n    </tr>\n    <tr>\n      <th>8626</th>\n      <td>180606-022-0101</td>\n      <td>180606</td>\n      <td>022</td>\n      <td>0101</td>\n      <td>0.192</td>\n      <td>0.292</td>\n      <td>0.408</td>\n      <td>0.2</td>\n      <td>0.3</td>\n      <td>40.344</td>\n      <td>30.042</td>\n      <td>341</td>\n      <td>0.000</td>\n      <td>1</td>\n      <td>0</td>\n      <td>0</td>\n      <td>0</td>\n      <td>0</td>\n      <td>0</td>\n      <td>0</td>\n    </tr>\n    <tr>\n      <th>8627</th>\n      <td>180606-022-0101</td>\n      <td>180606</td>\n      <td>022</td>\n      <td>0101</td>\n      <td>0.188</td>\n      <td>0.294</td>\n      <td>0.416</td>\n      <td>0.2</td>\n      <td>0.3</td>\n      <td>38.394</td>\n      <td>31.105</td>\n      <td>341</td>\n      <td>0.000</td>\n      <td>1</td>\n      <td>0</td>\n      <td>0</td>\n      <td>0</td>\n      <td>0</td>\n      <td>0</td>\n      <td>0</td>\n    </tr>\n    <tr>\n      <th>8628</th>\n      <td>180606-022-0101</td>\n      <td>180606</td>\n      <td>022</td>\n      <td>0101</td>\n      <td>0.194</td>\n      <td>0.294</td>\n      <td>0.411</td>\n      <td>0.2</td>\n      <td>0.3</td>\n      <td>35.061</td>\n      <td>31.599</td>\n      <td>341</td>\n      <td>0.000</td>\n      <td>1</td>\n      <td>0</td>\n      <td>0</td>\n      <td>0</td>\n      <td>0</td>\n      <td>0</td>\n      <td>0</td>\n    </tr>\n    <tr>\n      <th>8629</th>\n      <td>180606-022-0101</td>\n      <td>180606</td>\n      <td>022</td>\n      <td>0101</td>\n      <td>0.185</td>\n      <td>0.296</td>\n      <td>0.416</td>\n      <td>0.2</td>\n      <td>0.3</td>\n      <td>31.495</td>\n      <td>32.699</td>\n      <td>340</td>\n      <td>0.000</td>\n      <td>1</td>\n      <td>0</td>\n      <td>0</td>\n      <td>0</td>\n      <td>0</td>\n      <td>0</td>\n      <td>0</td>\n    </tr>\n    <tr>\n      <th>8630</th>\n      <td>180606-022-0101</td>\n      <td>180606</td>\n      <td>022</td>\n      <td>0101</td>\n      <td>0.184</td>\n      <td>0.290</td>\n      <td>0.403</td>\n      <td>0.2</td>\n      <td>0.3</td>\n      <td>41.864</td>\n      <td>29.721</td>\n      <td>341</td>\n      <td>0.000</td>\n      <td>1</td>\n      <td>0</td>\n      <td>0</td>\n      <td>0</td>\n      <td>0</td>\n      <td>0</td>\n      <td>0</td>\n    </tr>\n  </tbody>\n</table>\n<p>8631 rows × 20 columns</p>\n</div>"
     },
     "execution_count": 36,
     "metadata": {},
     "output_type": "execute_result"
    }
   ],
   "source": [
    "df_refine_convert_error = df_refine_convert_error.astype({'Short_Shot' : 'int'})\n",
    "\n",
    "df_refine_convert_error"
   ],
   "metadata": {
    "collapsed": false,
    "pycharm": {
     "name": "#%%ㄹ\n"
    }
   }
  },
  {
   "cell_type": "code",
   "execution_count": 37,
   "outputs": [],
   "source": [
    "df_refine_convert_error.to_csv('refine-error-convert-die-casting-dataset.csv')"
   ],
   "metadata": {
    "collapsed": false
   }
  },
  {
   "cell_type": "code",
   "execution_count": 38,
   "outputs": [],
   "source": [
    "df_refine.to_csv('refine-lot-die-casting-dataset.csv')"
   ],
   "metadata": {
    "collapsed": false
   }
  },
  {
   "cell_type": "code",
   "execution_count": null,
   "outputs": [],
   "source": [],
   "metadata": {
    "collapsed": false
   }
  }
 ],
 "metadata": {
  "kernelspec": {
   "display_name": "Python 3",
   "language": "python",
   "name": "python3"
  },
  "language_info": {
   "codemirror_mode": {
    "name": "ipython",
    "version": 2
   },
   "file_extension": ".py",
   "mimetype": "text/x-python",
   "name": "python",
   "nbconvert_exporter": "python",
   "pygments_lexer": "ipython2",
   "version": "2.7.6"
  }
 },
 "nbformat": 4,
 "nbformat_minor": 0
}
