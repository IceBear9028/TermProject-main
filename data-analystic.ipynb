{
 "cells": [
  {
   "cell_type": "code",
   "execution_count": 1,
   "metadata": {
    "collapsed": true
   },
   "outputs": [],
   "source": [
    "import pandas as pd\n",
    "import numpy as np"
   ]
  },
  {
   "cell_type": "code",
   "execution_count": 5,
   "outputs": [
    {
     "data": {
      "text/plain": "                  LOT        Date  Equipment  Die_Number  \\\n0     180102-021-0101  2018-01-02         21         101   \n1     180102-021-0101  2018-01-02         21         101   \n2     180102-021-0101  2018-01-02         21         101   \n3     180102-021-0101  2018-01-02         21         101   \n4     180102-021-0101  2018-01-02         21         101   \n...               ...         ...        ...         ...   \n8626  180606-022-0101  2018-06-06         22         101   \n8627  180606-022-0101  2018-06-06         22         101   \n8628  180606-022-0101  2018-06-06         22         101   \n8629  180606-022-0101  2018-06-06         22         101   \n8630  180606-022-0101  2018-06-06         22         101   \n\n      Injection_Velocity_1  Injection_Velocity_2  Injection_Velocity_3  \\\n0                    0.120                 0.220                 0.368   \n1                    0.106                 0.216                 0.357   \n2                    0.085                 0.222                 0.371   \n3                    0.080                 0.208                 0.349   \n4                    0.106                 0.214                 0.360   \n...                    ...                   ...                   ...   \n8626                 0.192                 0.292                 0.408   \n8627                 0.188                 0.294                 0.416   \n8628                 0.194                 0.294                 0.411   \n8629                 0.185                 0.296                 0.416   \n8630                 0.184                 0.290                 0.403   \n\n      Spray_Time_1  Spray_Time_2  Humidity  Temperature  Casting_Pressure  \\\n0              0.2           0.3    19.993       15.598               680   \n1              0.2           0.3    18.778       14.997               678   \n2              0.2           0.3    20.330       15.835               680   \n3              0.2           0.3    18.382       14.841               324   \n4              0.2           0.3    18.961       15.028               677   \n...            ...           ...       ...          ...               ...   \n8626           0.2           0.3    40.344       30.042               341   \n8627           0.2           0.3    38.394       31.105               341   \n8628           0.2           0.3    35.061       31.599               341   \n8629           0.2           0.3    31.495       32.699               340   \n8630           0.2           0.3    41.864       29.721               341   \n\n      Pressure_Increase_Time  Short_Shot  Error  \n0                      0.041           3      0  \n1                      0.043           3      0  \n2                      0.043           3      0  \n3                      0.000           3      0  \n4                      0.043           3      0  \n...                      ...         ...    ...  \n8626                   0.000          16      0  \n8627                   0.000          16      0  \n8628                   0.000          16      0  \n8629                   0.000          16      0  \n8630                   0.000          16      0  \n\n[8631 rows x 15 columns]",
      "text/html": "<div>\n<style scoped>\n    .dataframe tbody tr th:only-of-type {\n        vertical-align: middle;\n    }\n\n    .dataframe tbody tr th {\n        vertical-align: top;\n    }\n\n    .dataframe thead th {\n        text-align: right;\n    }\n</style>\n<table border=\"1\" class=\"dataframe\">\n  <thead>\n    <tr style=\"text-align: right;\">\n      <th></th>\n      <th>LOT</th>\n      <th>Date</th>\n      <th>Equipment</th>\n      <th>Die_Number</th>\n      <th>Injection_Velocity_1</th>\n      <th>Injection_Velocity_2</th>\n      <th>Injection_Velocity_3</th>\n      <th>Spray_Time_1</th>\n      <th>Spray_Time_2</th>\n      <th>Humidity</th>\n      <th>Temperature</th>\n      <th>Casting_Pressure</th>\n      <th>Pressure_Increase_Time</th>\n      <th>Short_Shot</th>\n      <th>Error</th>\n    </tr>\n  </thead>\n  <tbody>\n    <tr>\n      <th>0</th>\n      <td>180102-021-0101</td>\n      <td>2018-01-02</td>\n      <td>21</td>\n      <td>101</td>\n      <td>0.120</td>\n      <td>0.220</td>\n      <td>0.368</td>\n      <td>0.2</td>\n      <td>0.3</td>\n      <td>19.993</td>\n      <td>15.598</td>\n      <td>680</td>\n      <td>0.041</td>\n      <td>3</td>\n      <td>0</td>\n    </tr>\n    <tr>\n      <th>1</th>\n      <td>180102-021-0101</td>\n      <td>2018-01-02</td>\n      <td>21</td>\n      <td>101</td>\n      <td>0.106</td>\n      <td>0.216</td>\n      <td>0.357</td>\n      <td>0.2</td>\n      <td>0.3</td>\n      <td>18.778</td>\n      <td>14.997</td>\n      <td>678</td>\n      <td>0.043</td>\n      <td>3</td>\n      <td>0</td>\n    </tr>\n    <tr>\n      <th>2</th>\n      <td>180102-021-0101</td>\n      <td>2018-01-02</td>\n      <td>21</td>\n      <td>101</td>\n      <td>0.085</td>\n      <td>0.222</td>\n      <td>0.371</td>\n      <td>0.2</td>\n      <td>0.3</td>\n      <td>20.330</td>\n      <td>15.835</td>\n      <td>680</td>\n      <td>0.043</td>\n      <td>3</td>\n      <td>0</td>\n    </tr>\n    <tr>\n      <th>3</th>\n      <td>180102-021-0101</td>\n      <td>2018-01-02</td>\n      <td>21</td>\n      <td>101</td>\n      <td>0.080</td>\n      <td>0.208</td>\n      <td>0.349</td>\n      <td>0.2</td>\n      <td>0.3</td>\n      <td>18.382</td>\n      <td>14.841</td>\n      <td>324</td>\n      <td>0.000</td>\n      <td>3</td>\n      <td>0</td>\n    </tr>\n    <tr>\n      <th>4</th>\n      <td>180102-021-0101</td>\n      <td>2018-01-02</td>\n      <td>21</td>\n      <td>101</td>\n      <td>0.106</td>\n      <td>0.214</td>\n      <td>0.360</td>\n      <td>0.2</td>\n      <td>0.3</td>\n      <td>18.961</td>\n      <td>15.028</td>\n      <td>677</td>\n      <td>0.043</td>\n      <td>3</td>\n      <td>0</td>\n    </tr>\n    <tr>\n      <th>...</th>\n      <td>...</td>\n      <td>...</td>\n      <td>...</td>\n      <td>...</td>\n      <td>...</td>\n      <td>...</td>\n      <td>...</td>\n      <td>...</td>\n      <td>...</td>\n      <td>...</td>\n      <td>...</td>\n      <td>...</td>\n      <td>...</td>\n      <td>...</td>\n      <td>...</td>\n    </tr>\n    <tr>\n      <th>8626</th>\n      <td>180606-022-0101</td>\n      <td>2018-06-06</td>\n      <td>22</td>\n      <td>101</td>\n      <td>0.192</td>\n      <td>0.292</td>\n      <td>0.408</td>\n      <td>0.2</td>\n      <td>0.3</td>\n      <td>40.344</td>\n      <td>30.042</td>\n      <td>341</td>\n      <td>0.000</td>\n      <td>16</td>\n      <td>0</td>\n    </tr>\n    <tr>\n      <th>8627</th>\n      <td>180606-022-0101</td>\n      <td>2018-06-06</td>\n      <td>22</td>\n      <td>101</td>\n      <td>0.188</td>\n      <td>0.294</td>\n      <td>0.416</td>\n      <td>0.2</td>\n      <td>0.3</td>\n      <td>38.394</td>\n      <td>31.105</td>\n      <td>341</td>\n      <td>0.000</td>\n      <td>16</td>\n      <td>0</td>\n    </tr>\n    <tr>\n      <th>8628</th>\n      <td>180606-022-0101</td>\n      <td>2018-06-06</td>\n      <td>22</td>\n      <td>101</td>\n      <td>0.194</td>\n      <td>0.294</td>\n      <td>0.411</td>\n      <td>0.2</td>\n      <td>0.3</td>\n      <td>35.061</td>\n      <td>31.599</td>\n      <td>341</td>\n      <td>0.000</td>\n      <td>16</td>\n      <td>0</td>\n    </tr>\n    <tr>\n      <th>8629</th>\n      <td>180606-022-0101</td>\n      <td>2018-06-06</td>\n      <td>22</td>\n      <td>101</td>\n      <td>0.185</td>\n      <td>0.296</td>\n      <td>0.416</td>\n      <td>0.2</td>\n      <td>0.3</td>\n      <td>31.495</td>\n      <td>32.699</td>\n      <td>340</td>\n      <td>0.000</td>\n      <td>16</td>\n      <td>0</td>\n    </tr>\n    <tr>\n      <th>8630</th>\n      <td>180606-022-0101</td>\n      <td>2018-06-06</td>\n      <td>22</td>\n      <td>101</td>\n      <td>0.184</td>\n      <td>0.290</td>\n      <td>0.403</td>\n      <td>0.2</td>\n      <td>0.3</td>\n      <td>41.864</td>\n      <td>29.721</td>\n      <td>341</td>\n      <td>0.000</td>\n      <td>16</td>\n      <td>0</td>\n    </tr>\n  </tbody>\n</table>\n<p>8631 rows × 15 columns</p>\n</div>"
     },
     "execution_count": 5,
     "metadata": {},
     "output_type": "execute_result"
    }
   ],
   "source": [
    "df = pd.read_csv('./data_refine/refine-multiple-error-dataset.csv', index_col=0)\n",
    "\n",
    "df"
   ],
   "metadata": {
    "collapsed": false
   }
  },
  {
   "cell_type": "code",
   "execution_count": 6,
   "outputs": [
    {
     "data": {
      "text/plain": "101    3252\n102    2416\n103    1850\n104     513\n105     400\n106     200\nName: Die_Number, dtype: int64"
     },
     "execution_count": 6,
     "metadata": {},
     "output_type": "execute_result"
    }
   ],
   "source": [
    "df['Die_Number'].value_counts()"
   ],
   "metadata": {
    "collapsed": false
   }
  },
  {
   "cell_type": "code",
   "execution_count": 11,
   "outputs": [
    {
     "data": {
      "text/plain": "array([101, 102, 103, 104, 105, 106])"
     },
     "execution_count": 11,
     "metadata": {},
     "output_type": "execute_result"
    }
   ],
   "source": [
    "die_list = df['Die_Number'].unique()\n",
    "\n",
    "die_list"
   ],
   "metadata": {
    "collapsed": false
   }
  },
  {
   "cell_type": "markdown",
   "source": [
    "# Die_Number 별로 데이터프레임 분리\n",
    "##### -> df_die_num_101\n",
    "##### -> df_die_num_102\n",
    "##### -> df_die_num_103\n",
    "##### -> df_die_num_104\n",
    "##### -> df_die_num_105\n",
    "##### -> df_die_num_106"
   ],
   "metadata": {
    "collapsed": false
   }
  },
  {
   "cell_type": "code",
   "execution_count": 14,
   "outputs": [],
   "source": [
    "# Die_Number로 여러개의 데이터프레임으로 쪼갬\n",
    "\n",
    "for die_num in die_list.tolist():\n",
    "    result = dict(list(df.groupby('Die_Number')))\n",
    "    globals()['df_die_num_{0}'.format(die_num)] = result[die_num]"
   ],
   "metadata": {
    "collapsed": false
   }
  },
  {
   "cell_type": "code",
   "execution_count": 15,
   "outputs": [
    {
     "data": {
      "text/plain": "                  LOT        Date  Equipment  Die_Number  \\\n0     180102-021-0101  2018-01-02         21         101   \n1     180102-021-0101  2018-01-02         21         101   \n2     180102-021-0101  2018-01-02         21         101   \n3     180102-021-0101  2018-01-02         21         101   \n4     180102-021-0101  2018-01-02         21         101   \n...               ...         ...        ...         ...   \n8626  180606-022-0101  2018-06-06         22         101   \n8627  180606-022-0101  2018-06-06         22         101   \n8628  180606-022-0101  2018-06-06         22         101   \n8629  180606-022-0101  2018-06-06         22         101   \n8630  180606-022-0101  2018-06-06         22         101   \n\n      Injection_Velocity_1  Injection_Velocity_2  Injection_Velocity_3  \\\n0                    0.120                 0.220                 0.368   \n1                    0.106                 0.216                 0.357   \n2                    0.085                 0.222                 0.371   \n3                    0.080                 0.208                 0.349   \n4                    0.106                 0.214                 0.360   \n...                    ...                   ...                   ...   \n8626                 0.192                 0.292                 0.408   \n8627                 0.188                 0.294                 0.416   \n8628                 0.194                 0.294                 0.411   \n8629                 0.185                 0.296                 0.416   \n8630                 0.184                 0.290                 0.403   \n\n      Spray_Time_1  Spray_Time_2  Humidity  Temperature  Casting_Pressure  \\\n0              0.2           0.3    19.993       15.598               680   \n1              0.2           0.3    18.778       14.997               678   \n2              0.2           0.3    20.330       15.835               680   \n3              0.2           0.3    18.382       14.841               324   \n4              0.2           0.3    18.961       15.028               677   \n...            ...           ...       ...          ...               ...   \n8626           0.2           0.3    40.344       30.042               341   \n8627           0.2           0.3    38.394       31.105               341   \n8628           0.2           0.3    35.061       31.599               341   \n8629           0.2           0.3    31.495       32.699               340   \n8630           0.2           0.3    41.864       29.721               341   \n\n      Pressure_Increase_Time  Short_Shot  Error  \n0                      0.041           3      0  \n1                      0.043           3      0  \n2                      0.043           3      0  \n3                      0.000           3      0  \n4                      0.043           3      0  \n...                      ...         ...    ...  \n8626                   0.000          16      0  \n8627                   0.000          16      0  \n8628                   0.000          16      0  \n8629                   0.000          16      0  \n8630                   0.000          16      0  \n\n[3252 rows x 15 columns]",
      "text/html": "<div>\n<style scoped>\n    .dataframe tbody tr th:only-of-type {\n        vertical-align: middle;\n    }\n\n    .dataframe tbody tr th {\n        vertical-align: top;\n    }\n\n    .dataframe thead th {\n        text-align: right;\n    }\n</style>\n<table border=\"1\" class=\"dataframe\">\n  <thead>\n    <tr style=\"text-align: right;\">\n      <th></th>\n      <th>LOT</th>\n      <th>Date</th>\n      <th>Equipment</th>\n      <th>Die_Number</th>\n      <th>Injection_Velocity_1</th>\n      <th>Injection_Velocity_2</th>\n      <th>Injection_Velocity_3</th>\n      <th>Spray_Time_1</th>\n      <th>Spray_Time_2</th>\n      <th>Humidity</th>\n      <th>Temperature</th>\n      <th>Casting_Pressure</th>\n      <th>Pressure_Increase_Time</th>\n      <th>Short_Shot</th>\n      <th>Error</th>\n    </tr>\n  </thead>\n  <tbody>\n    <tr>\n      <th>0</th>\n      <td>180102-021-0101</td>\n      <td>2018-01-02</td>\n      <td>21</td>\n      <td>101</td>\n      <td>0.120</td>\n      <td>0.220</td>\n      <td>0.368</td>\n      <td>0.2</td>\n      <td>0.3</td>\n      <td>19.993</td>\n      <td>15.598</td>\n      <td>680</td>\n      <td>0.041</td>\n      <td>3</td>\n      <td>0</td>\n    </tr>\n    <tr>\n      <th>1</th>\n      <td>180102-021-0101</td>\n      <td>2018-01-02</td>\n      <td>21</td>\n      <td>101</td>\n      <td>0.106</td>\n      <td>0.216</td>\n      <td>0.357</td>\n      <td>0.2</td>\n      <td>0.3</td>\n      <td>18.778</td>\n      <td>14.997</td>\n      <td>678</td>\n      <td>0.043</td>\n      <td>3</td>\n      <td>0</td>\n    </tr>\n    <tr>\n      <th>2</th>\n      <td>180102-021-0101</td>\n      <td>2018-01-02</td>\n      <td>21</td>\n      <td>101</td>\n      <td>0.085</td>\n      <td>0.222</td>\n      <td>0.371</td>\n      <td>0.2</td>\n      <td>0.3</td>\n      <td>20.330</td>\n      <td>15.835</td>\n      <td>680</td>\n      <td>0.043</td>\n      <td>3</td>\n      <td>0</td>\n    </tr>\n    <tr>\n      <th>3</th>\n      <td>180102-021-0101</td>\n      <td>2018-01-02</td>\n      <td>21</td>\n      <td>101</td>\n      <td>0.080</td>\n      <td>0.208</td>\n      <td>0.349</td>\n      <td>0.2</td>\n      <td>0.3</td>\n      <td>18.382</td>\n      <td>14.841</td>\n      <td>324</td>\n      <td>0.000</td>\n      <td>3</td>\n      <td>0</td>\n    </tr>\n    <tr>\n      <th>4</th>\n      <td>180102-021-0101</td>\n      <td>2018-01-02</td>\n      <td>21</td>\n      <td>101</td>\n      <td>0.106</td>\n      <td>0.214</td>\n      <td>0.360</td>\n      <td>0.2</td>\n      <td>0.3</td>\n      <td>18.961</td>\n      <td>15.028</td>\n      <td>677</td>\n      <td>0.043</td>\n      <td>3</td>\n      <td>0</td>\n    </tr>\n    <tr>\n      <th>...</th>\n      <td>...</td>\n      <td>...</td>\n      <td>...</td>\n      <td>...</td>\n      <td>...</td>\n      <td>...</td>\n      <td>...</td>\n      <td>...</td>\n      <td>...</td>\n      <td>...</td>\n      <td>...</td>\n      <td>...</td>\n      <td>...</td>\n      <td>...</td>\n      <td>...</td>\n    </tr>\n    <tr>\n      <th>8626</th>\n      <td>180606-022-0101</td>\n      <td>2018-06-06</td>\n      <td>22</td>\n      <td>101</td>\n      <td>0.192</td>\n      <td>0.292</td>\n      <td>0.408</td>\n      <td>0.2</td>\n      <td>0.3</td>\n      <td>40.344</td>\n      <td>30.042</td>\n      <td>341</td>\n      <td>0.000</td>\n      <td>16</td>\n      <td>0</td>\n    </tr>\n    <tr>\n      <th>8627</th>\n      <td>180606-022-0101</td>\n      <td>2018-06-06</td>\n      <td>22</td>\n      <td>101</td>\n      <td>0.188</td>\n      <td>0.294</td>\n      <td>0.416</td>\n      <td>0.2</td>\n      <td>0.3</td>\n      <td>38.394</td>\n      <td>31.105</td>\n      <td>341</td>\n      <td>0.000</td>\n      <td>16</td>\n      <td>0</td>\n    </tr>\n    <tr>\n      <th>8628</th>\n      <td>180606-022-0101</td>\n      <td>2018-06-06</td>\n      <td>22</td>\n      <td>101</td>\n      <td>0.194</td>\n      <td>0.294</td>\n      <td>0.411</td>\n      <td>0.2</td>\n      <td>0.3</td>\n      <td>35.061</td>\n      <td>31.599</td>\n      <td>341</td>\n      <td>0.000</td>\n      <td>16</td>\n      <td>0</td>\n    </tr>\n    <tr>\n      <th>8629</th>\n      <td>180606-022-0101</td>\n      <td>2018-06-06</td>\n      <td>22</td>\n      <td>101</td>\n      <td>0.185</td>\n      <td>0.296</td>\n      <td>0.416</td>\n      <td>0.2</td>\n      <td>0.3</td>\n      <td>31.495</td>\n      <td>32.699</td>\n      <td>340</td>\n      <td>0.000</td>\n      <td>16</td>\n      <td>0</td>\n    </tr>\n    <tr>\n      <th>8630</th>\n      <td>180606-022-0101</td>\n      <td>2018-06-06</td>\n      <td>22</td>\n      <td>101</td>\n      <td>0.184</td>\n      <td>0.290</td>\n      <td>0.403</td>\n      <td>0.2</td>\n      <td>0.3</td>\n      <td>41.864</td>\n      <td>29.721</td>\n      <td>341</td>\n      <td>0.000</td>\n      <td>16</td>\n      <td>0</td>\n    </tr>\n  </tbody>\n</table>\n<p>3252 rows × 15 columns</p>\n</div>"
     },
     "execution_count": 15,
     "metadata": {},
     "output_type": "execute_result"
    }
   ],
   "source": [
    "df_die_num_101"
   ],
   "metadata": {
    "collapsed": false
   }
  },
  {
   "cell_type": "code",
   "execution_count": 16,
   "outputs": [
    {
     "data": {
      "text/plain": "                  LOT        Date  Equipment  Die_Number  \\\n50    180102-021-0102  2018-01-02         21         102   \n51    180102-021-0102  2018-01-02         21         102   \n52    180102-021-0102  2018-01-02         21         102   \n53    180102-021-0102  2018-01-02         21         102   \n54    180102-021-0102  2018-01-02         21         102   \n...               ...         ...        ...         ...   \n8533  180605-022-0102  2018-06-05         22         102   \n8534  180605-022-0102  2018-06-05         22         102   \n8535  180605-022-0102  2018-06-05         22         102   \n8536  180605-022-0102  2018-06-05         22         102   \n8537  180605-022-0102  2018-06-05         22         102   \n\n      Injection_Velocity_1  Injection_Velocity_2  Injection_Velocity_3  \\\n50                   0.093                 0.226                 0.379   \n51                   0.094                 0.230                 0.376   \n52                   0.096                 0.230                 0.379   \n53                   0.096                 0.228                 0.379   \n54                   0.099                 0.228                 0.376   \n...                    ...                   ...                   ...   \n8533                 0.188                 0.288                 0.408   \n8534                 0.190                 0.294                 0.413   \n8535                 0.192                 0.292                 0.411   \n8536                 0.185                 0.294                 0.413   \n8537                 0.190                 0.294                 0.403   \n\n      Spray_Time_1  Spray_Time_2  Humidity  Temperature  Casting_Pressure  \\\n50             0.2           0.3    20.442       17.401               680   \n51             0.2           0.3    20.446       17.301               680   \n52             0.2           0.3    20.428       17.201               679   \n53             0.2           0.3    20.402       17.207               680   \n54             0.2           0.3    20.572       17.202               680   \n...            ...           ...       ...          ...               ...   \n8533           0.2           0.3    43.850       28.125               339   \n8534           0.2           0.3    43.772       28.576               340   \n8535           0.2           0.3    41.162       28.602               340   \n8536           0.2           0.3    40.942       28.710               339   \n8537           0.2           0.3    43.788       28.199               339   \n\n      Pressure_Increase_Time  Short_Shot  Error  \n50                     0.043           3      0  \n51                     0.041           3      0  \n52                     0.041           3      0  \n53                     0.043           3      0  \n54                     0.041           3      0  \n...                      ...         ...    ...  \n8533                   0.000          12      0  \n8534                   0.000          12      0  \n8535                   0.000          12      0  \n8536                   0.000          12      0  \n8537                   0.000          12      0  \n\n[2416 rows x 15 columns]",
      "text/html": "<div>\n<style scoped>\n    .dataframe tbody tr th:only-of-type {\n        vertical-align: middle;\n    }\n\n    .dataframe tbody tr th {\n        vertical-align: top;\n    }\n\n    .dataframe thead th {\n        text-align: right;\n    }\n</style>\n<table border=\"1\" class=\"dataframe\">\n  <thead>\n    <tr style=\"text-align: right;\">\n      <th></th>\n      <th>LOT</th>\n      <th>Date</th>\n      <th>Equipment</th>\n      <th>Die_Number</th>\n      <th>Injection_Velocity_1</th>\n      <th>Injection_Velocity_2</th>\n      <th>Injection_Velocity_3</th>\n      <th>Spray_Time_1</th>\n      <th>Spray_Time_2</th>\n      <th>Humidity</th>\n      <th>Temperature</th>\n      <th>Casting_Pressure</th>\n      <th>Pressure_Increase_Time</th>\n      <th>Short_Shot</th>\n      <th>Error</th>\n    </tr>\n  </thead>\n  <tbody>\n    <tr>\n      <th>50</th>\n      <td>180102-021-0102</td>\n      <td>2018-01-02</td>\n      <td>21</td>\n      <td>102</td>\n      <td>0.093</td>\n      <td>0.226</td>\n      <td>0.379</td>\n      <td>0.2</td>\n      <td>0.3</td>\n      <td>20.442</td>\n      <td>17.401</td>\n      <td>680</td>\n      <td>0.043</td>\n      <td>3</td>\n      <td>0</td>\n    </tr>\n    <tr>\n      <th>51</th>\n      <td>180102-021-0102</td>\n      <td>2018-01-02</td>\n      <td>21</td>\n      <td>102</td>\n      <td>0.094</td>\n      <td>0.230</td>\n      <td>0.376</td>\n      <td>0.2</td>\n      <td>0.3</td>\n      <td>20.446</td>\n      <td>17.301</td>\n      <td>680</td>\n      <td>0.041</td>\n      <td>3</td>\n      <td>0</td>\n    </tr>\n    <tr>\n      <th>52</th>\n      <td>180102-021-0102</td>\n      <td>2018-01-02</td>\n      <td>21</td>\n      <td>102</td>\n      <td>0.096</td>\n      <td>0.230</td>\n      <td>0.379</td>\n      <td>0.2</td>\n      <td>0.3</td>\n      <td>20.428</td>\n      <td>17.201</td>\n      <td>679</td>\n      <td>0.041</td>\n      <td>3</td>\n      <td>0</td>\n    </tr>\n    <tr>\n      <th>53</th>\n      <td>180102-021-0102</td>\n      <td>2018-01-02</td>\n      <td>21</td>\n      <td>102</td>\n      <td>0.096</td>\n      <td>0.228</td>\n      <td>0.379</td>\n      <td>0.2</td>\n      <td>0.3</td>\n      <td>20.402</td>\n      <td>17.207</td>\n      <td>680</td>\n      <td>0.043</td>\n      <td>3</td>\n      <td>0</td>\n    </tr>\n    <tr>\n      <th>54</th>\n      <td>180102-021-0102</td>\n      <td>2018-01-02</td>\n      <td>21</td>\n      <td>102</td>\n      <td>0.099</td>\n      <td>0.228</td>\n      <td>0.376</td>\n      <td>0.2</td>\n      <td>0.3</td>\n      <td>20.572</td>\n      <td>17.202</td>\n      <td>680</td>\n      <td>0.041</td>\n      <td>3</td>\n      <td>0</td>\n    </tr>\n    <tr>\n      <th>...</th>\n      <td>...</td>\n      <td>...</td>\n      <td>...</td>\n      <td>...</td>\n      <td>...</td>\n      <td>...</td>\n      <td>...</td>\n      <td>...</td>\n      <td>...</td>\n      <td>...</td>\n      <td>...</td>\n      <td>...</td>\n      <td>...</td>\n      <td>...</td>\n      <td>...</td>\n    </tr>\n    <tr>\n      <th>8533</th>\n      <td>180605-022-0102</td>\n      <td>2018-06-05</td>\n      <td>22</td>\n      <td>102</td>\n      <td>0.188</td>\n      <td>0.288</td>\n      <td>0.408</td>\n      <td>0.2</td>\n      <td>0.3</td>\n      <td>43.850</td>\n      <td>28.125</td>\n      <td>339</td>\n      <td>0.000</td>\n      <td>12</td>\n      <td>0</td>\n    </tr>\n    <tr>\n      <th>8534</th>\n      <td>180605-022-0102</td>\n      <td>2018-06-05</td>\n      <td>22</td>\n      <td>102</td>\n      <td>0.190</td>\n      <td>0.294</td>\n      <td>0.413</td>\n      <td>0.2</td>\n      <td>0.3</td>\n      <td>43.772</td>\n      <td>28.576</td>\n      <td>340</td>\n      <td>0.000</td>\n      <td>12</td>\n      <td>0</td>\n    </tr>\n    <tr>\n      <th>8535</th>\n      <td>180605-022-0102</td>\n      <td>2018-06-05</td>\n      <td>22</td>\n      <td>102</td>\n      <td>0.192</td>\n      <td>0.292</td>\n      <td>0.411</td>\n      <td>0.2</td>\n      <td>0.3</td>\n      <td>41.162</td>\n      <td>28.602</td>\n      <td>340</td>\n      <td>0.000</td>\n      <td>12</td>\n      <td>0</td>\n    </tr>\n    <tr>\n      <th>8536</th>\n      <td>180605-022-0102</td>\n      <td>2018-06-05</td>\n      <td>22</td>\n      <td>102</td>\n      <td>0.185</td>\n      <td>0.294</td>\n      <td>0.413</td>\n      <td>0.2</td>\n      <td>0.3</td>\n      <td>40.942</td>\n      <td>28.710</td>\n      <td>339</td>\n      <td>0.000</td>\n      <td>12</td>\n      <td>0</td>\n    </tr>\n    <tr>\n      <th>8537</th>\n      <td>180605-022-0102</td>\n      <td>2018-06-05</td>\n      <td>22</td>\n      <td>102</td>\n      <td>0.190</td>\n      <td>0.294</td>\n      <td>0.403</td>\n      <td>0.2</td>\n      <td>0.3</td>\n      <td>43.788</td>\n      <td>28.199</td>\n      <td>339</td>\n      <td>0.000</td>\n      <td>12</td>\n      <td>0</td>\n    </tr>\n  </tbody>\n</table>\n<p>2416 rows × 15 columns</p>\n</div>"
     },
     "execution_count": 16,
     "metadata": {},
     "output_type": "execute_result"
    }
   ],
   "source": [
    "df_die_num_102"
   ],
   "metadata": {
    "collapsed": false
   }
  },
  {
   "cell_type": "code",
   "execution_count": 17,
   "outputs": [
    {
     "data": {
      "text/plain": "                  LOT        Date  Equipment  Die_Number  \\\n100   180102-021-0103  2018-01-02         21         103   \n101   180102-021-0103  2018-01-02         21         103   \n102   180102-021-0103  2018-01-02         21         103   \n103   180102-021-0103  2018-01-02         21         103   \n104   180102-021-0103  2018-01-02         21         103   \n...               ...         ...        ...         ...   \n8583  180605-022-0103  2018-06-05         22         103   \n8584  180605-022-0103  2018-06-05         22         103   \n8585  180605-022-0103  2018-06-05         22         103   \n8586  180605-022-0103  2018-06-05         22         103   \n8587  180605-022-0103  2018-06-05         22         103   \n\n      Injection_Velocity_1  Injection_Velocity_2  Injection_Velocity_3  \\\n100                  0.090                 0.234                 0.371   \n101                  0.093                 0.228                 0.376   \n102                  0.094                 0.232                 0.373   \n103                  0.094                 0.230                 0.379   \n104                  0.094                 0.232                 0.376   \n...                    ...                   ...                   ...   \n8583                 0.182                 0.292                 0.403   \n8584                 0.190                 0.292                 0.416   \n8585                 0.190                 0.296                 0.408   \n8586                 0.182                 0.290                 0.395   \n8587                 0.184                 0.292                 0.405   \n\n      Spray_Time_1  Spray_Time_2  Humidity  Temperature  Casting_Pressure  \\\n100            0.2           0.3    21.326       17.307               679   \n101            0.2           0.3    21.326       17.307               679   \n102            0.2           0.3    20.796       17.401               678   \n103            0.2           0.3    20.905       17.291               679   \n104            0.2           0.3    20.902       17.298               680   \n...            ...           ...       ...          ...               ...   \n8583           0.2           0.3    57.063       26.701               340   \n8584           0.2           0.3    49.402       27.604               339   \n8585           0.2           0.3    49.449       27.697               339   \n8586           0.2           0.3    49.411       27.696               340   \n8587           0.2           0.3    49.685       27.586               339   \n\n      Pressure_Increase_Time  Short_Shot  Error  \n100                    0.041           5      0  \n101                    0.041           5      0  \n102                    0.043           5      0  \n103                    0.041           5      0  \n104                    0.045           5      0  \n...                      ...         ...    ...  \n8583                   0.000          68      0  \n8584                   0.000          68      0  \n8585                   0.000          68      0  \n8586                   0.000          68      0  \n8587                   0.000          68      0  \n\n[1850 rows x 15 columns]",
      "text/html": "<div>\n<style scoped>\n    .dataframe tbody tr th:only-of-type {\n        vertical-align: middle;\n    }\n\n    .dataframe tbody tr th {\n        vertical-align: top;\n    }\n\n    .dataframe thead th {\n        text-align: right;\n    }\n</style>\n<table border=\"1\" class=\"dataframe\">\n  <thead>\n    <tr style=\"text-align: right;\">\n      <th></th>\n      <th>LOT</th>\n      <th>Date</th>\n      <th>Equipment</th>\n      <th>Die_Number</th>\n      <th>Injection_Velocity_1</th>\n      <th>Injection_Velocity_2</th>\n      <th>Injection_Velocity_3</th>\n      <th>Spray_Time_1</th>\n      <th>Spray_Time_2</th>\n      <th>Humidity</th>\n      <th>Temperature</th>\n      <th>Casting_Pressure</th>\n      <th>Pressure_Increase_Time</th>\n      <th>Short_Shot</th>\n      <th>Error</th>\n    </tr>\n  </thead>\n  <tbody>\n    <tr>\n      <th>100</th>\n      <td>180102-021-0103</td>\n      <td>2018-01-02</td>\n      <td>21</td>\n      <td>103</td>\n      <td>0.090</td>\n      <td>0.234</td>\n      <td>0.371</td>\n      <td>0.2</td>\n      <td>0.3</td>\n      <td>21.326</td>\n      <td>17.307</td>\n      <td>679</td>\n      <td>0.041</td>\n      <td>5</td>\n      <td>0</td>\n    </tr>\n    <tr>\n      <th>101</th>\n      <td>180102-021-0103</td>\n      <td>2018-01-02</td>\n      <td>21</td>\n      <td>103</td>\n      <td>0.093</td>\n      <td>0.228</td>\n      <td>0.376</td>\n      <td>0.2</td>\n      <td>0.3</td>\n      <td>21.326</td>\n      <td>17.307</td>\n      <td>679</td>\n      <td>0.041</td>\n      <td>5</td>\n      <td>0</td>\n    </tr>\n    <tr>\n      <th>102</th>\n      <td>180102-021-0103</td>\n      <td>2018-01-02</td>\n      <td>21</td>\n      <td>103</td>\n      <td>0.094</td>\n      <td>0.232</td>\n      <td>0.373</td>\n      <td>0.2</td>\n      <td>0.3</td>\n      <td>20.796</td>\n      <td>17.401</td>\n      <td>678</td>\n      <td>0.043</td>\n      <td>5</td>\n      <td>0</td>\n    </tr>\n    <tr>\n      <th>103</th>\n      <td>180102-021-0103</td>\n      <td>2018-01-02</td>\n      <td>21</td>\n      <td>103</td>\n      <td>0.094</td>\n      <td>0.230</td>\n      <td>0.379</td>\n      <td>0.2</td>\n      <td>0.3</td>\n      <td>20.905</td>\n      <td>17.291</td>\n      <td>679</td>\n      <td>0.041</td>\n      <td>5</td>\n      <td>0</td>\n    </tr>\n    <tr>\n      <th>104</th>\n      <td>180102-021-0103</td>\n      <td>2018-01-02</td>\n      <td>21</td>\n      <td>103</td>\n      <td>0.094</td>\n      <td>0.232</td>\n      <td>0.376</td>\n      <td>0.2</td>\n      <td>0.3</td>\n      <td>20.902</td>\n      <td>17.298</td>\n      <td>680</td>\n      <td>0.045</td>\n      <td>5</td>\n      <td>0</td>\n    </tr>\n    <tr>\n      <th>...</th>\n      <td>...</td>\n      <td>...</td>\n      <td>...</td>\n      <td>...</td>\n      <td>...</td>\n      <td>...</td>\n      <td>...</td>\n      <td>...</td>\n      <td>...</td>\n      <td>...</td>\n      <td>...</td>\n      <td>...</td>\n      <td>...</td>\n      <td>...</td>\n      <td>...</td>\n    </tr>\n    <tr>\n      <th>8583</th>\n      <td>180605-022-0103</td>\n      <td>2018-06-05</td>\n      <td>22</td>\n      <td>103</td>\n      <td>0.182</td>\n      <td>0.292</td>\n      <td>0.403</td>\n      <td>0.2</td>\n      <td>0.3</td>\n      <td>57.063</td>\n      <td>26.701</td>\n      <td>340</td>\n      <td>0.000</td>\n      <td>68</td>\n      <td>0</td>\n    </tr>\n    <tr>\n      <th>8584</th>\n      <td>180605-022-0103</td>\n      <td>2018-06-05</td>\n      <td>22</td>\n      <td>103</td>\n      <td>0.190</td>\n      <td>0.292</td>\n      <td>0.416</td>\n      <td>0.2</td>\n      <td>0.3</td>\n      <td>49.402</td>\n      <td>27.604</td>\n      <td>339</td>\n      <td>0.000</td>\n      <td>68</td>\n      <td>0</td>\n    </tr>\n    <tr>\n      <th>8585</th>\n      <td>180605-022-0103</td>\n      <td>2018-06-05</td>\n      <td>22</td>\n      <td>103</td>\n      <td>0.190</td>\n      <td>0.296</td>\n      <td>0.408</td>\n      <td>0.2</td>\n      <td>0.3</td>\n      <td>49.449</td>\n      <td>27.697</td>\n      <td>339</td>\n      <td>0.000</td>\n      <td>68</td>\n      <td>0</td>\n    </tr>\n    <tr>\n      <th>8586</th>\n      <td>180605-022-0103</td>\n      <td>2018-06-05</td>\n      <td>22</td>\n      <td>103</td>\n      <td>0.182</td>\n      <td>0.290</td>\n      <td>0.395</td>\n      <td>0.2</td>\n      <td>0.3</td>\n      <td>49.411</td>\n      <td>27.696</td>\n      <td>340</td>\n      <td>0.000</td>\n      <td>68</td>\n      <td>0</td>\n    </tr>\n    <tr>\n      <th>8587</th>\n      <td>180605-022-0103</td>\n      <td>2018-06-05</td>\n      <td>22</td>\n      <td>103</td>\n      <td>0.184</td>\n      <td>0.292</td>\n      <td>0.405</td>\n      <td>0.2</td>\n      <td>0.3</td>\n      <td>49.685</td>\n      <td>27.586</td>\n      <td>339</td>\n      <td>0.000</td>\n      <td>68</td>\n      <td>0</td>\n    </tr>\n  </tbody>\n</table>\n<p>1850 rows × 15 columns</p>\n</div>"
     },
     "execution_count": 17,
     "metadata": {},
     "output_type": "execute_result"
    }
   ],
   "source": [
    "df_die_num_103"
   ],
   "metadata": {
    "collapsed": false
   }
  },
  {
   "cell_type": "code",
   "execution_count": 18,
   "outputs": [
    {
     "data": {
      "text/plain": "                  LOT        Date  Equipment  Die_Number  \\\n150   180102-021-0104  2018-01-02         21         104   \n151   180102-021-0104  2018-01-02         21         104   \n152   180102-021-0104  2018-01-02         21         104   \n153   180102-021-0104  2018-01-02         21         104   \n154   180102-021-0104  2018-01-02         21         104   \n...               ...         ...        ...         ...   \n7033  180503-022-0104  2018-05-03         22         104   \n7034  180503-022-0104  2018-05-03         22         104   \n7035  180503-022-0104  2018-05-03         22         104   \n7036  180503-022-0104  2018-05-03         22         104   \n7037  180503-022-0104  2018-05-03         22         104   \n\n      Injection_Velocity_1  Injection_Velocity_2  Injection_Velocity_3  \\\n150                  0.092                 0.229                 0.373   \n151                  0.092                 0.226                 0.371   \n152                  0.092                 0.229                 0.373   \n153                  0.094                 0.228                 0.373   \n154                  0.092                 0.224                 0.370   \n...                    ...                   ...                   ...   \n7033                 0.190                 0.226                 0.302   \n7034                 0.190                 0.226                 0.302   \n7035                 0.190                 0.224                 0.304   \n7036                 0.188                 0.224                 0.310   \n7037                 0.181                 0.224                 0.300   \n\n      Spray_Time_1  Spray_Time_2  Humidity  Temperature  Casting_Pressure  \\\n150            0.2           0.3    20.993       19.150               680   \n151            0.2           0.3    25.333       16.270               680   \n152            0.2           0.3    25.744       16.029               680   \n153            0.2           0.3    21.046       19.372               679   \n154            0.2           0.3    24.807       16.429               680   \n...            ...           ...       ...          ...               ...   \n7033           0.2           0.3    25.078       21.953               707   \n7034           0.2           0.3    25.176       21.907               707   \n7035           0.2           0.3    25.176       21.907               707   \n7036           0.2           0.3    25.176       21.907               706   \n7037           0.2           0.3    25.176       21.907               707   \n\n      Pressure_Increase_Time  Short_Shot  Error  \n150                    0.041           8      0  \n151                    0.041           8      0  \n152                    0.041           8      0  \n153                    0.044           8      0  \n154                    0.041           8      0  \n...                      ...         ...    ...  \n7033                   0.038           0      1  \n7034                   0.038           0      1  \n7035                   0.038           0      1  \n7036                   0.036           0      1  \n7037                   0.038           0      1  \n\n[513 rows x 15 columns]",
      "text/html": "<div>\n<style scoped>\n    .dataframe tbody tr th:only-of-type {\n        vertical-align: middle;\n    }\n\n    .dataframe tbody tr th {\n        vertical-align: top;\n    }\n\n    .dataframe thead th {\n        text-align: right;\n    }\n</style>\n<table border=\"1\" class=\"dataframe\">\n  <thead>\n    <tr style=\"text-align: right;\">\n      <th></th>\n      <th>LOT</th>\n      <th>Date</th>\n      <th>Equipment</th>\n      <th>Die_Number</th>\n      <th>Injection_Velocity_1</th>\n      <th>Injection_Velocity_2</th>\n      <th>Injection_Velocity_3</th>\n      <th>Spray_Time_1</th>\n      <th>Spray_Time_2</th>\n      <th>Humidity</th>\n      <th>Temperature</th>\n      <th>Casting_Pressure</th>\n      <th>Pressure_Increase_Time</th>\n      <th>Short_Shot</th>\n      <th>Error</th>\n    </tr>\n  </thead>\n  <tbody>\n    <tr>\n      <th>150</th>\n      <td>180102-021-0104</td>\n      <td>2018-01-02</td>\n      <td>21</td>\n      <td>104</td>\n      <td>0.092</td>\n      <td>0.229</td>\n      <td>0.373</td>\n      <td>0.2</td>\n      <td>0.3</td>\n      <td>20.993</td>\n      <td>19.150</td>\n      <td>680</td>\n      <td>0.041</td>\n      <td>8</td>\n      <td>0</td>\n    </tr>\n    <tr>\n      <th>151</th>\n      <td>180102-021-0104</td>\n      <td>2018-01-02</td>\n      <td>21</td>\n      <td>104</td>\n      <td>0.092</td>\n      <td>0.226</td>\n      <td>0.371</td>\n      <td>0.2</td>\n      <td>0.3</td>\n      <td>25.333</td>\n      <td>16.270</td>\n      <td>680</td>\n      <td>0.041</td>\n      <td>8</td>\n      <td>0</td>\n    </tr>\n    <tr>\n      <th>152</th>\n      <td>180102-021-0104</td>\n      <td>2018-01-02</td>\n      <td>21</td>\n      <td>104</td>\n      <td>0.092</td>\n      <td>0.229</td>\n      <td>0.373</td>\n      <td>0.2</td>\n      <td>0.3</td>\n      <td>25.744</td>\n      <td>16.029</td>\n      <td>680</td>\n      <td>0.041</td>\n      <td>8</td>\n      <td>0</td>\n    </tr>\n    <tr>\n      <th>153</th>\n      <td>180102-021-0104</td>\n      <td>2018-01-02</td>\n      <td>21</td>\n      <td>104</td>\n      <td>0.094</td>\n      <td>0.228</td>\n      <td>0.373</td>\n      <td>0.2</td>\n      <td>0.3</td>\n      <td>21.046</td>\n      <td>19.372</td>\n      <td>679</td>\n      <td>0.044</td>\n      <td>8</td>\n      <td>0</td>\n    </tr>\n    <tr>\n      <th>154</th>\n      <td>180102-021-0104</td>\n      <td>2018-01-02</td>\n      <td>21</td>\n      <td>104</td>\n      <td>0.092</td>\n      <td>0.224</td>\n      <td>0.370</td>\n      <td>0.2</td>\n      <td>0.3</td>\n      <td>24.807</td>\n      <td>16.429</td>\n      <td>680</td>\n      <td>0.041</td>\n      <td>8</td>\n      <td>0</td>\n    </tr>\n    <tr>\n      <th>...</th>\n      <td>...</td>\n      <td>...</td>\n      <td>...</td>\n      <td>...</td>\n      <td>...</td>\n      <td>...</td>\n      <td>...</td>\n      <td>...</td>\n      <td>...</td>\n      <td>...</td>\n      <td>...</td>\n      <td>...</td>\n      <td>...</td>\n      <td>...</td>\n      <td>...</td>\n    </tr>\n    <tr>\n      <th>7033</th>\n      <td>180503-022-0104</td>\n      <td>2018-05-03</td>\n      <td>22</td>\n      <td>104</td>\n      <td>0.190</td>\n      <td>0.226</td>\n      <td>0.302</td>\n      <td>0.2</td>\n      <td>0.3</td>\n      <td>25.078</td>\n      <td>21.953</td>\n      <td>707</td>\n      <td>0.038</td>\n      <td>0</td>\n      <td>1</td>\n    </tr>\n    <tr>\n      <th>7034</th>\n      <td>180503-022-0104</td>\n      <td>2018-05-03</td>\n      <td>22</td>\n      <td>104</td>\n      <td>0.190</td>\n      <td>0.226</td>\n      <td>0.302</td>\n      <td>0.2</td>\n      <td>0.3</td>\n      <td>25.176</td>\n      <td>21.907</td>\n      <td>707</td>\n      <td>0.038</td>\n      <td>0</td>\n      <td>1</td>\n    </tr>\n    <tr>\n      <th>7035</th>\n      <td>180503-022-0104</td>\n      <td>2018-05-03</td>\n      <td>22</td>\n      <td>104</td>\n      <td>0.190</td>\n      <td>0.224</td>\n      <td>0.304</td>\n      <td>0.2</td>\n      <td>0.3</td>\n      <td>25.176</td>\n      <td>21.907</td>\n      <td>707</td>\n      <td>0.038</td>\n      <td>0</td>\n      <td>1</td>\n    </tr>\n    <tr>\n      <th>7036</th>\n      <td>180503-022-0104</td>\n      <td>2018-05-03</td>\n      <td>22</td>\n      <td>104</td>\n      <td>0.188</td>\n      <td>0.224</td>\n      <td>0.310</td>\n      <td>0.2</td>\n      <td>0.3</td>\n      <td>25.176</td>\n      <td>21.907</td>\n      <td>706</td>\n      <td>0.036</td>\n      <td>0</td>\n      <td>1</td>\n    </tr>\n    <tr>\n      <th>7037</th>\n      <td>180503-022-0104</td>\n      <td>2018-05-03</td>\n      <td>22</td>\n      <td>104</td>\n      <td>0.181</td>\n      <td>0.224</td>\n      <td>0.300</td>\n      <td>0.2</td>\n      <td>0.3</td>\n      <td>25.176</td>\n      <td>21.907</td>\n      <td>707</td>\n      <td>0.038</td>\n      <td>0</td>\n      <td>1</td>\n    </tr>\n  </tbody>\n</table>\n<p>513 rows × 15 columns</p>\n</div>"
     },
     "execution_count": 18,
     "metadata": {},
     "output_type": "execute_result"
    }
   ],
   "source": [
    "df_die_num_104"
   ],
   "metadata": {
    "collapsed": false
   }
  },
  {
   "cell_type": "code",
   "execution_count": 19,
   "outputs": [
    {
     "data": {
      "text/plain": "                  LOT        Date  Equipment  Die_Number  \\\n200   180102-021-0105  2018-01-02         21         105   \n201   180102-021-0105  2018-01-02         21         105   \n202   180102-021-0105  2018-01-02         21         105   \n203   180102-021-0105  2018-01-02         21         105   \n204   180102-021-0105  2018-01-02         21         105   \n...               ...         ...        ...         ...   \n2108  180105-022-0105  2018-01-05         22         105   \n2109  180105-022-0105  2018-01-05         22         105   \n2110  180105-022-0105  2018-01-05         22         105   \n2111  180105-022-0105  2018-01-05         22         105   \n2112  180105-022-0105  2018-01-05         22         105   \n\n      Injection_Velocity_1  Injection_Velocity_2  Injection_Velocity_3  \\\n200                  0.094                 0.232                 0.376   \n201                  0.094                 0.232                 0.384   \n202                  0.094                 0.230                 0.373   \n203                  0.093                 0.232                 0.371   \n204                  0.094                 0.227                 0.373   \n...                    ...                   ...                   ...   \n2108                 0.085                 0.221                 0.365   \n2109                 0.090                 0.224                 0.368   \n2110                 0.091                 0.226                 0.371   \n2111                 0.094                 0.228                 0.387   \n2112                 0.092                 0.222                 0.373   \n\n      Spray_Time_1  Spray_Time_2  Humidity  Temperature  Casting_Pressure  \\\n200            0.2           0.3    33.072       13.102               677   \n201            0.2           0.3    32.237       13.256               677   \n202            0.2           0.3    32.202       13.295               676   \n203            0.2           0.3    33.471       12.959               676   \n204            0.2           0.3    33.877       12.812               676   \n...            ...           ...       ...          ...               ...   \n2108           0.2           0.3     8.014       18.607               678   \n2109           0.2           0.3     8.055       18.699               677   \n2110           0.2           0.3     8.086       18.699               678   \n2111           0.2           0.3     8.097       18.698               678   \n2112           0.2           0.3     8.054       18.699               679   \n\n      Pressure_Increase_Time  Short_Shot  Error  \n200                    0.041           1      0  \n201                    0.041           1      0  \n202                    0.044           1      0  \n203                    0.041           1      0  \n204                    0.042           1      0  \n...                      ...         ...    ...  \n2108                   0.041           0      0  \n2109                   0.041           0      0  \n2110                   0.041           0      0  \n2111                   0.043           0      0  \n2112                   0.043           0      0  \n\n[400 rows x 15 columns]",
      "text/html": "<div>\n<style scoped>\n    .dataframe tbody tr th:only-of-type {\n        vertical-align: middle;\n    }\n\n    .dataframe tbody tr th {\n        vertical-align: top;\n    }\n\n    .dataframe thead th {\n        text-align: right;\n    }\n</style>\n<table border=\"1\" class=\"dataframe\">\n  <thead>\n    <tr style=\"text-align: right;\">\n      <th></th>\n      <th>LOT</th>\n      <th>Date</th>\n      <th>Equipment</th>\n      <th>Die_Number</th>\n      <th>Injection_Velocity_1</th>\n      <th>Injection_Velocity_2</th>\n      <th>Injection_Velocity_3</th>\n      <th>Spray_Time_1</th>\n      <th>Spray_Time_2</th>\n      <th>Humidity</th>\n      <th>Temperature</th>\n      <th>Casting_Pressure</th>\n      <th>Pressure_Increase_Time</th>\n      <th>Short_Shot</th>\n      <th>Error</th>\n    </tr>\n  </thead>\n  <tbody>\n    <tr>\n      <th>200</th>\n      <td>180102-021-0105</td>\n      <td>2018-01-02</td>\n      <td>21</td>\n      <td>105</td>\n      <td>0.094</td>\n      <td>0.232</td>\n      <td>0.376</td>\n      <td>0.2</td>\n      <td>0.3</td>\n      <td>33.072</td>\n      <td>13.102</td>\n      <td>677</td>\n      <td>0.041</td>\n      <td>1</td>\n      <td>0</td>\n    </tr>\n    <tr>\n      <th>201</th>\n      <td>180102-021-0105</td>\n      <td>2018-01-02</td>\n      <td>21</td>\n      <td>105</td>\n      <td>0.094</td>\n      <td>0.232</td>\n      <td>0.384</td>\n      <td>0.2</td>\n      <td>0.3</td>\n      <td>32.237</td>\n      <td>13.256</td>\n      <td>677</td>\n      <td>0.041</td>\n      <td>1</td>\n      <td>0</td>\n    </tr>\n    <tr>\n      <th>202</th>\n      <td>180102-021-0105</td>\n      <td>2018-01-02</td>\n      <td>21</td>\n      <td>105</td>\n      <td>0.094</td>\n      <td>0.230</td>\n      <td>0.373</td>\n      <td>0.2</td>\n      <td>0.3</td>\n      <td>32.202</td>\n      <td>13.295</td>\n      <td>676</td>\n      <td>0.044</td>\n      <td>1</td>\n      <td>0</td>\n    </tr>\n    <tr>\n      <th>203</th>\n      <td>180102-021-0105</td>\n      <td>2018-01-02</td>\n      <td>21</td>\n      <td>105</td>\n      <td>0.093</td>\n      <td>0.232</td>\n      <td>0.371</td>\n      <td>0.2</td>\n      <td>0.3</td>\n      <td>33.471</td>\n      <td>12.959</td>\n      <td>676</td>\n      <td>0.041</td>\n      <td>1</td>\n      <td>0</td>\n    </tr>\n    <tr>\n      <th>204</th>\n      <td>180102-021-0105</td>\n      <td>2018-01-02</td>\n      <td>21</td>\n      <td>105</td>\n      <td>0.094</td>\n      <td>0.227</td>\n      <td>0.373</td>\n      <td>0.2</td>\n      <td>0.3</td>\n      <td>33.877</td>\n      <td>12.812</td>\n      <td>676</td>\n      <td>0.042</td>\n      <td>1</td>\n      <td>0</td>\n    </tr>\n    <tr>\n      <th>...</th>\n      <td>...</td>\n      <td>...</td>\n      <td>...</td>\n      <td>...</td>\n      <td>...</td>\n      <td>...</td>\n      <td>...</td>\n      <td>...</td>\n      <td>...</td>\n      <td>...</td>\n      <td>...</td>\n      <td>...</td>\n      <td>...</td>\n      <td>...</td>\n      <td>...</td>\n    </tr>\n    <tr>\n      <th>2108</th>\n      <td>180105-022-0105</td>\n      <td>2018-01-05</td>\n      <td>22</td>\n      <td>105</td>\n      <td>0.085</td>\n      <td>0.221</td>\n      <td>0.365</td>\n      <td>0.2</td>\n      <td>0.3</td>\n      <td>8.014</td>\n      <td>18.607</td>\n      <td>678</td>\n      <td>0.041</td>\n      <td>0</td>\n      <td>0</td>\n    </tr>\n    <tr>\n      <th>2109</th>\n      <td>180105-022-0105</td>\n      <td>2018-01-05</td>\n      <td>22</td>\n      <td>105</td>\n      <td>0.090</td>\n      <td>0.224</td>\n      <td>0.368</td>\n      <td>0.2</td>\n      <td>0.3</td>\n      <td>8.055</td>\n      <td>18.699</td>\n      <td>677</td>\n      <td>0.041</td>\n      <td>0</td>\n      <td>0</td>\n    </tr>\n    <tr>\n      <th>2110</th>\n      <td>180105-022-0105</td>\n      <td>2018-01-05</td>\n      <td>22</td>\n      <td>105</td>\n      <td>0.091</td>\n      <td>0.226</td>\n      <td>0.371</td>\n      <td>0.2</td>\n      <td>0.3</td>\n      <td>8.086</td>\n      <td>18.699</td>\n      <td>678</td>\n      <td>0.041</td>\n      <td>0</td>\n      <td>0</td>\n    </tr>\n    <tr>\n      <th>2111</th>\n      <td>180105-022-0105</td>\n      <td>2018-01-05</td>\n      <td>22</td>\n      <td>105</td>\n      <td>0.094</td>\n      <td>0.228</td>\n      <td>0.387</td>\n      <td>0.2</td>\n      <td>0.3</td>\n      <td>8.097</td>\n      <td>18.698</td>\n      <td>678</td>\n      <td>0.043</td>\n      <td>0</td>\n      <td>0</td>\n    </tr>\n    <tr>\n      <th>2112</th>\n      <td>180105-022-0105</td>\n      <td>2018-01-05</td>\n      <td>22</td>\n      <td>105</td>\n      <td>0.092</td>\n      <td>0.222</td>\n      <td>0.373</td>\n      <td>0.2</td>\n      <td>0.3</td>\n      <td>8.054</td>\n      <td>18.699</td>\n      <td>679</td>\n      <td>0.043</td>\n      <td>0</td>\n      <td>0</td>\n    </tr>\n  </tbody>\n</table>\n<p>400 rows × 15 columns</p>\n</div>"
     },
     "execution_count": 19,
     "metadata": {},
     "output_type": "execute_result"
    }
   ],
   "source": [
    "df_die_num_105"
   ],
   "metadata": {
    "collapsed": false
   }
  },
  {
   "cell_type": "code",
   "execution_count": 20,
   "outputs": [
    {
     "data": {
      "text/plain": "                  LOT        Date  Equipment  Die_Number  \\\n713   180103-021-0106  2018-01-03         21         106   \n714   180103-021-0106  2018-01-03         21         106   \n715   180103-021-0106  2018-01-03         21         106   \n716   180103-021-0106  2018-01-03         21         106   \n717   180103-021-0106  2018-01-03         21         106   \n...               ...         ...        ...         ...   \n2158  180105-022-0106  2018-01-05         22         106   \n2159  180105-022-0106  2018-01-05         22         106   \n2160  180105-022-0106  2018-01-05         22         106   \n2161  180105-022-0106  2018-01-05         22         106   \n2162  180105-022-0106  2018-01-05         22         106   \n\n      Injection_Velocity_1  Injection_Velocity_2  Injection_Velocity_3  \\\n713                  0.098                 0.232                 0.376   \n714                  0.096                 0.229                 0.373   \n715                  0.096                 0.228                 0.376   \n716                  0.096                 0.228                 0.376   \n717                  0.102                 0.228                 0.376   \n...                    ...                   ...                   ...   \n2158                 0.090                 0.232                 0.371   \n2159                 0.112                 0.220                 0.370   \n2160                 0.091                 0.232                 0.368   \n2161                 0.092                 0.234                 0.371   \n2162                 0.094                 0.226                 0.368   \n\n      Spray_Time_1  Spray_Time_2  Humidity  Temperature  Casting_Pressure  \\\n713            0.2           0.3     9.641       15.403               678   \n714            0.2           0.3     9.728       15.402               678   \n715            0.2           0.3     9.581       15.448               678   \n716            0.2           0.3     9.186       15.601               679   \n717            0.2           0.3     9.297       15.506               679   \n...            ...           ...       ...          ...               ...   \n2158           0.2           0.3     8.605       18.068               678   \n2159           0.2           0.3     9.478       17.893               678   \n2160           0.2           0.3    10.069       17.702               677   \n2161           0.2           0.3     9.987       17.705               679   \n2162           0.2           0.3     8.950       17.907               678   \n\n      Pressure_Increase_Time  Short_Shot  Error  \n713                    0.042           2      0  \n714                    0.041           2      0  \n715                    0.041           2      0  \n716                    0.041           2      0  \n717                    0.041           2      0  \n...                      ...         ...    ...  \n2158                   0.041           2      0  \n2159                   0.041           2      0  \n2160                   0.042           2      0  \n2161                   0.041           2      0  \n2162                   0.043           2      0  \n\n[200 rows x 15 columns]",
      "text/html": "<div>\n<style scoped>\n    .dataframe tbody tr th:only-of-type {\n        vertical-align: middle;\n    }\n\n    .dataframe tbody tr th {\n        vertical-align: top;\n    }\n\n    .dataframe thead th {\n        text-align: right;\n    }\n</style>\n<table border=\"1\" class=\"dataframe\">\n  <thead>\n    <tr style=\"text-align: right;\">\n      <th></th>\n      <th>LOT</th>\n      <th>Date</th>\n      <th>Equipment</th>\n      <th>Die_Number</th>\n      <th>Injection_Velocity_1</th>\n      <th>Injection_Velocity_2</th>\n      <th>Injection_Velocity_3</th>\n      <th>Spray_Time_1</th>\n      <th>Spray_Time_2</th>\n      <th>Humidity</th>\n      <th>Temperature</th>\n      <th>Casting_Pressure</th>\n      <th>Pressure_Increase_Time</th>\n      <th>Short_Shot</th>\n      <th>Error</th>\n    </tr>\n  </thead>\n  <tbody>\n    <tr>\n      <th>713</th>\n      <td>180103-021-0106</td>\n      <td>2018-01-03</td>\n      <td>21</td>\n      <td>106</td>\n      <td>0.098</td>\n      <td>0.232</td>\n      <td>0.376</td>\n      <td>0.2</td>\n      <td>0.3</td>\n      <td>9.641</td>\n      <td>15.403</td>\n      <td>678</td>\n      <td>0.042</td>\n      <td>2</td>\n      <td>0</td>\n    </tr>\n    <tr>\n      <th>714</th>\n      <td>180103-021-0106</td>\n      <td>2018-01-03</td>\n      <td>21</td>\n      <td>106</td>\n      <td>0.096</td>\n      <td>0.229</td>\n      <td>0.373</td>\n      <td>0.2</td>\n      <td>0.3</td>\n      <td>9.728</td>\n      <td>15.402</td>\n      <td>678</td>\n      <td>0.041</td>\n      <td>2</td>\n      <td>0</td>\n    </tr>\n    <tr>\n      <th>715</th>\n      <td>180103-021-0106</td>\n      <td>2018-01-03</td>\n      <td>21</td>\n      <td>106</td>\n      <td>0.096</td>\n      <td>0.228</td>\n      <td>0.376</td>\n      <td>0.2</td>\n      <td>0.3</td>\n      <td>9.581</td>\n      <td>15.448</td>\n      <td>678</td>\n      <td>0.041</td>\n      <td>2</td>\n      <td>0</td>\n    </tr>\n    <tr>\n      <th>716</th>\n      <td>180103-021-0106</td>\n      <td>2018-01-03</td>\n      <td>21</td>\n      <td>106</td>\n      <td>0.096</td>\n      <td>0.228</td>\n      <td>0.376</td>\n      <td>0.2</td>\n      <td>0.3</td>\n      <td>9.186</td>\n      <td>15.601</td>\n      <td>679</td>\n      <td>0.041</td>\n      <td>2</td>\n      <td>0</td>\n    </tr>\n    <tr>\n      <th>717</th>\n      <td>180103-021-0106</td>\n      <td>2018-01-03</td>\n      <td>21</td>\n      <td>106</td>\n      <td>0.102</td>\n      <td>0.228</td>\n      <td>0.376</td>\n      <td>0.2</td>\n      <td>0.3</td>\n      <td>9.297</td>\n      <td>15.506</td>\n      <td>679</td>\n      <td>0.041</td>\n      <td>2</td>\n      <td>0</td>\n    </tr>\n    <tr>\n      <th>...</th>\n      <td>...</td>\n      <td>...</td>\n      <td>...</td>\n      <td>...</td>\n      <td>...</td>\n      <td>...</td>\n      <td>...</td>\n      <td>...</td>\n      <td>...</td>\n      <td>...</td>\n      <td>...</td>\n      <td>...</td>\n      <td>...</td>\n      <td>...</td>\n      <td>...</td>\n    </tr>\n    <tr>\n      <th>2158</th>\n      <td>180105-022-0106</td>\n      <td>2018-01-05</td>\n      <td>22</td>\n      <td>106</td>\n      <td>0.090</td>\n      <td>0.232</td>\n      <td>0.371</td>\n      <td>0.2</td>\n      <td>0.3</td>\n      <td>8.605</td>\n      <td>18.068</td>\n      <td>678</td>\n      <td>0.041</td>\n      <td>2</td>\n      <td>0</td>\n    </tr>\n    <tr>\n      <th>2159</th>\n      <td>180105-022-0106</td>\n      <td>2018-01-05</td>\n      <td>22</td>\n      <td>106</td>\n      <td>0.112</td>\n      <td>0.220</td>\n      <td>0.370</td>\n      <td>0.2</td>\n      <td>0.3</td>\n      <td>9.478</td>\n      <td>17.893</td>\n      <td>678</td>\n      <td>0.041</td>\n      <td>2</td>\n      <td>0</td>\n    </tr>\n    <tr>\n      <th>2160</th>\n      <td>180105-022-0106</td>\n      <td>2018-01-05</td>\n      <td>22</td>\n      <td>106</td>\n      <td>0.091</td>\n      <td>0.232</td>\n      <td>0.368</td>\n      <td>0.2</td>\n      <td>0.3</td>\n      <td>10.069</td>\n      <td>17.702</td>\n      <td>677</td>\n      <td>0.042</td>\n      <td>2</td>\n      <td>0</td>\n    </tr>\n    <tr>\n      <th>2161</th>\n      <td>180105-022-0106</td>\n      <td>2018-01-05</td>\n      <td>22</td>\n      <td>106</td>\n      <td>0.092</td>\n      <td>0.234</td>\n      <td>0.371</td>\n      <td>0.2</td>\n      <td>0.3</td>\n      <td>9.987</td>\n      <td>17.705</td>\n      <td>679</td>\n      <td>0.041</td>\n      <td>2</td>\n      <td>0</td>\n    </tr>\n    <tr>\n      <th>2162</th>\n      <td>180105-022-0106</td>\n      <td>2018-01-05</td>\n      <td>22</td>\n      <td>106</td>\n      <td>0.094</td>\n      <td>0.226</td>\n      <td>0.368</td>\n      <td>0.2</td>\n      <td>0.3</td>\n      <td>8.950</td>\n      <td>17.907</td>\n      <td>678</td>\n      <td>0.043</td>\n      <td>2</td>\n      <td>0</td>\n    </tr>\n  </tbody>\n</table>\n<p>200 rows × 15 columns</p>\n</div>"
     },
     "execution_count": 20,
     "metadata": {},
     "output_type": "execute_result"
    }
   ],
   "source": [
    "df_die_num_106"
   ],
   "metadata": {
    "collapsed": false
   }
  },
  {
   "cell_type": "code",
   "execution_count": 22,
   "outputs": [],
   "source": [
    "from sklearn.tree import DecisionTreeClassifier\n",
    "from sklearn.model_selection import train_test_split"
   ],
   "metadata": {
    "collapsed": false
   }
  },
  {
   "cell_type": "code",
   "execution_count": 24,
   "outputs": [],
   "source": [
    "# X, Y 데이터를 추출할 columns 이름들 추출\n",
    "X_columns = df.columns[4:13]"
   ],
   "metadata": {
    "collapsed": false
   }
  },
  {
   "cell_type": "code",
   "execution_count": 30,
   "outputs": [
    {
     "data": {
      "text/plain": "Index(['Injection_Velocity_1', 'Injection_Velocity_2', 'Injection_Velocity_3',\n       'Spray_Time_1', 'Spray_Time_2', 'Humidity', 'Temperature',\n       'Casting_Pressure', 'Pressure_Increase_Time'],\n      dtype='object')"
     },
     "execution_count": 30,
     "metadata": {},
     "output_type": "execute_result"
    }
   ],
   "source": [
    "X_columns"
   ],
   "metadata": {
    "collapsed": false
   }
  },
  {
   "cell_type": "code",
   "execution_count": 25,
   "outputs": [],
   "source": [
    "# 데이터 셋 만들기\n",
    "for die_num in die_list.tolist():\n",
    "    globals()['X_{}'.format(die_num)] = globals()['df_die_num_{}'.format(die_num)].drop(columns = X_columns)\n",
    "    globals()['Y_Short_Shot_{}'.format(die_num)] = globals()['df_die_num_{}'.format(die_num)].drop(columns = ['Short_Shot'])\n",
    "    globals()['Y_Error_{}'.format(die_num)] = globals()['df_die_num_{}'.format(die_num)].drop(columns = ['Error'])"
   ],
   "metadata": {
    "collapsed": false
   }
  },
  {
   "cell_type": "code",
   "execution_count": 26,
   "outputs": [],
   "source": [
    "# 각 die 넘버에 해당하는 데이터셋 split\n",
    "for die_num in die_list.tolist():\n",
    "    tr_x, te_x, tr_y_Short, te_y_Short = \\\n",
    "        train_test_split(globals()['X_{}'.format(die_num)], globals()['Y_Short_Shot_{}'.format(die_num)], test_size = 0.3, random_state=1234)\n",
    "\n",
    "    tr_y_error, te_y_error = \\\n",
    "        train_test_split(globals()['Y_Error_{}'.format(die_num)], test_size=0.3, random_state=1234)\n",
    "\n",
    "    globals()['tr_x_{}'.format(die_num)] = tr_x\n",
    "    globals()['te_x_{}'.format(die_num)] = te_x\n",
    "    globals()['tr_y_Short_{}'.format(die_num)] = tr_y_Short\n",
    "    globals()['te_y_Short_{}'.format(die_num)] = te_y_Short\n",
    "\n",
    "    globals()['tr_y_Error_{}'.format(die_num)] = tr_y_error\n",
    "    globals()['te_y_Error_{}'.format(die_num)] = te_y_error"
   ],
   "metadata": {
    "collapsed": false
   }
  },
  {
   "cell_type": "code",
   "execution_count": 29,
   "outputs": [
    {
     "data": {
      "text/plain": "                  LOT        Date  Equipment  Die_Number  \\\n3836  180226-022-0101  2018-02-26         22         101   \n7297  180508-021-0101  2018-05-08         21         101   \n2398  180212-021-0101  2018-02-12         21         101   \n6302  180406-021-0101  2018-04-06         21         101   \n4859  180328-021-0101  2018-03-28         21         101   \n...               ...         ...        ...         ...   \n2614  180219-022-0101  2018-02-19         22         101   \n8304  180605-021-0101  2018-06-05         21         101   \n4168  180228-022-0101  2018-02-28         22         101   \n2673  180220-021-0101  2018-02-20         21         101   \n7642  180531-022-0101  2018-05-31         22         101   \n\n      Injection_Velocity_1  Injection_Velocity_2  Injection_Velocity_3  \\\n3836                 0.178                 0.276                 0.334   \n7297                 0.194                 0.222                 0.304   \n2398                 0.086                 0.214                 0.360   \n6302                 0.146                 0.262                 0.344   \n4859                 0.164                 0.334                 0.520   \n...                    ...                   ...                   ...   \n2614                 0.192                 0.284                 0.333   \n8304                 0.181                 0.290                 0.400   \n4168                 0.186                 0.278                 0.336   \n2673                 0.160                 0.268                 0.310   \n7642                 0.139                 0.226                 0.341   \n\n      Spray_Time_1  Spray_Time_2  Humidity  Temperature  Casting_Pressure  \\\n3836           0.2           0.3    17.526       12.084               678   \n7297           0.1           0.3    33.036       27.206               706   \n2398           0.1           0.2    16.413       12.599               678   \n6302           0.1           0.3    35.301       23.632               704   \n4859           0.2           0.3    35.372       19.598               706   \n...            ...           ...       ...          ...               ...   \n2614           0.1           0.2     8.096       18.003               680   \n8304           0.2           0.3    59.961       25.501               340   \n4168           0.2           0.3    31.547       13.099               678   \n2673           0.2           0.2    19.271       13.898               679   \n7642           0.3           0.3    34.115       27.647               704   \n\n      Pressure_Increase_Time  Error  \n3836                   0.039      0  \n7297                   0.038      0  \n2398                   0.043      1  \n6302                   0.038      1  \n4859                   0.037      0  \n...                      ...    ...  \n2614                   0.040      1  \n8304                   0.000      0  \n4168                   0.042      0  \n2673                   0.041      0  \n7642                   0.043      0  \n\n[2276 rows x 14 columns]",
      "text/html": "<div>\n<style scoped>\n    .dataframe tbody tr th:only-of-type {\n        vertical-align: middle;\n    }\n\n    .dataframe tbody tr th {\n        vertical-align: top;\n    }\n\n    .dataframe thead th {\n        text-align: right;\n    }\n</style>\n<table border=\"1\" class=\"dataframe\">\n  <thead>\n    <tr style=\"text-align: right;\">\n      <th></th>\n      <th>LOT</th>\n      <th>Date</th>\n      <th>Equipment</th>\n      <th>Die_Number</th>\n      <th>Injection_Velocity_1</th>\n      <th>Injection_Velocity_2</th>\n      <th>Injection_Velocity_3</th>\n      <th>Spray_Time_1</th>\n      <th>Spray_Time_2</th>\n      <th>Humidity</th>\n      <th>Temperature</th>\n      <th>Casting_Pressure</th>\n      <th>Pressure_Increase_Time</th>\n      <th>Error</th>\n    </tr>\n  </thead>\n  <tbody>\n    <tr>\n      <th>3836</th>\n      <td>180226-022-0101</td>\n      <td>2018-02-26</td>\n      <td>22</td>\n      <td>101</td>\n      <td>0.178</td>\n      <td>0.276</td>\n      <td>0.334</td>\n      <td>0.2</td>\n      <td>0.3</td>\n      <td>17.526</td>\n      <td>12.084</td>\n      <td>678</td>\n      <td>0.039</td>\n      <td>0</td>\n    </tr>\n    <tr>\n      <th>7297</th>\n      <td>180508-021-0101</td>\n      <td>2018-05-08</td>\n      <td>21</td>\n      <td>101</td>\n      <td>0.194</td>\n      <td>0.222</td>\n      <td>0.304</td>\n      <td>0.1</td>\n      <td>0.3</td>\n      <td>33.036</td>\n      <td>27.206</td>\n      <td>706</td>\n      <td>0.038</td>\n      <td>0</td>\n    </tr>\n    <tr>\n      <th>2398</th>\n      <td>180212-021-0101</td>\n      <td>2018-02-12</td>\n      <td>21</td>\n      <td>101</td>\n      <td>0.086</td>\n      <td>0.214</td>\n      <td>0.360</td>\n      <td>0.1</td>\n      <td>0.2</td>\n      <td>16.413</td>\n      <td>12.599</td>\n      <td>678</td>\n      <td>0.043</td>\n      <td>1</td>\n    </tr>\n    <tr>\n      <th>6302</th>\n      <td>180406-021-0101</td>\n      <td>2018-04-06</td>\n      <td>21</td>\n      <td>101</td>\n      <td>0.146</td>\n      <td>0.262</td>\n      <td>0.344</td>\n      <td>0.1</td>\n      <td>0.3</td>\n      <td>35.301</td>\n      <td>23.632</td>\n      <td>704</td>\n      <td>0.038</td>\n      <td>1</td>\n    </tr>\n    <tr>\n      <th>4859</th>\n      <td>180328-021-0101</td>\n      <td>2018-03-28</td>\n      <td>21</td>\n      <td>101</td>\n      <td>0.164</td>\n      <td>0.334</td>\n      <td>0.520</td>\n      <td>0.2</td>\n      <td>0.3</td>\n      <td>35.372</td>\n      <td>19.598</td>\n      <td>706</td>\n      <td>0.037</td>\n      <td>0</td>\n    </tr>\n    <tr>\n      <th>...</th>\n      <td>...</td>\n      <td>...</td>\n      <td>...</td>\n      <td>...</td>\n      <td>...</td>\n      <td>...</td>\n      <td>...</td>\n      <td>...</td>\n      <td>...</td>\n      <td>...</td>\n      <td>...</td>\n      <td>...</td>\n      <td>...</td>\n      <td>...</td>\n    </tr>\n    <tr>\n      <th>2614</th>\n      <td>180219-022-0101</td>\n      <td>2018-02-19</td>\n      <td>22</td>\n      <td>101</td>\n      <td>0.192</td>\n      <td>0.284</td>\n      <td>0.333</td>\n      <td>0.1</td>\n      <td>0.2</td>\n      <td>8.096</td>\n      <td>18.003</td>\n      <td>680</td>\n      <td>0.040</td>\n      <td>1</td>\n    </tr>\n    <tr>\n      <th>8304</th>\n      <td>180605-021-0101</td>\n      <td>2018-06-05</td>\n      <td>21</td>\n      <td>101</td>\n      <td>0.181</td>\n      <td>0.290</td>\n      <td>0.400</td>\n      <td>0.2</td>\n      <td>0.3</td>\n      <td>59.961</td>\n      <td>25.501</td>\n      <td>340</td>\n      <td>0.000</td>\n      <td>0</td>\n    </tr>\n    <tr>\n      <th>4168</th>\n      <td>180228-022-0101</td>\n      <td>2018-02-28</td>\n      <td>22</td>\n      <td>101</td>\n      <td>0.186</td>\n      <td>0.278</td>\n      <td>0.336</td>\n      <td>0.2</td>\n      <td>0.3</td>\n      <td>31.547</td>\n      <td>13.099</td>\n      <td>678</td>\n      <td>0.042</td>\n      <td>0</td>\n    </tr>\n    <tr>\n      <th>2673</th>\n      <td>180220-021-0101</td>\n      <td>2018-02-20</td>\n      <td>21</td>\n      <td>101</td>\n      <td>0.160</td>\n      <td>0.268</td>\n      <td>0.310</td>\n      <td>0.2</td>\n      <td>0.2</td>\n      <td>19.271</td>\n      <td>13.898</td>\n      <td>679</td>\n      <td>0.041</td>\n      <td>0</td>\n    </tr>\n    <tr>\n      <th>7642</th>\n      <td>180531-022-0101</td>\n      <td>2018-05-31</td>\n      <td>22</td>\n      <td>101</td>\n      <td>0.139</td>\n      <td>0.226</td>\n      <td>0.341</td>\n      <td>0.3</td>\n      <td>0.3</td>\n      <td>34.115</td>\n      <td>27.647</td>\n      <td>704</td>\n      <td>0.043</td>\n      <td>0</td>\n    </tr>\n  </tbody>\n</table>\n<p>2276 rows × 14 columns</p>\n</div>"
     },
     "execution_count": 29,
     "metadata": {},
     "output_type": "execute_result"
    }
   ],
   "source": [
    "tr_y_Short_101"
   ],
   "metadata": {
    "collapsed": false
   }
  },
  {
   "cell_type": "code",
   "execution_count": 27,
   "outputs": [
    {
     "ename": "ValueError",
     "evalue": "could not convert string to float: '180226-022-0101'",
     "output_type": "error",
     "traceback": [
      "\u001B[0;31m---------------------------------------------------------------------------\u001B[0m",
      "\u001B[0;31mValueError\u001B[0m                                Traceback (most recent call last)",
      "\u001B[0;32m/var/folders/rz/24pnnlk152d2cvbbl1kmpd_80000gn/T/ipykernel_10414/3567250307.py\u001B[0m in \u001B[0;36m<module>\u001B[0;34m\u001B[0m\n\u001B[1;32m     13\u001B[0m \u001B[0;34m\u001B[0m\u001B[0m\n\u001B[1;32m     14\u001B[0m     \u001B[0;31m# 2. dt_c 로 학습 진행\u001B[0m\u001B[0;34m\u001B[0m\u001B[0;34m\u001B[0m\u001B[0;34m\u001B[0m\u001B[0m\n\u001B[0;32m---> 15\u001B[0;31m     \u001B[0mglobals\u001B[0m\u001B[0;34m(\u001B[0m\u001B[0;34m)\u001B[0m\u001B[0;34m[\u001B[0m\u001B[0;34m'dt_c_Short_{}'\u001B[0m\u001B[0;34m.\u001B[0m\u001B[0mformat\u001B[0m\u001B[0;34m(\u001B[0m\u001B[0mdie_num\u001B[0m\u001B[0;34m)\u001B[0m\u001B[0;34m]\u001B[0m\u001B[0;34m.\u001B[0m\u001B[0mfit\u001B[0m\u001B[0;34m(\u001B[0m\u001B[0mglobals\u001B[0m\u001B[0;34m(\u001B[0m\u001B[0;34m)\u001B[0m\u001B[0;34m[\u001B[0m\u001B[0;34m'tr_x_{}'\u001B[0m\u001B[0;34m.\u001B[0m\u001B[0mformat\u001B[0m\u001B[0;34m(\u001B[0m\u001B[0mdie_num\u001B[0m\u001B[0;34m)\u001B[0m\u001B[0;34m]\u001B[0m\u001B[0;34m,\u001B[0m \u001B[0mglobals\u001B[0m\u001B[0;34m(\u001B[0m\u001B[0;34m)\u001B[0m\u001B[0;34m[\u001B[0m\u001B[0;34m'tr_y_Short_{}'\u001B[0m\u001B[0;34m.\u001B[0m\u001B[0mformat\u001B[0m\u001B[0;34m(\u001B[0m\u001B[0mdie_num\u001B[0m\u001B[0;34m)\u001B[0m\u001B[0;34m]\u001B[0m\u001B[0;34m)\u001B[0m\u001B[0;34m\u001B[0m\u001B[0;34m\u001B[0m\u001B[0m\n\u001B[0m\u001B[1;32m     16\u001B[0m     \u001B[0mglobals\u001B[0m\u001B[0;34m(\u001B[0m\u001B[0;34m)\u001B[0m\u001B[0;34m[\u001B[0m\u001B[0;34m'dt_c_Error_{}'\u001B[0m\u001B[0;34m.\u001B[0m\u001B[0mformat\u001B[0m\u001B[0;34m(\u001B[0m\u001B[0mdie_num\u001B[0m\u001B[0;34m)\u001B[0m\u001B[0;34m]\u001B[0m\u001B[0;34m.\u001B[0m\u001B[0mfit\u001B[0m\u001B[0;34m(\u001B[0m\u001B[0mglobals\u001B[0m\u001B[0;34m(\u001B[0m\u001B[0;34m)\u001B[0m\u001B[0;34m[\u001B[0m\u001B[0;34m'tr_x_{}'\u001B[0m\u001B[0;34m.\u001B[0m\u001B[0mformat\u001B[0m\u001B[0;34m(\u001B[0m\u001B[0mdie_num\u001B[0m\u001B[0;34m)\u001B[0m\u001B[0;34m]\u001B[0m\u001B[0;34m,\u001B[0m \u001B[0mglobals\u001B[0m\u001B[0;34m(\u001B[0m\u001B[0;34m)\u001B[0m\u001B[0;34m[\u001B[0m\u001B[0;34m'tr_y_Error_{}'\u001B[0m\u001B[0;34m.\u001B[0m\u001B[0mformat\u001B[0m\u001B[0;34m(\u001B[0m\u001B[0mdie_num\u001B[0m\u001B[0;34m)\u001B[0m\u001B[0;34m]\u001B[0m\u001B[0;34m)\u001B[0m\u001B[0;34m\u001B[0m\u001B[0;34m\u001B[0m\u001B[0m\n\u001B[1;32m     17\u001B[0m \u001B[0;34m\u001B[0m\u001B[0m\n",
      "\u001B[0;32m~/miniconda3/lib/python3.7/site-packages/sklearn/tree/_classes.py\u001B[0m in \u001B[0;36mfit\u001B[0;34m(self, X, y, sample_weight, check_input, X_idx_sorted)\u001B[0m\n\u001B[1;32m    940\u001B[0m             \u001B[0msample_weight\u001B[0m\u001B[0;34m=\u001B[0m\u001B[0msample_weight\u001B[0m\u001B[0;34m,\u001B[0m\u001B[0;34m\u001B[0m\u001B[0;34m\u001B[0m\u001B[0m\n\u001B[1;32m    941\u001B[0m             \u001B[0mcheck_input\u001B[0m\u001B[0;34m=\u001B[0m\u001B[0mcheck_input\u001B[0m\u001B[0;34m,\u001B[0m\u001B[0;34m\u001B[0m\u001B[0;34m\u001B[0m\u001B[0m\n\u001B[0;32m--> 942\u001B[0;31m             \u001B[0mX_idx_sorted\u001B[0m\u001B[0;34m=\u001B[0m\u001B[0mX_idx_sorted\u001B[0m\u001B[0;34m,\u001B[0m\u001B[0;34m\u001B[0m\u001B[0;34m\u001B[0m\u001B[0m\n\u001B[0m\u001B[1;32m    943\u001B[0m         )\n\u001B[1;32m    944\u001B[0m         \u001B[0;32mreturn\u001B[0m \u001B[0mself\u001B[0m\u001B[0;34m\u001B[0m\u001B[0;34m\u001B[0m\u001B[0m\n",
      "\u001B[0;32m~/miniconda3/lib/python3.7/site-packages/sklearn/tree/_classes.py\u001B[0m in \u001B[0;36mfit\u001B[0;34m(self, X, y, sample_weight, check_input, X_idx_sorted)\u001B[0m\n\u001B[1;32m    164\u001B[0m             \u001B[0mcheck_y_params\u001B[0m \u001B[0;34m=\u001B[0m \u001B[0mdict\u001B[0m\u001B[0;34m(\u001B[0m\u001B[0mensure_2d\u001B[0m\u001B[0;34m=\u001B[0m\u001B[0;32mFalse\u001B[0m\u001B[0;34m,\u001B[0m \u001B[0mdtype\u001B[0m\u001B[0;34m=\u001B[0m\u001B[0;32mNone\u001B[0m\u001B[0;34m)\u001B[0m\u001B[0;34m\u001B[0m\u001B[0;34m\u001B[0m\u001B[0m\n\u001B[1;32m    165\u001B[0m             X, y = self._validate_data(\n\u001B[0;32m--> 166\u001B[0;31m                 \u001B[0mX\u001B[0m\u001B[0;34m,\u001B[0m \u001B[0my\u001B[0m\u001B[0;34m,\u001B[0m \u001B[0mvalidate_separately\u001B[0m\u001B[0;34m=\u001B[0m\u001B[0;34m(\u001B[0m\u001B[0mcheck_X_params\u001B[0m\u001B[0;34m,\u001B[0m \u001B[0mcheck_y_params\u001B[0m\u001B[0;34m)\u001B[0m\u001B[0;34m\u001B[0m\u001B[0;34m\u001B[0m\u001B[0m\n\u001B[0m\u001B[1;32m    167\u001B[0m             )\n\u001B[1;32m    168\u001B[0m             \u001B[0;32mif\u001B[0m \u001B[0missparse\u001B[0m\u001B[0;34m(\u001B[0m\u001B[0mX\u001B[0m\u001B[0;34m)\u001B[0m\u001B[0;34m:\u001B[0m\u001B[0;34m\u001B[0m\u001B[0;34m\u001B[0m\u001B[0m\n",
      "\u001B[0;32m~/miniconda3/lib/python3.7/site-packages/sklearn/base.py\u001B[0m in \u001B[0;36m_validate_data\u001B[0;34m(self, X, y, reset, validate_separately, **check_params)\u001B[0m\n\u001B[1;32m    576\u001B[0m                 \u001B[0;31m# :(\u001B[0m\u001B[0;34m\u001B[0m\u001B[0;34m\u001B[0m\u001B[0;34m\u001B[0m\u001B[0m\n\u001B[1;32m    577\u001B[0m                 \u001B[0mcheck_X_params\u001B[0m\u001B[0;34m,\u001B[0m \u001B[0mcheck_y_params\u001B[0m \u001B[0;34m=\u001B[0m \u001B[0mvalidate_separately\u001B[0m\u001B[0;34m\u001B[0m\u001B[0;34m\u001B[0m\u001B[0m\n\u001B[0;32m--> 578\u001B[0;31m                 \u001B[0mX\u001B[0m \u001B[0;34m=\u001B[0m \u001B[0mcheck_array\u001B[0m\u001B[0;34m(\u001B[0m\u001B[0mX\u001B[0m\u001B[0;34m,\u001B[0m \u001B[0;34m**\u001B[0m\u001B[0mcheck_X_params\u001B[0m\u001B[0;34m)\u001B[0m\u001B[0;34m\u001B[0m\u001B[0;34m\u001B[0m\u001B[0m\n\u001B[0m\u001B[1;32m    579\u001B[0m                 \u001B[0my\u001B[0m \u001B[0;34m=\u001B[0m \u001B[0mcheck_array\u001B[0m\u001B[0;34m(\u001B[0m\u001B[0my\u001B[0m\u001B[0;34m,\u001B[0m \u001B[0;34m**\u001B[0m\u001B[0mcheck_y_params\u001B[0m\u001B[0;34m)\u001B[0m\u001B[0;34m\u001B[0m\u001B[0;34m\u001B[0m\u001B[0m\n\u001B[1;32m    580\u001B[0m             \u001B[0;32melse\u001B[0m\u001B[0;34m:\u001B[0m\u001B[0;34m\u001B[0m\u001B[0;34m\u001B[0m\u001B[0m\n",
      "\u001B[0;32m~/miniconda3/lib/python3.7/site-packages/sklearn/utils/validation.py\u001B[0m in \u001B[0;36mcheck_array\u001B[0;34m(array, accept_sparse, accept_large_sparse, dtype, order, copy, force_all_finite, ensure_2d, allow_nd, ensure_min_samples, ensure_min_features, estimator)\u001B[0m\n\u001B[1;32m    744\u001B[0m                     \u001B[0marray\u001B[0m \u001B[0;34m=\u001B[0m \u001B[0marray\u001B[0m\u001B[0;34m.\u001B[0m\u001B[0mastype\u001B[0m\u001B[0;34m(\u001B[0m\u001B[0mdtype\u001B[0m\u001B[0;34m,\u001B[0m \u001B[0mcasting\u001B[0m\u001B[0;34m=\u001B[0m\u001B[0;34m\"unsafe\"\u001B[0m\u001B[0;34m,\u001B[0m \u001B[0mcopy\u001B[0m\u001B[0;34m=\u001B[0m\u001B[0;32mFalse\u001B[0m\u001B[0;34m)\u001B[0m\u001B[0;34m\u001B[0m\u001B[0;34m\u001B[0m\u001B[0m\n\u001B[1;32m    745\u001B[0m                 \u001B[0;32melse\u001B[0m\u001B[0;34m:\u001B[0m\u001B[0;34m\u001B[0m\u001B[0;34m\u001B[0m\u001B[0m\n\u001B[0;32m--> 746\u001B[0;31m                     \u001B[0marray\u001B[0m \u001B[0;34m=\u001B[0m \u001B[0mnp\u001B[0m\u001B[0;34m.\u001B[0m\u001B[0masarray\u001B[0m\u001B[0;34m(\u001B[0m\u001B[0marray\u001B[0m\u001B[0;34m,\u001B[0m \u001B[0morder\u001B[0m\u001B[0;34m=\u001B[0m\u001B[0morder\u001B[0m\u001B[0;34m,\u001B[0m \u001B[0mdtype\u001B[0m\u001B[0;34m=\u001B[0m\u001B[0mdtype\u001B[0m\u001B[0;34m)\u001B[0m\u001B[0;34m\u001B[0m\u001B[0;34m\u001B[0m\u001B[0m\n\u001B[0m\u001B[1;32m    747\u001B[0m             \u001B[0;32mexcept\u001B[0m \u001B[0mComplexWarning\u001B[0m \u001B[0;32mas\u001B[0m \u001B[0mcomplex_warning\u001B[0m\u001B[0;34m:\u001B[0m\u001B[0;34m\u001B[0m\u001B[0;34m\u001B[0m\u001B[0m\n\u001B[1;32m    748\u001B[0m                 raise ValueError(\n",
      "\u001B[0;32m~/miniconda3/lib/python3.7/site-packages/numpy/core/_asarray.py\u001B[0m in \u001B[0;36masarray\u001B[0;34m(a, dtype, order, like)\u001B[0m\n\u001B[1;32m    100\u001B[0m         \u001B[0;32mreturn\u001B[0m \u001B[0m_asarray_with_like\u001B[0m\u001B[0;34m(\u001B[0m\u001B[0ma\u001B[0m\u001B[0;34m,\u001B[0m \u001B[0mdtype\u001B[0m\u001B[0;34m=\u001B[0m\u001B[0mdtype\u001B[0m\u001B[0;34m,\u001B[0m \u001B[0morder\u001B[0m\u001B[0;34m=\u001B[0m\u001B[0morder\u001B[0m\u001B[0;34m,\u001B[0m \u001B[0mlike\u001B[0m\u001B[0;34m=\u001B[0m\u001B[0mlike\u001B[0m\u001B[0;34m)\u001B[0m\u001B[0;34m\u001B[0m\u001B[0;34m\u001B[0m\u001B[0m\n\u001B[1;32m    101\u001B[0m \u001B[0;34m\u001B[0m\u001B[0m\n\u001B[0;32m--> 102\u001B[0;31m     \u001B[0;32mreturn\u001B[0m \u001B[0marray\u001B[0m\u001B[0;34m(\u001B[0m\u001B[0ma\u001B[0m\u001B[0;34m,\u001B[0m \u001B[0mdtype\u001B[0m\u001B[0;34m,\u001B[0m \u001B[0mcopy\u001B[0m\u001B[0;34m=\u001B[0m\u001B[0;32mFalse\u001B[0m\u001B[0;34m,\u001B[0m \u001B[0morder\u001B[0m\u001B[0;34m=\u001B[0m\u001B[0morder\u001B[0m\u001B[0;34m)\u001B[0m\u001B[0;34m\u001B[0m\u001B[0;34m\u001B[0m\u001B[0m\n\u001B[0m\u001B[1;32m    103\u001B[0m \u001B[0;34m\u001B[0m\u001B[0m\n\u001B[1;32m    104\u001B[0m \u001B[0;34m\u001B[0m\u001B[0m\n",
      "\u001B[0;32m~/miniconda3/lib/python3.7/site-packages/pandas/core/generic.py\u001B[0m in \u001B[0;36m__array__\u001B[0;34m(self, dtype)\u001B[0m\n\u001B[1;32m   1991\u001B[0m \u001B[0;34m\u001B[0m\u001B[0m\n\u001B[1;32m   1992\u001B[0m     \u001B[0;32mdef\u001B[0m \u001B[0m__array__\u001B[0m\u001B[0;34m(\u001B[0m\u001B[0mself\u001B[0m\u001B[0;34m,\u001B[0m \u001B[0mdtype\u001B[0m\u001B[0;34m:\u001B[0m \u001B[0mNpDtype\u001B[0m \u001B[0;34m|\u001B[0m \u001B[0;32mNone\u001B[0m \u001B[0;34m=\u001B[0m \u001B[0;32mNone\u001B[0m\u001B[0;34m)\u001B[0m \u001B[0;34m->\u001B[0m \u001B[0mnp\u001B[0m\u001B[0;34m.\u001B[0m\u001B[0mndarray\u001B[0m\u001B[0;34m:\u001B[0m\u001B[0;34m\u001B[0m\u001B[0;34m\u001B[0m\u001B[0m\n\u001B[0;32m-> 1993\u001B[0;31m         \u001B[0;32mreturn\u001B[0m \u001B[0mnp\u001B[0m\u001B[0;34m.\u001B[0m\u001B[0masarray\u001B[0m\u001B[0;34m(\u001B[0m\u001B[0mself\u001B[0m\u001B[0;34m.\u001B[0m\u001B[0m_values\u001B[0m\u001B[0;34m,\u001B[0m \u001B[0mdtype\u001B[0m\u001B[0;34m=\u001B[0m\u001B[0mdtype\u001B[0m\u001B[0;34m)\u001B[0m\u001B[0;34m\u001B[0m\u001B[0;34m\u001B[0m\u001B[0m\n\u001B[0m\u001B[1;32m   1994\u001B[0m \u001B[0;34m\u001B[0m\u001B[0m\n\u001B[1;32m   1995\u001B[0m     def __array_wrap__(\n",
      "\u001B[0;32m~/miniconda3/lib/python3.7/site-packages/numpy/core/_asarray.py\u001B[0m in \u001B[0;36masarray\u001B[0;34m(a, dtype, order, like)\u001B[0m\n\u001B[1;32m    100\u001B[0m         \u001B[0;32mreturn\u001B[0m \u001B[0m_asarray_with_like\u001B[0m\u001B[0;34m(\u001B[0m\u001B[0ma\u001B[0m\u001B[0;34m,\u001B[0m \u001B[0mdtype\u001B[0m\u001B[0;34m=\u001B[0m\u001B[0mdtype\u001B[0m\u001B[0;34m,\u001B[0m \u001B[0morder\u001B[0m\u001B[0;34m=\u001B[0m\u001B[0morder\u001B[0m\u001B[0;34m,\u001B[0m \u001B[0mlike\u001B[0m\u001B[0;34m=\u001B[0m\u001B[0mlike\u001B[0m\u001B[0;34m)\u001B[0m\u001B[0;34m\u001B[0m\u001B[0;34m\u001B[0m\u001B[0m\n\u001B[1;32m    101\u001B[0m \u001B[0;34m\u001B[0m\u001B[0m\n\u001B[0;32m--> 102\u001B[0;31m     \u001B[0;32mreturn\u001B[0m \u001B[0marray\u001B[0m\u001B[0;34m(\u001B[0m\u001B[0ma\u001B[0m\u001B[0;34m,\u001B[0m \u001B[0mdtype\u001B[0m\u001B[0;34m,\u001B[0m \u001B[0mcopy\u001B[0m\u001B[0;34m=\u001B[0m\u001B[0;32mFalse\u001B[0m\u001B[0;34m,\u001B[0m \u001B[0morder\u001B[0m\u001B[0;34m=\u001B[0m\u001B[0morder\u001B[0m\u001B[0;34m)\u001B[0m\u001B[0;34m\u001B[0m\u001B[0;34m\u001B[0m\u001B[0m\n\u001B[0m\u001B[1;32m    103\u001B[0m \u001B[0;34m\u001B[0m\u001B[0m\n\u001B[1;32m    104\u001B[0m \u001B[0;34m\u001B[0m\u001B[0m\n",
      "\u001B[0;31mValueError\u001B[0m: could not convert string to float: '180226-022-0101'"
     ]
    }
   ],
   "source": [
    "# 각 Die_Number 에 해당하는 데이터셋으로 학습\n",
    "\n",
    "accuracy_result = {\n",
    "    'Die_Num' : [],\n",
    "    'accuracy_Short' : [],\n",
    "    'accuracy_Error' : [],\n",
    "}\n",
    "\n",
    "for die_num in die_list.tolist():\n",
    "    # 1. die_num 에 해당하는 dt_c 인스턴스 생성\n",
    "    globals()['dt_c_Short_{}'.format(die_num)] = DecisionTreeClassifier()\n",
    "    globals()['dt_c_Error_{}'.format(die_num)] = DecisionTreeClassifier()\n",
    "\n",
    "    # 2. dt_c 로 학습 진행\n",
    "    globals()['dt_c_Short_{}'.format(die_num)].fit(globals()['tr_x_{}'.format(die_num)], globals()['tr_y_Short_{}'.format(die_num)])\n",
    "    globals()['dt_c_Error_{}'.format(die_num)].fit(globals()['tr_x_{}'.format(die_num)], globals()['tr_y_Error_{}'.format(die_num)])\n",
    "\n",
    "    # 3. 학습한 결과에 대한 예측값 저장\n",
    "    locals()['predict_Short_{}'.format(die_num)] = \\\n",
    "        globals()['dt_c_Short_{}'.format(die_num)].predict(globals()['te_x_{}'.format(die_num)])\n",
    "\n",
    "    locals()['predict_Error_{}'.format(die_num)] = \\\n",
    "        globals()['dt_c_Error_{}'.format(die_num)].predict(globals()['te_x_{}'.format(die_num)])\n",
    "\n",
    "    #4. 예측값에 대한 정확도 계산\n",
    "    locals()['accuracy_Short_{}'.format(die_num)] = \\\n",
    "        globals()['dt_c_Short_{}'.format(die_num)].score(globals()['te_x_{}'.format(die_num)], globals()['te_y_Short_{}'.format(die_num)])\n",
    "\n",
    "    locals()['accuracy_Error_{}'.format(die_num)] = \\\n",
    "        globals()['dt_c_Error_{}'.format(die_num)].score(globals()['te_x_{}'.format(die_num)], globals()['te_y_Error_{}'.format(die_num)])\n",
    "\n",
    "    # 4. 예측값, 정확도 결과를 데이터프레임형태로 저장\n",
    "    accuracy_result['Die_Num'].append(die_num)\n",
    "    accuracy_result['accuracy_Short'].append(locals()['accuracy_Short_{}'.format(die_num)])\n",
    "    accuracy_result['accuracy_Error'].append(locals()['accuracy_Error_{}'.format(die_num)])"
   ],
   "metadata": {
    "collapsed": false
   }
  },
  {
   "cell_type": "code",
   "execution_count": null,
   "outputs": [],
   "source": [],
   "metadata": {
    "collapsed": false
   }
  }
 ],
 "metadata": {
  "kernelspec": {
   "display_name": "Python 3",
   "language": "python",
   "name": "python3"
  },
  "language_info": {
   "codemirror_mode": {
    "name": "ipython",
    "version": 2
   },
   "file_extension": ".py",
   "mimetype": "text/x-python",
   "name": "python",
   "nbconvert_exporter": "python",
   "pygments_lexer": "ipython2",
   "version": "2.7.6"
  }
 },
 "nbformat": 4,
 "nbformat_minor": 0
}
