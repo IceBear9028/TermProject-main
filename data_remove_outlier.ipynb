{
 "cells": [
  {
   "cell_type": "code",
   "execution_count": 1,
   "metadata": {
    "collapsed": true
   },
   "outputs": [],
   "source": [
    "import pandas as pd"
   ]
  },
  {
   "cell_type": "code",
   "execution_count": 2,
   "outputs": [
    {
     "data": {
      "text/plain": "                  LOT        Date  Equipment  Die_Number  \\\n0     180102-021-0101  2018-01-02         21         101   \n1     180102-021-0101  2018-01-02         21         101   \n2     180102-021-0101  2018-01-02         21         101   \n3     180102-021-0101  2018-01-02         21         101   \n4     180102-021-0101  2018-01-02         21         101   \n...               ...         ...        ...         ...   \n8626  180606-022-0101  2018-06-06         22         101   \n8627  180606-022-0101  2018-06-06         22         101   \n8628  180606-022-0101  2018-06-06         22         101   \n8629  180606-022-0101  2018-06-06         22         101   \n8630  180606-022-0101  2018-06-06         22         101   \n\n      Injection_Velocity_1  Injection_Velocity_2  Injection_Velocity_3  \\\n0                    0.120                 0.220                 0.368   \n1                    0.106                 0.216                 0.357   \n2                    0.085                 0.222                 0.371   \n3                    0.080                 0.208                 0.349   \n4                    0.106                 0.214                 0.360   \n...                    ...                   ...                   ...   \n8626                 0.192                 0.292                 0.408   \n8627                 0.188                 0.294                 0.416   \n8628                 0.194                 0.294                 0.411   \n8629                 0.185                 0.296                 0.416   \n8630                 0.184                 0.290                 0.403   \n\n      Spray_Time_1  Spray_Time_2  Humidity  Temperature  Casting_Pressure  \\\n0              0.2           0.3    19.993       15.598               680   \n1              0.2           0.3    18.778       14.997               678   \n2              0.2           0.3    20.330       15.835               680   \n3              0.2           0.3    18.382       14.841               324   \n4              0.2           0.3    18.961       15.028               677   \n...            ...           ...       ...          ...               ...   \n8626           0.2           0.3    40.344       30.042               341   \n8627           0.2           0.3    38.394       31.105               341   \n8628           0.2           0.3    35.061       31.599               341   \n8629           0.2           0.3    31.495       32.699               340   \n8630           0.2           0.3    41.864       29.721               341   \n\n      Pressure_Increase_Time  Short_Shot  Error  \n0                      0.041           3      0  \n1                      0.043           3      0  \n2                      0.043           3      0  \n3                      0.000           3      0  \n4                      0.043           3      0  \n...                      ...         ...    ...  \n8626                   0.000          16      0  \n8627                   0.000          16      0  \n8628                   0.000          16      0  \n8629                   0.000          16      0  \n8630                   0.000          16      0  \n\n[8631 rows x 15 columns]",
      "text/html": "<div>\n<style scoped>\n    .dataframe tbody tr th:only-of-type {\n        vertical-align: middle;\n    }\n\n    .dataframe tbody tr th {\n        vertical-align: top;\n    }\n\n    .dataframe thead th {\n        text-align: right;\n    }\n</style>\n<table border=\"1\" class=\"dataframe\">\n  <thead>\n    <tr style=\"text-align: right;\">\n      <th></th>\n      <th>LOT</th>\n      <th>Date</th>\n      <th>Equipment</th>\n      <th>Die_Number</th>\n      <th>Injection_Velocity_1</th>\n      <th>Injection_Velocity_2</th>\n      <th>Injection_Velocity_3</th>\n      <th>Spray_Time_1</th>\n      <th>Spray_Time_2</th>\n      <th>Humidity</th>\n      <th>Temperature</th>\n      <th>Casting_Pressure</th>\n      <th>Pressure_Increase_Time</th>\n      <th>Short_Shot</th>\n      <th>Error</th>\n    </tr>\n  </thead>\n  <tbody>\n    <tr>\n      <th>0</th>\n      <td>180102-021-0101</td>\n      <td>2018-01-02</td>\n      <td>21</td>\n      <td>101</td>\n      <td>0.120</td>\n      <td>0.220</td>\n      <td>0.368</td>\n      <td>0.2</td>\n      <td>0.3</td>\n      <td>19.993</td>\n      <td>15.598</td>\n      <td>680</td>\n      <td>0.041</td>\n      <td>3</td>\n      <td>0</td>\n    </tr>\n    <tr>\n      <th>1</th>\n      <td>180102-021-0101</td>\n      <td>2018-01-02</td>\n      <td>21</td>\n      <td>101</td>\n      <td>0.106</td>\n      <td>0.216</td>\n      <td>0.357</td>\n      <td>0.2</td>\n      <td>0.3</td>\n      <td>18.778</td>\n      <td>14.997</td>\n      <td>678</td>\n      <td>0.043</td>\n      <td>3</td>\n      <td>0</td>\n    </tr>\n    <tr>\n      <th>2</th>\n      <td>180102-021-0101</td>\n      <td>2018-01-02</td>\n      <td>21</td>\n      <td>101</td>\n      <td>0.085</td>\n      <td>0.222</td>\n      <td>0.371</td>\n      <td>0.2</td>\n      <td>0.3</td>\n      <td>20.330</td>\n      <td>15.835</td>\n      <td>680</td>\n      <td>0.043</td>\n      <td>3</td>\n      <td>0</td>\n    </tr>\n    <tr>\n      <th>3</th>\n      <td>180102-021-0101</td>\n      <td>2018-01-02</td>\n      <td>21</td>\n      <td>101</td>\n      <td>0.080</td>\n      <td>0.208</td>\n      <td>0.349</td>\n      <td>0.2</td>\n      <td>0.3</td>\n      <td>18.382</td>\n      <td>14.841</td>\n      <td>324</td>\n      <td>0.000</td>\n      <td>3</td>\n      <td>0</td>\n    </tr>\n    <tr>\n      <th>4</th>\n      <td>180102-021-0101</td>\n      <td>2018-01-02</td>\n      <td>21</td>\n      <td>101</td>\n      <td>0.106</td>\n      <td>0.214</td>\n      <td>0.360</td>\n      <td>0.2</td>\n      <td>0.3</td>\n      <td>18.961</td>\n      <td>15.028</td>\n      <td>677</td>\n      <td>0.043</td>\n      <td>3</td>\n      <td>0</td>\n    </tr>\n    <tr>\n      <th>...</th>\n      <td>...</td>\n      <td>...</td>\n      <td>...</td>\n      <td>...</td>\n      <td>...</td>\n      <td>...</td>\n      <td>...</td>\n      <td>...</td>\n      <td>...</td>\n      <td>...</td>\n      <td>...</td>\n      <td>...</td>\n      <td>...</td>\n      <td>...</td>\n      <td>...</td>\n    </tr>\n    <tr>\n      <th>8626</th>\n      <td>180606-022-0101</td>\n      <td>2018-06-06</td>\n      <td>22</td>\n      <td>101</td>\n      <td>0.192</td>\n      <td>0.292</td>\n      <td>0.408</td>\n      <td>0.2</td>\n      <td>0.3</td>\n      <td>40.344</td>\n      <td>30.042</td>\n      <td>341</td>\n      <td>0.000</td>\n      <td>16</td>\n      <td>0</td>\n    </tr>\n    <tr>\n      <th>8627</th>\n      <td>180606-022-0101</td>\n      <td>2018-06-06</td>\n      <td>22</td>\n      <td>101</td>\n      <td>0.188</td>\n      <td>0.294</td>\n      <td>0.416</td>\n      <td>0.2</td>\n      <td>0.3</td>\n      <td>38.394</td>\n      <td>31.105</td>\n      <td>341</td>\n      <td>0.000</td>\n      <td>16</td>\n      <td>0</td>\n    </tr>\n    <tr>\n      <th>8628</th>\n      <td>180606-022-0101</td>\n      <td>2018-06-06</td>\n      <td>22</td>\n      <td>101</td>\n      <td>0.194</td>\n      <td>0.294</td>\n      <td>0.411</td>\n      <td>0.2</td>\n      <td>0.3</td>\n      <td>35.061</td>\n      <td>31.599</td>\n      <td>341</td>\n      <td>0.000</td>\n      <td>16</td>\n      <td>0</td>\n    </tr>\n    <tr>\n      <th>8629</th>\n      <td>180606-022-0101</td>\n      <td>2018-06-06</td>\n      <td>22</td>\n      <td>101</td>\n      <td>0.185</td>\n      <td>0.296</td>\n      <td>0.416</td>\n      <td>0.2</td>\n      <td>0.3</td>\n      <td>31.495</td>\n      <td>32.699</td>\n      <td>340</td>\n      <td>0.000</td>\n      <td>16</td>\n      <td>0</td>\n    </tr>\n    <tr>\n      <th>8630</th>\n      <td>180606-022-0101</td>\n      <td>2018-06-06</td>\n      <td>22</td>\n      <td>101</td>\n      <td>0.184</td>\n      <td>0.290</td>\n      <td>0.403</td>\n      <td>0.2</td>\n      <td>0.3</td>\n      <td>41.864</td>\n      <td>29.721</td>\n      <td>341</td>\n      <td>0.000</td>\n      <td>16</td>\n      <td>0</td>\n    </tr>\n  </tbody>\n</table>\n<p>8631 rows × 15 columns</p>\n</div>"
     },
     "execution_count": 2,
     "metadata": {},
     "output_type": "execute_result"
    }
   ],
   "source": [
    "df = pd.read_csv('./data_refine/refine-multiple-error-dataset.csv', index_col=0)\n",
    "\n",
    "df"
   ],
   "metadata": {
    "collapsed": false
   }
  },
  {
   "cell_type": "code",
   "execution_count": 3,
   "outputs": [],
   "source": [
    "# IQR 이상치 제거 함수\n",
    "def outlier_test(x):\n",
    "    Q1=x.quantile(1/4)\n",
    "    Q3=x.quantile(3/4)\n",
    "    IQR=Q3-Q1\n",
    "    LL=Q1-(1.5*IQR)\n",
    "    UU=Q3+(1.5*IQR)\n",
    "    outlier=(x < LL) | (x > UU)\n",
    "    return outlier"
   ],
   "metadata": {
    "collapsed": false
   }
  },
  {
   "cell_type": "code",
   "execution_count": 9,
   "outputs": [
    {
     "data": {
      "text/plain": "                  LOT  Injection_Velocity_1  Injection_Velocity_2  \\\n0     180102-021-0101                 0.120                 0.220   \n1     180102-021-0101                 0.106                 0.216   \n2     180102-021-0101                 0.085                 0.222   \n3     180102-021-0101                 0.080                 0.208   \n4     180102-021-0101                 0.106                 0.214   \n...               ...                   ...                   ...   \n8626  180606-022-0101                 0.192                 0.292   \n8627  180606-022-0101                 0.188                 0.294   \n8628  180606-022-0101                 0.194                 0.294   \n8629  180606-022-0101                 0.185                 0.296   \n8630  180606-022-0101                 0.184                 0.290   \n\n      Injection_Velocity_3  Spray_Time_1  Spray_Time_2  Humidity  Temperature  \\\n0                    0.368           0.2           0.3    19.993       15.598   \n1                    0.357           0.2           0.3    18.778       14.997   \n2                    0.371           0.2           0.3    20.330       15.835   \n3                    0.349           0.2           0.3    18.382       14.841   \n4                    0.360           0.2           0.3    18.961       15.028   \n...                    ...           ...           ...       ...          ...   \n8626                 0.408           0.2           0.3    40.344       30.042   \n8627                 0.416           0.2           0.3    38.394       31.105   \n8628                 0.411           0.2           0.3    35.061       31.599   \n8629                 0.416           0.2           0.3    31.495       32.699   \n8630                 0.403           0.2           0.3    41.864       29.721   \n\n      Casting_Pressure  Pressure_Increase_Time  \n0                  680                   0.041  \n1                  678                   0.043  \n2                  680                   0.043  \n3                  324                   0.000  \n4                  677                   0.043  \n...                ...                     ...  \n8626               341                   0.000  \n8627               341                   0.000  \n8628               341                   0.000  \n8629               340                   0.000  \n8630               341                   0.000  \n\n[8631 rows x 10 columns]",
      "text/html": "<div>\n<style scoped>\n    .dataframe tbody tr th:only-of-type {\n        vertical-align: middle;\n    }\n\n    .dataframe tbody tr th {\n        vertical-align: top;\n    }\n\n    .dataframe thead th {\n        text-align: right;\n    }\n</style>\n<table border=\"1\" class=\"dataframe\">\n  <thead>\n    <tr style=\"text-align: right;\">\n      <th></th>\n      <th>LOT</th>\n      <th>Injection_Velocity_1</th>\n      <th>Injection_Velocity_2</th>\n      <th>Injection_Velocity_3</th>\n      <th>Spray_Time_1</th>\n      <th>Spray_Time_2</th>\n      <th>Humidity</th>\n      <th>Temperature</th>\n      <th>Casting_Pressure</th>\n      <th>Pressure_Increase_Time</th>\n    </tr>\n  </thead>\n  <tbody>\n    <tr>\n      <th>0</th>\n      <td>180102-021-0101</td>\n      <td>0.120</td>\n      <td>0.220</td>\n      <td>0.368</td>\n      <td>0.2</td>\n      <td>0.3</td>\n      <td>19.993</td>\n      <td>15.598</td>\n      <td>680</td>\n      <td>0.041</td>\n    </tr>\n    <tr>\n      <th>1</th>\n      <td>180102-021-0101</td>\n      <td>0.106</td>\n      <td>0.216</td>\n      <td>0.357</td>\n      <td>0.2</td>\n      <td>0.3</td>\n      <td>18.778</td>\n      <td>14.997</td>\n      <td>678</td>\n      <td>0.043</td>\n    </tr>\n    <tr>\n      <th>2</th>\n      <td>180102-021-0101</td>\n      <td>0.085</td>\n      <td>0.222</td>\n      <td>0.371</td>\n      <td>0.2</td>\n      <td>0.3</td>\n      <td>20.330</td>\n      <td>15.835</td>\n      <td>680</td>\n      <td>0.043</td>\n    </tr>\n    <tr>\n      <th>3</th>\n      <td>180102-021-0101</td>\n      <td>0.080</td>\n      <td>0.208</td>\n      <td>0.349</td>\n      <td>0.2</td>\n      <td>0.3</td>\n      <td>18.382</td>\n      <td>14.841</td>\n      <td>324</td>\n      <td>0.000</td>\n    </tr>\n    <tr>\n      <th>4</th>\n      <td>180102-021-0101</td>\n      <td>0.106</td>\n      <td>0.214</td>\n      <td>0.360</td>\n      <td>0.2</td>\n      <td>0.3</td>\n      <td>18.961</td>\n      <td>15.028</td>\n      <td>677</td>\n      <td>0.043</td>\n    </tr>\n    <tr>\n      <th>...</th>\n      <td>...</td>\n      <td>...</td>\n      <td>...</td>\n      <td>...</td>\n      <td>...</td>\n      <td>...</td>\n      <td>...</td>\n      <td>...</td>\n      <td>...</td>\n      <td>...</td>\n    </tr>\n    <tr>\n      <th>8626</th>\n      <td>180606-022-0101</td>\n      <td>0.192</td>\n      <td>0.292</td>\n      <td>0.408</td>\n      <td>0.2</td>\n      <td>0.3</td>\n      <td>40.344</td>\n      <td>30.042</td>\n      <td>341</td>\n      <td>0.000</td>\n    </tr>\n    <tr>\n      <th>8627</th>\n      <td>180606-022-0101</td>\n      <td>0.188</td>\n      <td>0.294</td>\n      <td>0.416</td>\n      <td>0.2</td>\n      <td>0.3</td>\n      <td>38.394</td>\n      <td>31.105</td>\n      <td>341</td>\n      <td>0.000</td>\n    </tr>\n    <tr>\n      <th>8628</th>\n      <td>180606-022-0101</td>\n      <td>0.194</td>\n      <td>0.294</td>\n      <td>0.411</td>\n      <td>0.2</td>\n      <td>0.3</td>\n      <td>35.061</td>\n      <td>31.599</td>\n      <td>341</td>\n      <td>0.000</td>\n    </tr>\n    <tr>\n      <th>8629</th>\n      <td>180606-022-0101</td>\n      <td>0.185</td>\n      <td>0.296</td>\n      <td>0.416</td>\n      <td>0.2</td>\n      <td>0.3</td>\n      <td>31.495</td>\n      <td>32.699</td>\n      <td>340</td>\n      <td>0.000</td>\n    </tr>\n    <tr>\n      <th>8630</th>\n      <td>180606-022-0101</td>\n      <td>0.184</td>\n      <td>0.290</td>\n      <td>0.403</td>\n      <td>0.2</td>\n      <td>0.3</td>\n      <td>41.864</td>\n      <td>29.721</td>\n      <td>341</td>\n      <td>0.000</td>\n    </tr>\n  </tbody>\n</table>\n<p>8631 rows × 10 columns</p>\n</div>"
     },
     "execution_count": 9,
     "metadata": {},
     "output_type": "execute_result"
    }
   ],
   "source": [
    "df_x_value = df.copy()\n",
    "\n",
    "df_x_value = df_x_value.drop(columns = df.columns[1:4].tolist())\n",
    "df_x_value = df_x_value.drop(columns = df.columns[13:].tolist())\n",
    "\n",
    "df_x_value"
   ],
   "metadata": {
    "collapsed": false
   }
  },
  {
   "cell_type": "code",
   "execution_count": 10,
   "outputs": [
    {
     "name": "stderr",
     "output_type": "stream",
     "text": [
      "/Users/isang-yun/miniconda3/lib/python3.7/site-packages/ipykernel_launcher.py:8: FutureWarning: Automatic reindexing on DataFrame vs Series comparisons is deprecated and will raise ValueError in a future version.  Do `left, right = left.align(right, axis=1, copy=False)` before e.g. `left == right`\n",
      "  \n"
     ]
    },
    {
     "data": {
      "text/plain": "      Casting_Pressure  Humidity  Injection_Velocity_1  Injection_Velocity_2  \\\n0                False     False                 False                 False   \n1                False      True                 False                 False   \n2                False     False                 False                 False   \n3                 True      True                 False                 False   \n4                False     False                 False                 False   \n...                ...       ...                   ...                   ...   \n8626             False     False                 False                 False   \n8627             False     False                 False                 False   \n8628             False     False                 False                 False   \n8629             False     False                 False                 False   \n8630             False     False                 False                 False   \n\n      Injection_Velocity_3    LOT  Pressure_Increase_Time  Spray_Time_1  \\\n0                    False  False                   False         False   \n1                    False  False                   False         False   \n2                    False  False                   False         False   \n3                    False  False                    True         False   \n4                    False  False                   False         False   \n...                    ...    ...                     ...           ...   \n8626                 False  False                   False         False   \n8627                 False  False                   False         False   \n8628                 False  False                   False         False   \n8629                 False  False                   False         False   \n8630                 False  False                   False         False   \n\n      Spray_Time_2  Temperature  \n0            False        False  \n1            False        False  \n2            False        False  \n3            False        False  \n4            False        False  \n...            ...          ...  \n8626         False        False  \n8627         False        False  \n8628         False        False  \n8629         False        False  \n8630         False        False  \n\n[8631 rows x 10 columns]",
      "text/html": "<div>\n<style scoped>\n    .dataframe tbody tr th:only-of-type {\n        vertical-align: middle;\n    }\n\n    .dataframe tbody tr th {\n        vertical-align: top;\n    }\n\n    .dataframe thead th {\n        text-align: right;\n    }\n</style>\n<table border=\"1\" class=\"dataframe\">\n  <thead>\n    <tr style=\"text-align: right;\">\n      <th></th>\n      <th>Casting_Pressure</th>\n      <th>Humidity</th>\n      <th>Injection_Velocity_1</th>\n      <th>Injection_Velocity_2</th>\n      <th>Injection_Velocity_3</th>\n      <th>LOT</th>\n      <th>Pressure_Increase_Time</th>\n      <th>Spray_Time_1</th>\n      <th>Spray_Time_2</th>\n      <th>Temperature</th>\n    </tr>\n  </thead>\n  <tbody>\n    <tr>\n      <th>0</th>\n      <td>False</td>\n      <td>False</td>\n      <td>False</td>\n      <td>False</td>\n      <td>False</td>\n      <td>False</td>\n      <td>False</td>\n      <td>False</td>\n      <td>False</td>\n      <td>False</td>\n    </tr>\n    <tr>\n      <th>1</th>\n      <td>False</td>\n      <td>True</td>\n      <td>False</td>\n      <td>False</td>\n      <td>False</td>\n      <td>False</td>\n      <td>False</td>\n      <td>False</td>\n      <td>False</td>\n      <td>False</td>\n    </tr>\n    <tr>\n      <th>2</th>\n      <td>False</td>\n      <td>False</td>\n      <td>False</td>\n      <td>False</td>\n      <td>False</td>\n      <td>False</td>\n      <td>False</td>\n      <td>False</td>\n      <td>False</td>\n      <td>False</td>\n    </tr>\n    <tr>\n      <th>3</th>\n      <td>True</td>\n      <td>True</td>\n      <td>False</td>\n      <td>False</td>\n      <td>False</td>\n      <td>False</td>\n      <td>True</td>\n      <td>False</td>\n      <td>False</td>\n      <td>False</td>\n    </tr>\n    <tr>\n      <th>4</th>\n      <td>False</td>\n      <td>False</td>\n      <td>False</td>\n      <td>False</td>\n      <td>False</td>\n      <td>False</td>\n      <td>False</td>\n      <td>False</td>\n      <td>False</td>\n      <td>False</td>\n    </tr>\n    <tr>\n      <th>...</th>\n      <td>...</td>\n      <td>...</td>\n      <td>...</td>\n      <td>...</td>\n      <td>...</td>\n      <td>...</td>\n      <td>...</td>\n      <td>...</td>\n      <td>...</td>\n      <td>...</td>\n    </tr>\n    <tr>\n      <th>8626</th>\n      <td>False</td>\n      <td>False</td>\n      <td>False</td>\n      <td>False</td>\n      <td>False</td>\n      <td>False</td>\n      <td>False</td>\n      <td>False</td>\n      <td>False</td>\n      <td>False</td>\n    </tr>\n    <tr>\n      <th>8627</th>\n      <td>False</td>\n      <td>False</td>\n      <td>False</td>\n      <td>False</td>\n      <td>False</td>\n      <td>False</td>\n      <td>False</td>\n      <td>False</td>\n      <td>False</td>\n      <td>False</td>\n    </tr>\n    <tr>\n      <th>8628</th>\n      <td>False</td>\n      <td>False</td>\n      <td>False</td>\n      <td>False</td>\n      <td>False</td>\n      <td>False</td>\n      <td>False</td>\n      <td>False</td>\n      <td>False</td>\n      <td>False</td>\n    </tr>\n    <tr>\n      <th>8629</th>\n      <td>False</td>\n      <td>False</td>\n      <td>False</td>\n      <td>False</td>\n      <td>False</td>\n      <td>False</td>\n      <td>False</td>\n      <td>False</td>\n      <td>False</td>\n      <td>False</td>\n    </tr>\n    <tr>\n      <th>8630</th>\n      <td>False</td>\n      <td>False</td>\n      <td>False</td>\n      <td>False</td>\n      <td>False</td>\n      <td>False</td>\n      <td>False</td>\n      <td>False</td>\n      <td>False</td>\n      <td>False</td>\n    </tr>\n  </tbody>\n</table>\n<p>8631 rows × 10 columns</p>\n</div>"
     },
     "execution_count": 10,
     "metadata": {},
     "output_type": "execute_result"
    }
   ],
   "source": [
    "# 아웃라이어 없애는 작업\n",
    "df_outlier_TF = df_x_value.groupby('LOT').apply(outlier_test)\n",
    "\n",
    "df_outlier_TF"
   ],
   "metadata": {
    "collapsed": false
   }
  },
  {
   "cell_type": "code",
   "execution_count": 11,
   "outputs": [
    {
     "data": {
      "text/plain": "Casting_Pressure          807\nHumidity                  248\nInjection_Velocity_1      214\nInjection_Velocity_2      244\nInjection_Velocity_3      234\nLOT                         0\nPressure_Increase_Time    382\nSpray_Time_1               35\nSpray_Time_2               22\nTemperature               312\ndtype: int64"
     },
     "execution_count": 11,
     "metadata": {},
     "output_type": "execute_result"
    }
   ],
   "source": [
    "# 공정조건별로 이상치 몇개인지 파악\n",
    "\n",
    "df_outlier_TF.sum()"
   ],
   "metadata": {
    "collapsed": false
   }
  },
  {
   "cell_type": "code",
   "execution_count": 15,
   "outputs": [
    {
     "data": {
      "text/plain": "                  LOT  Injection_Velocity_1  Injection_Velocity_2  \\\n0     180102-021-0101                 0.120                 0.220   \n2     180102-021-0101                 0.085                 0.222   \n4     180102-021-0101                 0.106                 0.214   \n6     180102-021-0101                 0.118                 0.218   \n7     180102-021-0101                 0.098                 0.218   \n...               ...                   ...                   ...   \n8626  180606-022-0101                 0.192                 0.292   \n8627  180606-022-0101                 0.188                 0.294   \n8628  180606-022-0101                 0.194                 0.294   \n8629  180606-022-0101                 0.185                 0.296   \n8630  180606-022-0101                 0.184                 0.290   \n\n      Injection_Velocity_3  Spray_Time_1  Spray_Time_2  Humidity  Temperature  \\\n0                    0.368           0.2           0.3    19.993       15.598   \n2                    0.371           0.2           0.3    20.330       15.835   \n4                    0.360           0.2           0.3    18.961       15.028   \n6                    0.368           0.2           0.3    20.115       15.614   \n7                    0.368           0.2           0.3    19.993       15.598   \n...                    ...           ...           ...       ...          ...   \n8626                 0.408           0.2           0.3    40.344       30.042   \n8627                 0.416           0.2           0.3    38.394       31.105   \n8628                 0.411           0.2           0.3    35.061       31.599   \n8629                 0.416           0.2           0.3    31.495       32.699   \n8630                 0.403           0.2           0.3    41.864       29.721   \n\n      Casting_Pressure  Pressure_Increase_Time  \n0                  680                   0.041  \n2                  680                   0.043  \n4                  677                   0.043  \n6                  679                   0.041  \n7                  679                   0.043  \n...                ...                     ...  \n8626               341                   0.000  \n8627               341                   0.000  \n8628               341                   0.000  \n8629               340                   0.000  \n8630               341                   0.000  \n\n[6720 rows x 10 columns]",
      "text/html": "<div>\n<style scoped>\n    .dataframe tbody tr th:only-of-type {\n        vertical-align: middle;\n    }\n\n    .dataframe tbody tr th {\n        vertical-align: top;\n    }\n\n    .dataframe thead th {\n        text-align: right;\n    }\n</style>\n<table border=\"1\" class=\"dataframe\">\n  <thead>\n    <tr style=\"text-align: right;\">\n      <th></th>\n      <th>LOT</th>\n      <th>Injection_Velocity_1</th>\n      <th>Injection_Velocity_2</th>\n      <th>Injection_Velocity_3</th>\n      <th>Spray_Time_1</th>\n      <th>Spray_Time_2</th>\n      <th>Humidity</th>\n      <th>Temperature</th>\n      <th>Casting_Pressure</th>\n      <th>Pressure_Increase_Time</th>\n    </tr>\n  </thead>\n  <tbody>\n    <tr>\n      <th>0</th>\n      <td>180102-021-0101</td>\n      <td>0.120</td>\n      <td>0.220</td>\n      <td>0.368</td>\n      <td>0.2</td>\n      <td>0.3</td>\n      <td>19.993</td>\n      <td>15.598</td>\n      <td>680</td>\n      <td>0.041</td>\n    </tr>\n    <tr>\n      <th>2</th>\n      <td>180102-021-0101</td>\n      <td>0.085</td>\n      <td>0.222</td>\n      <td>0.371</td>\n      <td>0.2</td>\n      <td>0.3</td>\n      <td>20.330</td>\n      <td>15.835</td>\n      <td>680</td>\n      <td>0.043</td>\n    </tr>\n    <tr>\n      <th>4</th>\n      <td>180102-021-0101</td>\n      <td>0.106</td>\n      <td>0.214</td>\n      <td>0.360</td>\n      <td>0.2</td>\n      <td>0.3</td>\n      <td>18.961</td>\n      <td>15.028</td>\n      <td>677</td>\n      <td>0.043</td>\n    </tr>\n    <tr>\n      <th>6</th>\n      <td>180102-021-0101</td>\n      <td>0.118</td>\n      <td>0.218</td>\n      <td>0.368</td>\n      <td>0.2</td>\n      <td>0.3</td>\n      <td>20.115</td>\n      <td>15.614</td>\n      <td>679</td>\n      <td>0.041</td>\n    </tr>\n    <tr>\n      <th>7</th>\n      <td>180102-021-0101</td>\n      <td>0.098</td>\n      <td>0.218</td>\n      <td>0.368</td>\n      <td>0.2</td>\n      <td>0.3</td>\n      <td>19.993</td>\n      <td>15.598</td>\n      <td>679</td>\n      <td>0.043</td>\n    </tr>\n    <tr>\n      <th>...</th>\n      <td>...</td>\n      <td>...</td>\n      <td>...</td>\n      <td>...</td>\n      <td>...</td>\n      <td>...</td>\n      <td>...</td>\n      <td>...</td>\n      <td>...</td>\n      <td>...</td>\n    </tr>\n    <tr>\n      <th>8626</th>\n      <td>180606-022-0101</td>\n      <td>0.192</td>\n      <td>0.292</td>\n      <td>0.408</td>\n      <td>0.2</td>\n      <td>0.3</td>\n      <td>40.344</td>\n      <td>30.042</td>\n      <td>341</td>\n      <td>0.000</td>\n    </tr>\n    <tr>\n      <th>8627</th>\n      <td>180606-022-0101</td>\n      <td>0.188</td>\n      <td>0.294</td>\n      <td>0.416</td>\n      <td>0.2</td>\n      <td>0.3</td>\n      <td>38.394</td>\n      <td>31.105</td>\n      <td>341</td>\n      <td>0.000</td>\n    </tr>\n    <tr>\n      <th>8628</th>\n      <td>180606-022-0101</td>\n      <td>0.194</td>\n      <td>0.294</td>\n      <td>0.411</td>\n      <td>0.2</td>\n      <td>0.3</td>\n      <td>35.061</td>\n      <td>31.599</td>\n      <td>341</td>\n      <td>0.000</td>\n    </tr>\n    <tr>\n      <th>8629</th>\n      <td>180606-022-0101</td>\n      <td>0.185</td>\n      <td>0.296</td>\n      <td>0.416</td>\n      <td>0.2</td>\n      <td>0.3</td>\n      <td>31.495</td>\n      <td>32.699</td>\n      <td>340</td>\n      <td>0.000</td>\n    </tr>\n    <tr>\n      <th>8630</th>\n      <td>180606-022-0101</td>\n      <td>0.184</td>\n      <td>0.290</td>\n      <td>0.403</td>\n      <td>0.2</td>\n      <td>0.3</td>\n      <td>41.864</td>\n      <td>29.721</td>\n      <td>341</td>\n      <td>0.000</td>\n    </tr>\n  </tbody>\n</table>\n<p>6720 rows × 10 columns</p>\n</div>"
     },
     "execution_count": 15,
     "metadata": {},
     "output_type": "execute_result"
    }
   ],
   "source": [
    "# 1. 먼저 이상치 있으면 그냥 버리는 작업 진행\n",
    "\n",
    "df_refine = df_x_value[df_outlier_TF.sum(axis = 'columns') == 0]\n",
    "\n",
    "df_refine"
   ],
   "metadata": {
    "collapsed": false
   }
  },
  {
   "cell_type": "code",
   "execution_count": null,
   "outputs": [],
   "source": [],
   "metadata": {
    "collapsed": false
   }
  }
 ],
 "metadata": {
  "kernelspec": {
   "display_name": "Python 3",
   "language": "python",
   "name": "python3"
  },
  "language_info": {
   "codemirror_mode": {
    "name": "ipython",
    "version": 2
   },
   "file_extension": ".py",
   "mimetype": "text/x-python",
   "name": "python",
   "nbconvert_exporter": "python",
   "pygments_lexer": "ipython2",
   "version": "2.7.6"
  }
 },
 "nbformat": 4,
 "nbformat_minor": 0
}
